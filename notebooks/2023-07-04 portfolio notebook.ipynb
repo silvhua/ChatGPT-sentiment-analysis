{
 "cells": [
  {
   "attachments": {},
   "cell_type": "markdown",
   "metadata": {},
   "source": [
    "# ChatGPT Sentiment Analysis of Facebook group comments\n",
    "\n",
    "# 1. Objective\n",
    "\n",
    "The internet is rich with qualitative data, and analyzing this data traditionally requires a lot of resources that most individuals and small businesses do not have. ChatGPT can perform classification tasks with qualitative data, a task that has traditionally required the the training and deployment of machine learning models.\n",
    "\n",
    "The goal of this project is to **determine how well ChatGPT performs at text classification**. Specifically, I wanted to **use ChatGPT to improve the workflow of small businesses** that use social media.\n",
    "\n",
    "# 2. Methods\n",
    "\n",
    "This project used the following:\n",
    "* [Facebook Graph API](https://developers.facebook.com/docs/graph-api/reference)\n",
    "* [LangChain](https://api.python.langchain.com/en/latest/api_reference.html#), which uses the [OpenAI API](https://platform.openai.com/overview)\n",
    "* `skikit-learn` and `pandas`\n",
    "* Jupyter Notebook extension in VSCode"
   ]
  },
  {
   "attachments": {},
   "cell_type": "markdown",
   "metadata": {},
   "source": [
    "## Step 1: Get Data from Facebook Group Posts\n",
    "\n",
    "With permission from the admin, I retrieved the 30 most recent posts from a Facebook group associated with a an online personal training business. This data included all the comments to these 30 posts (a total of 64 top-level comments) and the replies to these comments."
   ]
  },
  {
   "cell_type": "code",
   "execution_count": 4,
   "metadata": {},
   "outputs": [],
   "source": [
    "import pandas as pd\n",
    "import sys\n",
    "sys.path.append(r\"C:\\Users\\silvh\\OneDrive\\lighthouse\\custom_python\")\n",
    "from silvhua import *\n",
    "# set the option to wrap text within cells\n",
    "pd.set_option('display.max_colwidth', None)\n",
    "pd.set_option('display.max_rows', 10)\n",
    "pd.set_option('display.max_columns', None)\n",
    "pd.set_option('display.width', None)"
   ]
  },
  {
   "cell_type": "code",
   "execution_count": null,
   "metadata": {},
   "outputs": [],
   "source": [
    "import json\n",
    "import requests\n",
    "\n",
    "with open(\"../online-PT-social-media-NLP/notebooks/credentials.json\") as f:\n",
    "    credentials = json.load(f)\n",
    "\n",
    "ig_user_id = credentials['am_ig_user_id']\n",
    "access_token = credentials['am_fb_access_token']\n",
    "group_id = credentials['SSC_group_id']\n",
    "\n",
    "posts_data_dict = dict()\n",
    "posts_df_dict = dict()\n",
    "comments_response_dict = dict()\n",
    "comments_df_dict = dict()\n",
    "replies_dict = dict()\n",
    "\n",
    "def get_facebook_posts(group_id, access_token, limit=30):\n",
    "    \"\"\"\n",
    "    Makes a GET request to pull posts from a Facebook group using the Facebook API.\n",
    "    Outputs the results into a DataFrame so that each post is a row along with its time stamp, message,\n",
    "    permalink, comments count, reactions, and post ID.\n",
    "    Also outputs the response.json().\n",
    "\n",
    "    Parameters:\n",
    "        group_id (str): The ID of the Facebook group to pull posts from.\n",
    "        access_token (str): An access token with the appropriate permissions to access the group's content.\n",
    "        limit (int): The number of posts to retrieve (default is 100).\n",
    "\n",
    "    Returns:\n",
    "        pandas.DataFrame: A DataFrame containing the posts and their associated data.\n",
    "    \"\"\"\n",
    "    url = f\"https://graph.facebook.com/{group_id}/feed\"\n",
    "\n",
    "    params = {\n",
    "        \"access_token\": access_token,\n",
    "        \"fields\": \"created_time,message,permalink_url,comments.limit(10).summary(true),reactions.limit(500).summary(true).type(LIKE).as(like),reactions.limit(500).summary(true).type(LOVE).as(love),reactions.limit(500).summary(true).type(WOW).as(wow),reactions.limit(500).summary(true).type(HAHA).as(haha),reactions.limit(500).summary(true).type(SAD).as(sad),reactions.limit(500).summary(true).type(ANGRY).as(angry)\",\n",
    "        \"limit\": limit\n",
    "    }\n",
    "    response = requests.get(url, params=params)\n",
    "    status_code = response.status_code\n",
    "    print(\"Response Status Code:\", status_code)\n",
    "    data = response.json()\n",
    "    return data\n",
    "\n",
    "## I will use this as part of the final code for the task\n",
    "def process_response(data):\n",
    "    posts = []\n",
    "    comments = []\n",
    "    for post in data[\"data\"]:\n",
    "        created_time = post.get(\"created_time\")\n",
    "        message = post.get(\"message\")\n",
    "        permalink_url = post.get(\"permalink_url\")\n",
    "        comments_count = post.get(\"comments\", {}).get(\"summary\", {}).get(\"total_count\", 0)\n",
    "        reactions = post.get(\"like\", {}).get(\"summary\", {}).get(\"total_count\", 0), post.get(\"love\", {}).get(\"summary\", {}).get(\"total_count\", 0), post.get(\"wow\", {}).get(\"summary\", {}).get(\"total_count\", 0), post.get(\"haha\", {}).get(\"summary\", {}).get(\"total_count\", 0), post.get(\"sad\", {}).get(\"summary\", {}).get(\"total_count\", 0), post.get(\"angry\", {}).get(\"summary\", {}).get(\"total_count\", 0)\n",
    "        post_id = post.get(\"id\")\n",
    "        posts.append({\n",
    "            \"post_id\": post_id,\n",
    "            \"created_time\": created_time,\n",
    "            \"message\": message,\n",
    "            \"comments_count\": comments_count,\n",
    "            \"like_count\": reactions[0],\n",
    "            \"love_count\": reactions[1],\n",
    "            \"wow_count\": reactions[2],\n",
    "            \"haha_count\": reactions[3],\n",
    "            \"sad_count\": reactions[4],\n",
    "            \"angry_count\": reactions[5],\n",
    "            \"permalink_url\": permalink_url,\n",
    "        })\n",
    "\n",
    "    df = pd.DataFrame(posts)\n",
    "    # Reorder columns\n",
    "    df = df[[\"post_id\", \"created_time\", \"message\", \"comments_count\", \"like_count\", \"love_count\", \"wow_count\", \"haha_count\", \"sad_count\", \"angry_count\", \"permalink_url\"]]\n",
    "    \n",
    "    return df\n",
    "\n",
    "def get_fb_comments(group_id, access_token, limit=30):\n",
    "    \"\"\"\n",
    "    Pulls comments from a Facebook group using the Facebook API and outputs the results into a pandas DataFrame.\n",
    "    \n",
    "    Parameters:\n",
    "    group_id (str): The ID of the Facebook group to pull comments from.\n",
    "    access_token (str): A Facebook access token with the necessary permissions to access the group.\n",
    "    \n",
    "    Returns:\n",
    "    Tuple(pandas.DataFrame, dict): A tuple containing a DataFrame with each comment as a row along with its details and replies,\n",
    "    and the full JSON response from the API.\n",
    "    \"\"\"\n",
    "    # Set up the API endpoint and parameters\n",
    "    url = f\"https://graph.facebook.com/{group_id}/feed\"\n",
    "    params = {\n",
    "        \"fields\": \"comments{created_time,message,from,comments{created_time,message,from}}\",\n",
    "        \"access_token\": access_token,\n",
    "        \"limit\": limit\n",
    "    }\n",
    "\n",
    "    # Make the GET request\n",
    "    response = requests.get(url, params=params)\n",
    "    \n",
    "    # Convert the response to a DataFrame\n",
    "    comments = []\n",
    "    for post in response.json()[\"data\"]:\n",
    "        post_comments = post.get(\"comments\", {}).get(\"data\", [])\n",
    "        for comment in post_comments:\n",
    "            comment_dict = {\n",
    "                \"post_id\": post.get(\"id\"),\n",
    "                \"created_time\": comment.get(\"created_time\"),\n",
    "                \"message\": comment.get(\"message\"),\n",
    "                \"author_id\": comment.get(\"from\", {}).get(\"id\"),\n",
    "                \"author_name\": comment.get(\"from\", {}).get(\"name\"),\n",
    "                \"parent_id\": None,\n",
    "                \"parent_name\": None,\n",
    "            }\n",
    "            parent_comment = comment.get(\"comments\", {}).get(\"data\", [])\n",
    "            if parent_comment:\n",
    "                parent_comment = parent_comment[0]\n",
    "                comment_dict[\"parent_id\"] = parent_comment.get(\"id\")\n",
    "                comment_dict[\"parent_name\"] = parent_comment.get(\"from\", {}).get(\"name\")\n",
    "            comments.append(comment_dict)\n",
    "    df = pd.DataFrame(comments)\n",
    "    return df, response.json()\n",
    "\n",
    "def create_reply_dataframe(json_object, add_replies=False):\n",
    "    # Initialize empty lists to store data\n",
    "    post_id_list = []\n",
    "    parent_comment_message_list = []\n",
    "    comment_id_list = []\n",
    "    reply_comment_message_list = []\n",
    "    reply_created_time_list = []\n",
    "    reply_id_list = []\n",
    "    \n",
    "    # Loop through each post in the json object\n",
    "    for post in json_object:\n",
    "        # Get the post ID\n",
    "        post_id = post['id']\n",
    "        \n",
    "        try: # SH 2023-03-22 10:50 Added this \n",
    "            # Loop through each comment in the post\n",
    "            for comment in post['comments']['data']:\n",
    "                # Get the comment ID and message\n",
    "                comment_id = comment['id']\n",
    "                parent_comment_message = comment['message']\n",
    "                \n",
    "                # Check if the comment has any replies\n",
    "                if add_replies == True:\n",
    "                    # Loop through each reply to the comment\n",
    "                    for reply in comment['comments']['data']:\n",
    "                        if 'comments' in comment:\n",
    "                            # Get the reply ID, message, and creation time\n",
    "                            reply_id = reply['id']\n",
    "                            reply_comment_message = reply['message']\n",
    "                            reply_created_time = reply['created_time']\n",
    "                            \n",
    "                            # Add the data to the lists\n",
    "                            post_id_list.append(post_id)\n",
    "                            parent_comment_message_list.append(parent_comment_message)\n",
    "                            comment_id_list.append(comment_id)\n",
    "                            reply_comment_message_list.append(reply_comment_message)\n",
    "                            reply_created_time_list.append(reply_created_time)\n",
    "                            reply_id_list.append(reply_id)\n",
    "                else:\n",
    "                    # Add the data to the lists\n",
    "                    post_id_list.append(post_id)\n",
    "                    parent_comment_message_list.append(parent_comment_message)\n",
    "                    comment_id_list.append(comment_id)\n",
    "        except Exception  as error:\n",
    "            # exc_type, exc_obj, tb = sys.exc_info()\n",
    "            # f = tb.tb_frame\n",
    "            # lineno = tb.tb_lineno\n",
    "            # filename = f.f_code.co_filename\n",
    "            # print(\"An error occurred on line\", lineno, \"in\", filename, \":\", error)\n",
    "            pass\n",
    "    \n",
    "    # Create a dataframe from the lists\n",
    "    if add_replies == True:\n",
    "        df = pd.DataFrame({\n",
    "            'post_id': post_id_list,\n",
    "            'parent_comment_message': parent_comment_message_list,\n",
    "            'comment_id': comment_id_list,\n",
    "            'reply_comment_message': reply_comment_message_list,\n",
    "            'reply_created_time': reply_created_time_list,\n",
    "            'reply_id': reply_id_list\n",
    "        })\n",
    "    else:\n",
    "        df = pd.DataFrame({\n",
    "            'post_id': post_id_list,\n",
    "            'parent_comment_message': parent_comment_message_list,\n",
    "            'comment_id': comment_id_list,\n",
    "        })\n",
    "    return df\n",
    "\n",
    "def merge_dataframes(comments_df, posts_df, replies_df, add_replies=False):\n",
    "    # merge comments and posts dataframes on post_id\n",
    "    merged_df = pd.merge(comments_df, posts_df, on='post_id', how='outer')\n",
    "    # merge replies dataframe on comment_id\n",
    "    merged_df = pd.merge(merged_df, replies_df, left_on='message_x', right_on='parent_comment_message', how='left')\n",
    "    if add_replies == True:\n",
    "        # rename columns\n",
    "        merged_df = merged_df.rename(columns={\n",
    "            'post_id_x': 'post_id',\n",
    "            'created_time_x': 'comment_created_time',\n",
    "            'created_time_y': 'post_created_time',\n",
    "            'message_x': 'comment_message',\n",
    "            'message_y': 'post_message',\n",
    "            'parent_name_x': 'parent_name',\n",
    "            'reply_comment_message': 'reply_message',\n",
    "            'reply_created_time': 'reply_created_time',\n",
    "            'reply_id': 'reply_id'\n",
    "        })\n",
    "        # drop unnecessary columns\n",
    "        merged_df = merged_df.drop(columns=['parent_name', 'parent_id'])\n",
    "        # reorder columns\n",
    "        merged_df = merged_df[['post_id', 'post_message', 'post_created_time', 'comment_created_time', 'parent_comment_message',\n",
    "                            'comment_id', 'reply_message', 'reply_created_time', 'reply_id']]\n",
    "    else:\n",
    "        # rename columns\n",
    "        merged_df = merged_df.rename(columns={\n",
    "            'post_id_x': 'post_id',\n",
    "            'created_time_x': 'comment_created_time',\n",
    "            'created_time_y': 'post_created_time',\n",
    "            'message_x': 'comment_message',\n",
    "            'message_y': 'post_message',\n",
    "            'parent_name_x': 'parent_name',\n",
    "        })\n",
    "        # drop unnecessary columns\n",
    "        merged_df = merged_df.drop(columns=['parent_name', 'parent_id'])\n",
    "        # reorder columns\n",
    "        merged_df = merged_df[['post_id', 'post_message', 'post_created_time', 'comment_created_time', 'parent_comment_message',\n",
    "                            'comment_id']]\n",
    "    return merged_df\n",
    "\n",
    "def process_posts(df):\n",
    "    \"\"\"\n",
    "    Return the unique non-null parent_comment_message values and the associated post_message values.\n",
    "    \"\"\"\n",
    "    df = df[['parent_comment_message', 'post_message']].drop_duplicates()\n",
    "    df = df[df['parent_comment_message'].notnull()]\n",
    "    df = df[df['post_message'].notnull()]\n",
    "    results = pd.DataFrame(\n",
    "        df.apply(lambda row: f\"You: {row['post_message']}\\n\\nMember: {row['parent_comment_message']}\", axis=1).unique(),\n",
    "        columns=['text'])\n",
    "    return results\n",
    "\n",
    "\n",
    "iteration = 1.11\n",
    "\n",
    "# Get Facebook group posts\n",
    "posts_data_dict[iteration] = get_facebook_posts(group_id, access_token)\n",
    "posts_df_dict[iteration] = process_response(posts_data_dict[iteration])\n",
    "comments_df_dict[iteration], comments_response_dict[iteration] = get_fb_comments(group_id, access_token)\n",
    "replies_dict[iteration] = create_reply_dataframe(comments_response_dict[iteration]['data'], add_replies=0)\n",
    "merged = merge_dataframes(comments_df_dict[iteration], posts_df_dict[iteration], replies_dict[iteration])\n"
   ]
  },
  {
   "cell_type": "code",
   "execution_count": 14,
   "metadata": {},
   "outputs": [
    {
     "data": {
      "text/html": [
       "<div>\n",
       "<style scoped>\n",
       "    .dataframe tbody tr th:only-of-type {\n",
       "        vertical-align: middle;\n",
       "    }\n",
       "\n",
       "    .dataframe tbody tr th {\n",
       "        vertical-align: top;\n",
       "    }\n",
       "\n",
       "    .dataframe thead th {\n",
       "        text-align: right;\n",
       "    }\n",
       "</style>\n",
       "<table border=\"1\" class=\"dataframe\">\n",
       "  <thead>\n",
       "    <tr style=\"text-align: right;\">\n",
       "      <th></th>\n",
       "      <th>post_id</th>\n",
       "      <th>post_message</th>\n",
       "      <th>post_created_time</th>\n",
       "      <th>comment_created_time</th>\n",
       "      <th>parent_comment_message</th>\n",
       "      <th>comment_id</th>\n",
       "    </tr>\n",
       "  </thead>\n",
       "  <tbody>\n",
       "    <tr>\n",
       "      <th>0</th>\n",
       "      <td>2139238999669147_3433340976925603</td>\n",
       "      <td>Greetings team from Airlie Beach 👋\\n\\nReminder there will be no weekly live training next week as I am on holidays 🙏\\n\\nI’m curious - have you any holidays planned this year?</td>\n",
       "      <td>2023-06-25T05:50:18+0000</td>\n",
       "      <td>2023-06-25T06:33:26+0000</td>\n",
       "      <td>Yes 😁</td>\n",
       "      <td>3433357203590647</td>\n",
       "    </tr>\n",
       "    <tr>\n",
       "      <th>1</th>\n",
       "      <td>2139238999669147_3433340976925603</td>\n",
       "      <td>Greetings team from Airlie Beach 👋\\n\\nReminder there will be no weekly live training next week as I am on holidays 🙏\\n\\nI’m curious - have you any holidays planned this year?</td>\n",
       "      <td>2023-06-25T05:50:18+0000</td>\n",
       "      <td>2023-06-25T11:37:43+0000</td>\n",
       "      <td>I’m in Airlie beach too!!</td>\n",
       "      <td>3433488186910882</td>\n",
       "    </tr>\n",
       "    <tr>\n",
       "      <th>2</th>\n",
       "      <td>2139238999669147_3433340976925603</td>\n",
       "      <td>Greetings team from Airlie Beach 👋\\n\\nReminder there will be no weekly live training next week as I am on holidays 🙏\\n\\nI’m curious - have you any holidays planned this year?</td>\n",
       "      <td>2023-06-25T05:50:18+0000</td>\n",
       "      <td>2023-06-25T22:36:44+0000</td>\n",
       "      <td>You are less than 2 hours away from where I am thats so cool I love airlie beach just never find the time to go there anymore</td>\n",
       "      <td>3433796753546692</td>\n",
       "    </tr>\n",
       "    <tr>\n",
       "      <th>3</th>\n",
       "      <td>2139238999669147_3432149000378134</td>\n",
       "      <td>How I stay bikini confident year round 👙\\n\\nFirst off I need to tell you - being bikini confident has actually NOTHING to do with how you look and everything to do with how you feel.\\n\\nSo let me ...</td>\n",
       "      <td>2023-06-23T06:46:23+0000</td>\n",
       "      <td>2023-06-23T07:01:32+0000</td>\n",
       "      <td>…. And you look awesome 👏👏</td>\n",
       "      <td>3432154477044253</td>\n",
       "    </tr>\n",
       "    <tr>\n",
       "      <th>4</th>\n",
       "      <td>2139238999669147_3432149000378134</td>\n",
       "      <td>How I stay bikini confident year round 👙\\n\\nFirst off I need to tell you - being bikini confident has actually NOTHING to do with how you look and everything to do with how you feel.\\n\\nSo let me ...</td>\n",
       "      <td>2023-06-23T06:46:23+0000</td>\n",
       "      <td>2023-06-23T09:39:41+0000</td>\n",
       "      <td>Mind set is everything! Recently in Thailand, our last day. 12 hrs to kill before the flight, wanted to go for a swim, but didn’t want our baggage to weigh over the 25kg with wet swimmers (LOTS of...</td>\n",
       "      <td>3432216450371389</td>\n",
       "    </tr>\n",
       "    <tr>\n",
       "      <th>...</th>\n",
       "      <td>...</td>\n",
       "      <td>...</td>\n",
       "      <td>...</td>\n",
       "      <td>...</td>\n",
       "      <td>...</td>\n",
       "      <td>...</td>\n",
       "    </tr>\n",
       "    <tr>\n",
       "      <th>74</th>\n",
       "      <td>2139238999669147_3426735054252862</td>\n",
       "      <td>If you want to start seeing long term results - we need to stop focusing on exercise on a way to ‘burn calories’.                                    Exercise will only ever contribute to a SMALL a...</td>\n",
       "      <td>2023-06-14T20:48:08+0000</td>\n",
       "      <td>NaN</td>\n",
       "      <td>NaN</td>\n",
       "      <td>NaN</td>\n",
       "    </tr>\n",
       "    <tr>\n",
       "      <th>75</th>\n",
       "      <td>2139238999669147_3425629184363449</td>\n",
       "      <td>Sarah - Nurse - 29 - Roscommon\\n\\n‘Before signing up to Amanda’s Strong and Sassy programme - I had attempted to write to Amanda numerous times but deleted the message’\\n\\n‘Don’t wait as long as I...</td>\n",
       "      <td>2023-06-13T06:42:27+0000</td>\n",
       "      <td>NaN</td>\n",
       "      <td>NaN</td>\n",
       "      <td>NaN</td>\n",
       "    </tr>\n",
       "    <tr>\n",
       "      <th>76</th>\n",
       "      <td>2139238999669147_3422437144682653</td>\n",
       "      <td>How to win the weekend 🏆Tag someone who needs to hear this 👌#nutrition #nutritiongoals #onlinecoach #fitness #fitnesscoach #realresults #realnutrition #explore #explorepage</td>\n",
       "      <td>2023-06-08T20:49:45+0000</td>\n",
       "      <td>NaN</td>\n",
       "      <td>NaN</td>\n",
       "      <td>NaN</td>\n",
       "    </tr>\n",
       "    <tr>\n",
       "      <th>77</th>\n",
       "      <td>2139238999669147_3419678831625151</td>\n",
       "      <td>Perfectionist ladies, it's time to ditch the all-or-nothing mentality and adopt a sustainable approach to fitness that brings lasting transformation.                                     I was once...</td>\n",
       "      <td>2023-06-04T20:59:32+0000</td>\n",
       "      <td>NaN</td>\n",
       "      <td>NaN</td>\n",
       "      <td>NaN</td>\n",
       "    </tr>\n",
       "    <tr>\n",
       "      <th>78</th>\n",
       "      <td>2139238999669147_3417250241868010</td>\n",
       "      <td>Mum of 4 finally achieving the results she’s always wanted to achieve 🎉💪\\n\\nMothers who prioritise their health and fitness are honestly my idols. There’s any and every excuse to not do it and the...</td>\n",
       "      <td>2023-06-01T07:13:27+0000</td>\n",
       "      <td>NaN</td>\n",
       "      <td>NaN</td>\n",
       "      <td>NaN</td>\n",
       "    </tr>\n",
       "  </tbody>\n",
       "</table>\n",
       "<p>79 rows × 6 columns</p>\n",
       "</div>"
      ],
      "text/plain": [
       "                              post_id  \\\n",
       "0   2139238999669147_3433340976925603   \n",
       "1   2139238999669147_3433340976925603   \n",
       "2   2139238999669147_3433340976925603   \n",
       "3   2139238999669147_3432149000378134   \n",
       "4   2139238999669147_3432149000378134   \n",
       "..                                ...   \n",
       "74  2139238999669147_3426735054252862   \n",
       "75  2139238999669147_3425629184363449   \n",
       "76  2139238999669147_3422437144682653   \n",
       "77  2139238999669147_3419678831625151   \n",
       "78  2139238999669147_3417250241868010   \n",
       "\n",
       "                                                                                                                                                                                               post_message  \\\n",
       "0                            Greetings team from Airlie Beach 👋\\n\\nReminder there will be no weekly live training next week as I am on holidays 🙏\\n\\nI’m curious - have you any holidays planned this year?   \n",
       "1                            Greetings team from Airlie Beach 👋\\n\\nReminder there will be no weekly live training next week as I am on holidays 🙏\\n\\nI’m curious - have you any holidays planned this year?   \n",
       "2                            Greetings team from Airlie Beach 👋\\n\\nReminder there will be no weekly live training next week as I am on holidays 🙏\\n\\nI’m curious - have you any holidays planned this year?   \n",
       "3   How I stay bikini confident year round 👙\\n\\nFirst off I need to tell you - being bikini confident has actually NOTHING to do with how you look and everything to do with how you feel.\\n\\nSo let me ...   \n",
       "4   How I stay bikini confident year round 👙\\n\\nFirst off I need to tell you - being bikini confident has actually NOTHING to do with how you look and everything to do with how you feel.\\n\\nSo let me ...   \n",
       "..                                                                                                                                                                                                      ...   \n",
       "74  If you want to start seeing long term results - we need to stop focusing on exercise on a way to ‘burn calories’.                                    Exercise will only ever contribute to a SMALL a...   \n",
       "75  Sarah - Nurse - 29 - Roscommon\\n\\n‘Before signing up to Amanda’s Strong and Sassy programme - I had attempted to write to Amanda numerous times but deleted the message’\\n\\n‘Don’t wait as long as I...   \n",
       "76                             How to win the weekend 🏆Tag someone who needs to hear this 👌#nutrition #nutritiongoals #onlinecoach #fitness #fitnesscoach #realresults #realnutrition #explore #explorepage   \n",
       "77  Perfectionist ladies, it's time to ditch the all-or-nothing mentality and adopt a sustainable approach to fitness that brings lasting transformation.                                     I was once...   \n",
       "78  Mum of 4 finally achieving the results she’s always wanted to achieve 🎉💪\\n\\nMothers who prioritise their health and fitness are honestly my idols. There’s any and every excuse to not do it and the...   \n",
       "\n",
       "           post_created_time      comment_created_time  \\\n",
       "0   2023-06-25T05:50:18+0000  2023-06-25T06:33:26+0000   \n",
       "1   2023-06-25T05:50:18+0000  2023-06-25T11:37:43+0000   \n",
       "2   2023-06-25T05:50:18+0000  2023-06-25T22:36:44+0000   \n",
       "3   2023-06-23T06:46:23+0000  2023-06-23T07:01:32+0000   \n",
       "4   2023-06-23T06:46:23+0000  2023-06-23T09:39:41+0000   \n",
       "..                       ...                       ...   \n",
       "74  2023-06-14T20:48:08+0000                       NaN   \n",
       "75  2023-06-13T06:42:27+0000                       NaN   \n",
       "76  2023-06-08T20:49:45+0000                       NaN   \n",
       "77  2023-06-04T20:59:32+0000                       NaN   \n",
       "78  2023-06-01T07:13:27+0000                       NaN   \n",
       "\n",
       "                                                                                                                                                                                     parent_comment_message  \\\n",
       "0                                                                                                                                                                                                     Yes 😁   \n",
       "1                                                                                                                                                                                 I’m in Airlie beach too!!   \n",
       "2                                                                             You are less than 2 hours away from where I am thats so cool I love airlie beach just never find the time to go there anymore   \n",
       "3                                                                                                                                                                                …. And you look awesome 👏👏   \n",
       "4   Mind set is everything! Recently in Thailand, our last day. 12 hrs to kill before the flight, wanted to go for a swim, but didn’t want our baggage to weigh over the 25kg with wet swimmers (LOTS of...   \n",
       "..                                                                                                                                                                                                      ...   \n",
       "74                                                                                                                                                                                                      NaN   \n",
       "75                                                                                                                                                                                                      NaN   \n",
       "76                                                                                                                                                                                                      NaN   \n",
       "77                                                                                                                                                                                                      NaN   \n",
       "78                                                                                                                                                                                                      NaN   \n",
       "\n",
       "          comment_id  \n",
       "0   3433357203590647  \n",
       "1   3433488186910882  \n",
       "2   3433796753546692  \n",
       "3   3432154477044253  \n",
       "4   3432216450371389  \n",
       "..               ...  \n",
       "74               NaN  \n",
       "75               NaN  \n",
       "76               NaN  \n",
       "77               NaN  \n",
       "78               NaN  \n",
       "\n",
       "[79 rows x 6 columns]"
      ]
     },
     "execution_count": 14,
     "metadata": {},
     "output_type": "execute_result"
    }
   ],
   "source": [
    "merged"
   ]
  },
  {
   "cell_type": "code",
   "execution_count": 24,
   "metadata": {},
   "outputs": [
    {
     "name": "stdout",
     "output_type": "stream",
     "text": [
      "Number of unique posts: 30\n",
      "Number of unique top-level comments: 64\n"
     ]
    }
   ],
   "source": [
    "print(f\"Number of unique posts: {len(merged['post_id'].unique())}\")\n",
    "print(f\"Number of unique top-level comments: {len(merged['comment_id'].unique())}\")"
   ]
  },
  {
   "attachments": {},
   "cell_type": "markdown",
   "metadata": {},
   "source": [
    "## Step 2: Selecting a Subset of Comments for Analysis\n",
    "To limit the sample size for this mini experiment, I simply pikcked the longest comment for each post to analyze. Because not every post had comments, this left me with 18 comments to analyze."
   ]
  },
  {
   "cell_type": "code",
   "execution_count": null,
   "metadata": {},
   "outputs": [
    {
     "name": "stdout",
     "output_type": "stream",
     "text": [
      "Shape of processed DataFrame containing Facebook group posts and comments: (19, 1)\n"
     ]
    },
    {
     "data": {
      "text/html": [
       "<div>\n",
       "<style scoped>\n",
       "    .dataframe tbody tr th:only-of-type {\n",
       "        vertical-align: middle;\n",
       "    }\n",
       "\n",
       "    .dataframe tbody tr th {\n",
       "        vertical-align: top;\n",
       "    }\n",
       "\n",
       "    .dataframe thead th {\n",
       "        text-align: right;\n",
       "    }\n",
       "</style>\n",
       "<table border=\"1\" class=\"dataframe\">\n",
       "  <thead>\n",
       "    <tr style=\"text-align: right;\">\n",
       "      <th></th>\n",
       "      <th>text</th>\n",
       "    </tr>\n",
       "  </thead>\n",
       "  <tbody>\n",
       "    <tr>\n",
       "      <th>0</th>\n",
       "      <td>You: How I stay bikini confident year round 👙\\n\\nFirst off I need to tell you - being bikini confident has actually NOTHING to do with how you look and everything to do with how you feel.\\n\\nSo let me tell you a little story…\\n\\nOnce upon a time I was a self conscious, controlling perfectionist who believed that being skinny and lean would make me happy. \\n\\nI thought having abs and being lean were the definition of the perfect body.\\n\\nAnd I embarked on a journey to achieve ‘perfection’.\\n\\nI ended up exhausted, overwhelmed and disappointed 😔 \\n\\nI was unhappy - in a lot of elements of my life - so I decided to seek the help of a life coach. This was hard for me - as I’m a very strong independent woman so asking for help wasn’t easy. But let me tell you - hands down this changed my life.\\n\\nAfter a very difficult time in my life, I chose to work with a counsellor (for a TOTALLY different reason). \\n\\nSo what has this got to do with me being happy in a bikini? 🤣\\n\\nSeeking help from these people - changed my whole outlook on life. They helped me look internally and forced me to uncover some things I didn’t even know about myself. \\n\\nMy mindset towards myself changed. I stopped focusing on aesthetics as a goal and started working on performance. My relationship with food did a 360 and I started viewing food as fuel instead of calories in versus calories out. I started practising gratitude and meditating. I prioritised sleep instead of ‘grinding’. \\n\\nAnd (for anyone who read the whole copy) that is how I am now bikini confident year round 👙\\n\\nMember: Mind set is everything! Recently in Thailand, our last day. 12 hrs to kill before the flight, wanted to go for a swim, but didn’t want our baggage to weigh over the 25kg with wet swimmers (LOTS of shopping was done  lol) so my friend and I stripped off to our bra and undies walked the 5 metres across the decking and went swimming! 😂🤣 12 mths ago before meeting u, I would never have dreamed of doing this 🤣😂🤣 you only have one body, just learn to love it! ❤️\\nPS you look flipping amazballz!</td>\n",
       "    </tr>\n",
       "    <tr>\n",
       "      <th>1</th>\n",
       "      <td>You: Do it for you ❤️There will always be critics - silence them ✌️#beunapologeticallyyou\\n\\nMember: This comment makes me want to throat 👊🏻👊🏻👊🏻👊🏻\\nI’m so glad you have broad shoulders, cause I think you look AMAZBALLZ!! I’d love to have a figure like yours, but I’m a wee bit busy, so I’ll settle for the one you helped me get!! ❤️😉 If someone is doing things to please another, what a shallow life they live! Love your response stay positive and keep smiling that gorgeous smile of yours! 💪🏻❤️🦵🏻</td>\n",
       "    </tr>\n",
       "    <tr>\n",
       "      <th>2</th>\n",
       "      <td>You: Hey @everyone Throw me some questions for our live training tomorrow? Nutrition, exercise, weight loss etc. anything you need to know - that’s what I’m here for\\n\\nMember: Need some tips for tightening tummy … lost 7kg in 3 months but now got stuck in same weight for more than 2 weeks … what do  I need to change??</td>\n",
       "    </tr>\n",
       "    <tr>\n",
       "      <th>3</th>\n",
       "      <td>You: @everyone can you please send me some questions for our live training Thursday! Last weeks questions were great! Remember I’m trying to help you all as much as possible so use this opportunity 👌\\n\\nMember: Did my measurements today and although my chest and hips seem to be coming down my stomach seems to be going up 😳 what am I doing wrong.</td>\n",
       "    </tr>\n",
       "    <tr>\n",
       "      <th>4</th>\n",
       "      <td>You: Menopause - weights or cardio, 3 sessions a week - what to do, macros and calories - what changes, measurements\\n\\nMember: Thanks a million. You covered my question perfectly. I couldn't care less about calories but am trying to get the old bod healthy 🙂</td>\n",
       "    </tr>\n",
       "    <tr>\n",
       "      <th>5</th>\n",
       "      <td>You: Greetings team from Airlie Beach 👋\\n\\nReminder there will be no weekly live training next week as I am on holidays 🙏\\n\\nI’m curious - have you any holidays planned this year?\\n\\nMember: You are less than 2 hours away from where I am thats so cool I love airlie beach just never find the time to go there anymore</td>\n",
       "    </tr>\n",
       "    <tr>\n",
       "      <th>6</th>\n",
       "      <td>You: ‘I’ll never get results like her’\\n\\nDo you find yourself thinking or saying that? If you do - you’re not alone!!!!\\n\\nThis is something I hear REGULARLY! It starts with something like ‘Yea, but I can’t…\\n\\nThe reality is the women’s results that I post are EXACTLY like you. \\n✅They are real women yielding real results. ✅They are busy - just like you! \\n✅They are mothers - just like you! \\n✅They face the same struggles - just like you! \\n\\nSo what is the REAL difference between them and you? \\n✔️ They believe they can do it and then act.\\n\\nIt’s honestly that simple. They are the women who decided to take action. While you’re still making excuses - they’re working on themselves for themselves ❤️\\n\\nSo next time you see a transformation photo and think ‘Good for them but that will never be me…’ Sam thought exactly the same before she decided to take action. She’s now almost a stone down, with more energy and happier than ever 🙏\\n\\nIf you’re ready for your own transformation - click the link in my bio to submit your waitlist application ✌️\\n\\nMember: I have Crohn’s disease and I have an ulcer on my bowel and I’m only 39 and just have been told that I have neuropathic pain</td>\n",
       "    </tr>\n",
       "    <tr>\n",
       "      <th>7</th>\n",
       "      <td>You: @everyone I’m looking for some questions for Thursdays Q&amp;A - remember all questions Re nutrition, fitness, motivation, mindset are relevant 🙌\\n\\nMember: How to gain more visible leg muscle and bigger glutes. I am eating lots and training hard so not sure what the issue is lol</td>\n",
       "    </tr>\n",
       "    <tr>\n",
       "      <th>8</th>\n",
       "      <td>You: @everyone Live training this week will be on Wednesday at 7am. Can you please pop any questions or topics you'd like me to discuss below :)\\n\\nMember: Is the order of a workout important? Is it ok if u have to do a different set first if machines etc are unavailable?</td>\n",
       "    </tr>\n",
       "    <tr>\n",
       "      <th>9</th>\n",
       "      <td>You: He definitely listens to some of my coaching calls 😂.                         Stay tuned for part 2 tomorrow - it’s not as fun but I’ll actually give you the actual advice to stay on track at weekends 😂#fail #couples #couplegoals #explore #explorepage\\n\\nMember: Love this! \\nThr main key point to take home is.......drink water 😆</td>\n",
       "    </tr>\n",
       "    <tr>\n",
       "      <th>10</th>\n",
       "      <td>You: ‘Sometimes you just have to appreciate where your are. You’ve come along way and you’re still learning and growing. Be proud of yourself’ ❤️\\n\\nMember: Amazing!! I love this (great song too!). Your an inspiration ❤️</td>\n",
       "    </tr>\n",
       "    <tr>\n",
       "      <th>11</th>\n",
       "      <td>You: Order of workouts, period pains and metabolism\\n\\nMember: have a fab holiday wherever you are going I hope it’s warm!</td>\n",
       "    </tr>\n",
       "    <tr>\n",
       "      <th>12</th>\n",
       "      <td>You: It’s time to re write the fitness narrative ❌\\n\\nIf it were as simple as calories and macros - we’d all be doing it. Find a free online calculator- input your data - boom you’re done. Dream body here we come 🔥\\n\\nBut I think both you and I know it’s not that simple. Achieving long term sustainable fitness requires more than that.\\n\\nBut why? \\nWell firstly, we all need support and accountability of some form - even myself as a coach - I have coaches in business and health &amp; fitness! We all need that guidance to make sure what we’re currently doing is aligning with our goals. Someone to reach out to when we’re having a bad week? Or someone to share our success stories with 🙏 \\n\\nI believe knowledge is power. ‘Give a man a fish, you feed him for a day, teach him how to fish - you feed him for a lifetime’. Who doesn’t want to gain knowledge to last them a lifetime? 🎉\\n\\nNutrition is important and for fat loss it is vital. But it’s not the ONLY area that is important - if you’re neglecting sleep, exercising yourself into the ground with no techniques for stress management - watch as fat loss becomes a LOT harder.\\n\\nBut sure what do I know - I’m only a qualified nutritionist who’s helped 100s of women achieve countless body and mind transformations!\\n\\nMember: So so true and this is what you do so well💕</td>\n",
       "    </tr>\n",
       "    <tr>\n",
       "      <th>13</th>\n",
       "      <td>You: @everyone I am looking for 3 ladies who are looking to drop a dress size in June to join my Strong and Sassy programme. If that’s you comment ‘I’m in’ below 👇\\n\\nMember: Is it different to what I'm doing?</td>\n",
       "    </tr>\n",
       "    <tr>\n",
       "      <th>14</th>\n",
       "      <td>You: A successful person doesn’t quit…Hear me out. We all fail ❌It’s PART of the process…No matter what it’s relating to - diet, exercise, sport, careers, relationships etc.There are going to be difficult times. There are gonna to be instances that we fail or we fall. The decision to get back up or succeed is a decision.Those who are successful choose to dust themselves off. Those who don’t - quit! Want to succeed at anything?Stop quitting 🙈\\n\\nMember: Perfectly said! So right on Amy</td>\n",
       "    </tr>\n",
       "    <tr>\n",
       "      <th>15</th>\n",
       "      <td>You: Please excuse how sick I am 🫣 a lot of really good questions answered 👇\\n\\nMember: You're a legend. Thanks so much!</td>\n",
       "    </tr>\n",
       "    <tr>\n",
       "      <th>16</th>\n",
       "      <td>You: Managing a busy day, visible muscle, mood enhancer, how to reduce calorie intake\\n\\nMember: Thanks, Amy!</td>\n",
       "    </tr>\n",
       "    <tr>\n",
       "      <th>17</th>\n",
       "      <td>You: @everyone I’m sure you’ve heard me harp on about calories time in time out - well I’d like to help you ladies understand how to calculate your calories - I’ve derived this tool for you and together I’m hopeful I can help you achieve your goals through knowledge and education ❤️😊 (p.s exsisting clients I already do this calculation for you so no need to download this ✌️) \\n\\n\\n\\nMember: Thank you 🙂</td>\n",
       "    </tr>\n",
       "    <tr>\n",
       "      <th>18</th>\n",
       "      <td>You: Ah but it’s just a glass of wine….    It’s just one beer?                            But is it though?                       Remember, it’s the accumulation of anything that is the problem. It’s never just one day or one drink. The same way one salad or one workout won’t make you healthy - it’s the accumulation over time.                     Is alcohol disrupting your routine? Is it causing you to miss every Monday? Is it causing poor food choices every Sunday?                    One thing I can tell you for certain is it’s negatively impacting your sleep and your metabolic function - even just one glass 🙈.                             I’m sorry to be the bearer of bad news….                                            And btw this is not coming from a pioneer….                                          I’ve been there. I’ve seen the implications it’s had not just on my goals but on my mental health and relationships….                              That’s why I’ve reduced my frequency. Frequency is important. You might just think it’s one drink every other night… but when you accumulate the negative affects it has, you’ll understand that frequency matters.                  #alcohol #isalcoholworthit #onlinecoach #fitnesscoach #transformation #realresults #realpeople #nutritionist #realnutrition\\n\\nMember: Vicious 🤣</td>\n",
       "    </tr>\n",
       "  </tbody>\n",
       "</table>\n",
       "</div>"
      ],
      "text/plain": [
       "                                                                                                                                                                                                                                                                                                                                                                                                                                                                                                                                                                                                                                                                                                                                                                                                                                                                                                                                                                                                                                                                                                                                                                                                                                                                                                                                                                                                                                                                                                                                                                                                                                                                                                                                                                                                                                                                                                                                                                                                                                                                                                                                                       text\n",
       "0   You: How I stay bikini confident year round 👙\\n\\nFirst off I need to tell you - being bikini confident has actually NOTHING to do with how you look and everything to do with how you feel.\\n\\nSo let me tell you a little story…\\n\\nOnce upon a time I was a self conscious, controlling perfectionist who believed that being skinny and lean would make me happy. \\n\\nI thought having abs and being lean were the definition of the perfect body.\\n\\nAnd I embarked on a journey to achieve ‘perfection’.\\n\\nI ended up exhausted, overwhelmed and disappointed 😔 \\n\\nI was unhappy - in a lot of elements of my life - so I decided to seek the help of a life coach. This was hard for me - as I’m a very strong independent woman so asking for help wasn’t easy. But let me tell you - hands down this changed my life.\\n\\nAfter a very difficult time in my life, I chose to work with a counsellor (for a TOTALLY different reason). \\n\\nSo what has this got to do with me being happy in a bikini? 🤣\\n\\nSeeking help from these people - changed my whole outlook on life. They helped me look internally and forced me to uncover some things I didn’t even know about myself. \\n\\nMy mindset towards myself changed. I stopped focusing on aesthetics as a goal and started working on performance. My relationship with food did a 360 and I started viewing food as fuel instead of calories in versus calories out. I started practising gratitude and meditating. I prioritised sleep instead of ‘grinding’. \\n\\nAnd (for anyone who read the whole copy) that is how I am now bikini confident year round 👙\\n\\nMember: Mind set is everything! Recently in Thailand, our last day. 12 hrs to kill before the flight, wanted to go for a swim, but didn’t want our baggage to weigh over the 25kg with wet swimmers (LOTS of shopping was done  lol) so my friend and I stripped off to our bra and undies walked the 5 metres across the decking and went swimming! 😂🤣 12 mths ago before meeting u, I would never have dreamed of doing this 🤣😂🤣 you only have one body, just learn to love it! ❤️\\nPS you look flipping amazballz!\n",
       "1                                                                                                                                                                                                                                                                                                                                                                                                                                                                                                                                                                                                                                                                                                                                                                                                                                                                                                                                                                                                                                                                                                                                                                                                                                                                                                                                                                                                                                                                                                                                                                                                                                         You: Do it for you ❤️There will always be critics - silence them ✌️#beunapologeticallyyou\\n\\nMember: This comment makes me want to throat 👊🏻👊🏻👊🏻👊🏻\\nI’m so glad you have broad shoulders, cause I think you look AMAZBALLZ!! I’d love to have a figure like yours, but I’m a wee bit busy, so I’ll settle for the one you helped me get!! ❤️😉 If someone is doing things to please another, what a shallow life they live! Love your response stay positive and keep smiling that gorgeous smile of yours! 💪🏻❤️🦵🏻\n",
       "2                                                                                                                                                                                                                                                                                                                                                                                                                                                                                                                                                                                                                                                                                                                                                                                                                                                                                                                                                                                                                                                                                                                                                                                                                                                                                                                                                                                                                                                                                                                                                                                                                                                                                                                                                                                                                          You: Hey @everyone Throw me some questions for our live training tomorrow? Nutrition, exercise, weight loss etc. anything you need to know - that’s what I’m here for\\n\\nMember: Need some tips for tightening tummy … lost 7kg in 3 months but now got stuck in same weight for more than 2 weeks … what do  I need to change??\n",
       "3                                                                                                                                                                                                                                                                                                                                                                                                                                                                                                                                                                                                                                                                                                                                                                                                                                                                                                                                                                                                                                                                                                                                                                                                                                                                                                                                                                                                                                                                                                                                                                                                                                                                                                                                                                                               You: @everyone can you please send me some questions for our live training Thursday! Last weeks questions were great! Remember I’m trying to help you all as much as possible so use this opportunity 👌\\n\\nMember: Did my measurements today and although my chest and hips seem to be coming down my stomach seems to be going up 😳 what am I doing wrong.\n",
       "4                                                                                                                                                                                                                                                                                                                                                                                                                                                                                                                                                                                                                                                                                                                                                                                                                                                                                                                                                                                                                                                                                                                                                                                                                                                                                                                                                                                                                                                                                                                                                                                                                                                                                                                                                                                                                                                                                       You: Menopause - weights or cardio, 3 sessions a week - what to do, macros and calories - what changes, measurements\\n\\nMember: Thanks a million. You covered my question perfectly. I couldn't care less about calories but am trying to get the old bod healthy 🙂\n",
       "5                                                                                                                                                                                                                                                                                                                                                                                                                                                                                                                                                                                                                                                                                                                                                                                                                                                                                                                                                                                                                                                                                                                                                                                                                                                                                                                                                                                                                                                                                                                                                                                                                                                                                                                                                                                                                              You: Greetings team from Airlie Beach 👋\\n\\nReminder there will be no weekly live training next week as I am on holidays 🙏\\n\\nI’m curious - have you any holidays planned this year?\\n\\nMember: You are less than 2 hours away from where I am thats so cool I love airlie beach just never find the time to go there anymore\n",
       "6                                                                                                                                                                                                                                                                                                                                                                                                                                                                                                                                                                                                                                                                                                                                                                                                                                                                                                                 You: ‘I’ll never get results like her’\\n\\nDo you find yourself thinking or saying that? If you do - you’re not alone!!!!\\n\\nThis is something I hear REGULARLY! It starts with something like ‘Yea, but I can’t…\\n\\nThe reality is the women’s results that I post are EXACTLY like you. \\n✅They are real women yielding real results. ✅They are busy - just like you! \\n✅They are mothers - just like you! \\n✅They face the same struggles - just like you! \\n\\nSo what is the REAL difference between them and you? \\n✔️ They believe they can do it and then act.\\n\\nIt’s honestly that simple. They are the women who decided to take action. While you’re still making excuses - they’re working on themselves for themselves ❤️\\n\\nSo next time you see a transformation photo and think ‘Good for them but that will never be me…’ Sam thought exactly the same before she decided to take action. She’s now almost a stone down, with more energy and happier than ever 🙏\\n\\nIf you’re ready for your own transformation - click the link in my bio to submit your waitlist application ✌️\\n\\nMember: I have Crohn’s disease and I have an ulcer on my bowel and I’m only 39 and just have been told that I have neuropathic pain\n",
       "7                                                                                                                                                                                                                                                                                                                                                                                                                                                                                                                                                                                                                                                                                                                                                                                                                                                                                                                                                                                                                                                                                                                                                                                                                                                                                                                                                                                                                                                                                                                                                                                                                                                                                                                                                                                                                                                                 You: @everyone I’m looking for some questions for Thursdays Q&A - remember all questions Re nutrition, fitness, motivation, mindset are relevant 🙌\\n\\nMember: How to gain more visible leg muscle and bigger glutes. I am eating lots and training hard so not sure what the issue is lol\n",
       "8                                                                                                                                                                                                                                                                                                                                                                                                                                                                                                                                                                                                                                                                                                                                                                                                                                                                                                                                                                                                                                                                                                                                                                                                                                                                                                                                                                                                                                                                                                                                                                                                                                                                                                                                                                                                                                                                          You: @everyone Live training this week will be on Wednesday at 7am. Can you please pop any questions or topics you'd like me to discuss below :)\\n\\nMember: Is the order of a workout important? Is it ok if u have to do a different set first if machines etc are unavailable?\n",
       "9                                                                                                                                                                                                                                                                                                                                                                                                                                                                                                                                                                                                                                                                                                                                                                                                                                                                                                                                                                                                                                                                                                                                                                                                                                                                                                                                                                                                                                                                                                                                                                                                                                                                                                                                                                                                           You: He definitely listens to some of my coaching calls 😂.                         Stay tuned for part 2 tomorrow - it’s not as fun but I’ll actually give you the actual advice to stay on track at weekends 😂#fail #couples #couplegoals #explore #explorepage\\n\\nMember: Love this! \\nThr main key point to take home is.......drink water 😆\n",
       "10                                                                                                                                                                                                                                                                                                                                                                                                                                                                                                                                                                                                                                                                                                                                                                                                                                                                                                                                                                                                                                                                                                                                                                                                                                                                                                                                                                                                                                                                                                                                                                                                                                                                                                                                                                                                                                                                                                                             You: ‘Sometimes you just have to appreciate where your are. You’ve come along way and you’re still learning and growing. Be proud of yourself’ ❤️\\n\\nMember: Amazing!! I love this (great song too!). Your an inspiration ❤️\n",
       "11                                                                                                                                                                                                                                                                                                                                                                                                                                                                                                                                                                                                                                                                                                                                                                                                                                                                                                                                                                                                                                                                                                                                                                                                                                                                                                                                                                                                                                                                                                                                                                                                                                                                                                                                                                                                                                                                                                                                                                                                                               You: Order of workouts, period pains and metabolism\\n\\nMember: have a fab holiday wherever you are going I hope it’s warm!\n",
       "12                                                                                                                                                                                                                                                                                                                                                                                                                                                                                                                                                                                                                                                                                                                                                                            You: It’s time to re write the fitness narrative ❌\\n\\nIf it were as simple as calories and macros - we’d all be doing it. Find a free online calculator- input your data - boom you’re done. Dream body here we come 🔥\\n\\nBut I think both you and I know it’s not that simple. Achieving long term sustainable fitness requires more than that.\\n\\nBut why? \\nWell firstly, we all need support and accountability of some form - even myself as a coach - I have coaches in business and health & fitness! We all need that guidance to make sure what we’re currently doing is aligning with our goals. Someone to reach out to when we’re having a bad week? Or someone to share our success stories with 🙏 \\n\\nI believe knowledge is power. ‘Give a man a fish, you feed him for a day, teach him how to fish - you feed him for a lifetime’. Who doesn’t want to gain knowledge to last them a lifetime? 🎉\\n\\nNutrition is important and for fat loss it is vital. But it’s not the ONLY area that is important - if you’re neglecting sleep, exercising yourself into the ground with no techniques for stress management - watch as fat loss becomes a LOT harder.\\n\\nBut sure what do I know - I’m only a qualified nutritionist who’s helped 100s of women achieve countless body and mind transformations!\\n\\nMember: So so true and this is what you do so well💕\n",
       "13                                                                                                                                                                                                                                                                                                                                                                                                                                                                                                                                                                                                                                                                                                                                                                                                                                                                                                                                                                                                                                                                                                                                                                                                                                                                                                                                                                                                                                                                                                                                                                                                                                                                                                                                                                                                                                                                                                                                        You: @everyone I am looking for 3 ladies who are looking to drop a dress size in June to join my Strong and Sassy programme. If that’s you comment ‘I’m in’ below 👇\\n\\nMember: Is it different to what I'm doing?\n",
       "14                                                                                                                                                                                                                                                                                                                                                                                                                                                                                                                                                                                                                                                                                                                                                                                                                                                                                                                                                                                                                                                                                                                                                                                                                                                                                                                                                                                                                                                                                                                                                                                                                                                 You: A successful person doesn’t quit…Hear me out. We all fail ❌It’s PART of the process…No matter what it’s relating to - diet, exercise, sport, careers, relationships etc.There are going to be difficult times. There are gonna to be instances that we fail or we fall. The decision to get back up or succeed is a decision.Those who are successful choose to dust themselves off. Those who don’t - quit! Want to succeed at anything?Stop quitting 🙈\\n\\nMember: Perfectly said! So right on Amy\n",
       "15                                                                                                                                                                                                                                                                                                                                                                                                                                                                                                                                                                                                                                                                                                                                                                                                                                                                                                                                                                                                                                                                                                                                                                                                                                                                                                                                                                                                                                                                                                                                                                                                                                                                                                                                                                                                                                                                                                                                                                                                                                 You: Please excuse how sick I am 🫣 a lot of really good questions answered 👇\\n\\nMember: You're a legend. Thanks so much!\n",
       "16                                                                                                                                                                                                                                                                                                                                                                                                                                                                                                                                                                                                                                                                                                                                                                                                                                                                                                                                                                                                                                                                                                                                                                                                                                                                                                                                                                                                                                                                                                                                                                                                                                                                                                                                                                                                                                                                                                                                                                                                                                            You: Managing a busy day, visible muscle, mood enhancer, how to reduce calorie intake\\n\\nMember: Thanks, Amy!\n",
       "17                                                                                                                                                                                                                                                                                                                                                                                                                                                                                                                                                                                                                                                                                                                                                                                                                                                                                                                                                                                                                                                                                                                                                                                                                                                                                                                                                                                                                                                                                                                                                                                                                                                                                                                                    You: @everyone I’m sure you’ve heard me harp on about calories time in time out - well I’d like to help you ladies understand how to calculate your calories - I’ve derived this tool for you and together I’m hopeful I can help you achieve your goals through knowledge and education ❤️😊 (p.s exsisting clients I already do this calculation for you so no need to download this ✌️) \\n\\n\\n\\nMember: Thank you 🙂\n",
       "18                                                                                                                                                                                                                                                                                                                                                                                                                                                                                                                                                                                                                                                                                                                                                                You: Ah but it’s just a glass of wine….    It’s just one beer?                            But is it though?                       Remember, it’s the accumulation of anything that is the problem. It’s never just one day or one drink. The same way one salad or one workout won’t make you healthy - it’s the accumulation over time.                     Is alcohol disrupting your routine? Is it causing you to miss every Monday? Is it causing poor food choices every Sunday?                    One thing I can tell you for certain is it’s negatively impacting your sleep and your metabolic function - even just one glass 🙈.                             I’m sorry to be the bearer of bad news….                                            And btw this is not coming from a pioneer….                                          I’ve been there. I’ve seen the implications it’s had not just on my goals but on my mental health and relationships….                              That’s why I’ve reduced my frequency. Frequency is important. You might just think it’s one drink every other night… but when you accumulate the negative affects it has, you’ll understand that frequency matters.                  #alcohol #isalcoholworthit #onlinecoach #fitnesscoach #transformation #realresults #realpeople #nutritionist #realnutrition\\n\\nMember: Vicious 🤣"
      ]
     },
     "metadata": {},
     "output_type": "display_data"
    }
   ],
   "source": [
    "def process_posts(df_raw):\n",
    "    \"\"\"\n",
    "    Return the unique non-null parent_comment_message values and the associated post_message values.\n",
    "    \"\"\"\n",
    "    df = df_raw.copy()\n",
    "    df = df[['parent_comment_message', 'post_message']].drop_duplicates()\n",
    "    df = df[df['parent_comment_message'].notnull()]\n",
    "    df = df[df['post_message'].notnull()]\n",
    "\n",
    "    # Sort the dataframe by 'post_message' length in descending order\n",
    "    df.sort_values(by='parent_comment_message', key=lambda x: x.str.len(), ascending=False, inplace=True)\n",
    "    df.drop_duplicates(subset='post_message', keep='first', inplace=True)\n",
    "\n",
    "    results = pd.DataFrame(\n",
    "        df.apply(lambda row: f\"YOU: {row['post_message']}\\n\\nMEMBER: {row['parent_comment_message']}\", axis=1).unique(),\n",
    "        columns=['text'])\n",
    "    \n",
    "    results['text'] = results['text'].str.replace('Amanda', 'Amy')\n",
    "    results['text'] = results['text'].str.replace('amanda', 'amy')\n",
    "    print(f'Shape of processed DataFrame containing Facebook group posts and comments: {results.shape}')\n",
    "    return results\n",
    "\n",
    "input_df = process_posts(merged)\n",
    "input_df\n"
   ]
  },
  {
   "attachments": {},
   "cell_type": "markdown",
   "metadata": {},
   "source": [
    "## Step 3. Seek ChatGPT's Wisdom using LangChain\n",
    "\n",
    "Here are the prompt template I used to generate my final responses:\n",
    "\n",
    "Task | Prompt Template\n",
    "--- | ---\n",
    "Sentiment | You are the owner of a personal training business. You use a Facebook group to as a lead generation tool. You write posts in the group to engage with members and position yourself as a coach who can help them achieve their fitness goals. You aim to respond quickly to comments by group members if they request information, express a desire to improve their fitness, have health conditions or injuries, or express dissatisfaction with their current fitness. Below, delimited by triple back ticks, is a post you wrote in the group and a comment from a member:, Determine the sentiment of the member comment as \"positive\", \"neutral\", or \"negative\". ```{text}``` If you are not sure of the answer, return \"?\"\n",
    "Emotion | You are the owner of a personal training business. You use a Facebook group to as a lead generation tool. You write posts in the group to engage with members and position yourself as a coach who can help them achieve their fitness goals. You aim to respond quickly to comments by group members if they request information, express a desire to improve their fitness, have health conditions or injuries, or express dissatisfaction with their current fitness. Below, delimited by triple back ticks, is a post you wrote in the group and a comment from a member:, Determine the main emotion expressed in the member comment. Return your response as a single word. ```{text}``` If you are not sure of the answer, return \"?\"\n",
    "Respond | You are the owner of a personal training business. You use a Facebook group to as a lead generation tool. You write posts in the group to engage with members and position yourself as a coach who can help them achieve their fitness goals. You aim to respond quickly to comments by group members if they request information, express a desire to improve their fitness, have health conditions or injuries, or express dissatisfaction with their current fitness. Below, delimited by triple back ticks, is a post you wrote in the group and a comment from a member:, Indicate whether you need to quickly respond to the message or not using \"yes\" or \"no\". ```{text}``` If you are not sure of the answer, return \"?\""
   ]
  },
  {
   "cell_type": "code",
   "execution_count": null,
   "metadata": {},
   "outputs": [
    {
     "name": "stdout",
     "output_type": "stream",
     "text": [
      "Shape of processed DataFrame containing Facebook group posts and comments: (19, 1)\n",
      "\n",
      "\n",
      "\u001b[1m> Entering new  chain...\u001b[0m\n",
      "\n",
      "\u001b[1m> Finished chain.\u001b[0m\n",
      "\n",
      "\n",
      "\u001b[1m> Entering new  chain...\u001b[0m\n",
      "\n",
      "\u001b[1m> Finished chain.\u001b[0m\n",
      "\n",
      "\n",
      "\u001b[1m> Entering new  chain...\u001b[0m\n",
      "\n",
      "\u001b[1m> Finished chain.\u001b[0m\n",
      "\n",
      "\n",
      "\u001b[1m> Entering new  chain...\u001b[0m\n",
      "\n",
      "\u001b[1m> Finished chain.\u001b[0m\n",
      "\n",
      "\n",
      "\u001b[1m> Entering new  chain...\u001b[0m\n",
      "\n",
      "\u001b[1m> Finished chain.\u001b[0m\n",
      "\n",
      "\n",
      "\u001b[1m> Entering new  chain...\u001b[0m\n",
      "\n",
      "\u001b[1m> Finished chain.\u001b[0m\n",
      "\n",
      "\n",
      "\u001b[1m> Entering new  chain...\u001b[0m\n",
      "\n",
      "\u001b[1m> Finished chain.\u001b[0m\n",
      "\n",
      "\n",
      "\u001b[1m> Entering new  chain...\u001b[0m\n",
      "\n",
      "\u001b[1m> Finished chain.\u001b[0m\n",
      "\n",
      "\n",
      "\u001b[1m> Entering new  chain...\u001b[0m\n",
      "\n",
      "\u001b[1m> Finished chain.\u001b[0m\n",
      "\n",
      "\n",
      "\u001b[1m> Entering new  chain...\u001b[0m\n",
      "\n",
      "\u001b[1m> Finished chain.\u001b[0m\n",
      "\n",
      "\n",
      "\u001b[1m> Entering new  chain...\u001b[0m\n",
      "\n",
      "\u001b[1m> Finished chain.\u001b[0m\n",
      "\n",
      "\n",
      "\u001b[1m> Entering new  chain...\u001b[0m\n",
      "\n",
      "\u001b[1m> Finished chain.\u001b[0m\n",
      "\n",
      "\n",
      "\u001b[1m> Entering new  chain...\u001b[0m\n",
      "\n",
      "\u001b[1m> Finished chain.\u001b[0m\n",
      "\n",
      "\n",
      "\u001b[1m> Entering new  chain...\u001b[0m\n",
      "\n",
      "\u001b[1m> Finished chain.\u001b[0m\n",
      "\n",
      "\n",
      "\u001b[1m> Entering new  chain...\u001b[0m\n",
      "\n",
      "\u001b[1m> Finished chain.\u001b[0m\n",
      "\n",
      "\n",
      "\u001b[1m> Entering new  chain...\u001b[0m\n",
      "\n",
      "\u001b[1m> Finished chain.\u001b[0m\n",
      "\n",
      "\n",
      "\u001b[1m> Entering new  chain...\u001b[0m\n",
      "\n",
      "\u001b[1m> Finished chain.\u001b[0m\n",
      "\n",
      "\n",
      "\u001b[1m> Entering new  chain...\u001b[0m\n",
      "\n",
      "\u001b[1m> Finished chain.\u001b[0m\n",
      "\n",
      "\n",
      "\u001b[1m> Entering new  chain...\u001b[0m\n",
      "\n",
      "\u001b[1m> Finished chain.\u001b[0m\n"
     ]
    }
   ],
   "source": [
    "from langchain.llms import OpenAI\n",
    "from langchain.chains import LLMChain\n",
    "from langchain.prompts import PromptTemplate\n",
    "from langchain.chains import SequentialChain\n",
    "import os\n",
    "os.getenv('OPENAI_API_KEY')\n",
    "\n",
    "def create_LLMChain(template, input_variables, output_key, llm=OpenAI(temperature=0, max_tokens=100)):\n",
    "    \"\"\"\n",
    "    Create an LLMChain object.\n",
    "    Parameters:\n",
    "        - template (str): The template for the prompt, i.e. the value of the `template` \n",
    "            parameter in the PromptTemplate class.\n",
    "        - input_variables (List[str]) \n",
    "        - output_key (str): The key of the output variable.\n",
    "        - llm (OpenAI object): Default is OpenAI()\n",
    "\n",
    "    Returns:\n",
    "        - LLMChain object\n",
    "    \"\"\"\n",
    "    prompt_template = PromptTemplate(\n",
    "        template=template, input_variables=input_variables)\n",
    "    chain = LLMChain(\n",
    "        llm=llm, prompt=prompt_template, output_key=output_key)\n",
    "    return chain, prompt_template.template\n",
    "\n",
    "def analyze_text_sentiment(text, llm=OpenAI(temperature=0, max_tokens=200)):\n",
    "    \"\"\"\n",
    "    Analyze the sentiment of a text.\n",
    "    Parameters:\n",
    "        - text (str): The text to analyze.\n",
    "        - llm (OpenAI object): Default is OpenAI()\n",
    "\n",
    "    Returns:\n",
    "        - sentiment (str): The sentiment of the text.\n",
    "    \"\"\"\n",
    "    \n",
    "    # openai.api_key = os.getenv('api_openai_p')\n",
    "    template_root = \"\"\"\n",
    "    You are the owner of a personal training business. You use a Facebook group to as a lead generation tool.\n",
    "    You write posts in the group to engage with members and position yourself as \\\n",
    "    a coach who can help them achieve their fitness goals.\n",
    "    You aim to respond quickly to comments by group members if they request information, \\\n",
    "    express a desire to improve their fitness, have health conditions or injuries, \\\n",
    "    or express dissatisfaction with their current fitness.\n",
    "    Below, delimited by triple back ticks, is a post you wrote in the group and a comment from a member:, \n",
    "    \"\"\"\n",
    "    templates = {\n",
    "        'sentiment': 'Determine the sentiment of the member comment as \"positive\", \"neutral\", or \"negative\".',\n",
    "        'emotions': 'Determine the main emotion expressed in the member comment. Return your response as a single word.',\n",
    "        'respond': 'Indicate whether you need to quickly respond to the message or not using \"yes\" or \"no\".',\n",
    "    }\n",
    "    template_end = 'If you are not sure of the answer, return \"?\"'\n",
    "    chain_dict = {}\n",
    "    prompt_dict = {}\n",
    "    for template in templates:\n",
    "        chain_dict[template], prompt_dict[template] = create_LLMChain(\n",
    "            template_root+templates[template]+' ```{text}``` '+template_end, \n",
    "            input_variables=['text'], output_key=template,\n",
    "            llm=llm)\n",
    "    overall_chain = SequentialChain(\n",
    "        chains = [chain for chain in chain_dict.values()], \n",
    "        input_variables = ['text' for chain in chain_dict.values()],\n",
    "        output_variables = list(chain_dict.keys()), verbose=True\n",
    "    )\n",
    "    response_dict = overall_chain(text)\n",
    "    return response_dict, prompt_dict\n",
    "\n",
    "def batch_analyze_text_sentiment_from_df(messages_df, key='text'):\n",
    "    response_dict = dict()\n",
    "    prompt_dict = dict()\n",
    "    messages_list = messages_df[key].tolist()\n",
    "    failures = 0\n",
    "    for iteration_id, message in enumerate(messages_list):\n",
    "        # print(iteration_id, message)\n",
    "        try:\n",
    "            response_dict[iteration_id], prompt_dict[iteration_id] = analyze_text_sentiment(message)\n",
    "        except Exception as error:\n",
    "            exc_type, exc_obj, tb = sys.exc_info()\n",
    "            f = tb.tb_frame\n",
    "            lineno = tb.tb_lineno\n",
    "            file = f.f_code.co_filename\n",
    "            print(\"An error occurred on line\", lineno, \"in\", file, \":\", error)\n",
    "            print('\\t...Error making chatbot request')\n",
    "            failures += 1\n",
    "            if failures > 2:\n",
    "                print('\\t...Too many failures, stopping')\n",
    "                break\n",
    "    return response_dict, prompt_dict\n",
    "\n",
    "def create_df_from_response(response):\n",
    "    \"\"\"\n",
    "    Convert the response into a dataframe and strip white spaces at the start and end of text.\n",
    "    \"\"\"\n",
    "    df = pd.DataFrame(response).transpose()\n",
    "    for column in df.columns:\n",
    "        df[column] = df[column].str.strip().str.replace('\\n', ' ')\n",
    "        df[column] = df[column].str.strip().str.replace('YOU:', '[YOU]')\n",
    "        df[column] = df[column].str.strip().str.replace('MEMBER:', '[MEMBER]')\n",
    "    return df\n",
    "\n",
    "prompt_dict = dict()\n",
    "message_dict = dict()\n",
    "response_dict = dict()\n",
    "\n",
    "iteration_id = 2\n",
    "\n",
    "response_dict[iteration_id], prompt_dict[iteration_id] = batch_analyze_text_sentiment_from_df(input_df)"
   ]
  },
  {
   "attachments": {},
   "cell_type": "markdown",
   "metadata": {},
   "source": [
    "# 3. Results\n",
    "\n",
    "This table shows:\n",
    "* `text`: The input data, i.e. the caption of the Facebook group post (\"You\") and the comment from a group member (\"MEMBER\").\n",
    "* `sentiment`, `emotions`, and `respond`: ChatGPT's responses to the corresponding task prompt."
   ]
  },
  {
   "cell_type": "code",
   "execution_count": 20,
   "metadata": {},
   "outputs": [
    {
     "name": "stdout",
     "output_type": "stream",
     "text": [
      "\tTime completed: 2023-07-04 22:50:38.232445\n",
      "Dictionary keys: [1.1, 1.2, 2]\n",
      "\tTime completed: 2023-07-04 22:50:38.239005\n",
      "Dictionary keys: [1.1, 1.2, 2]\n"
     ]
    }
   ],
   "source": [
    "# Load previously pickled object\n",
    "path = r'C:\\Users\\silvh\\OneDrive\\lighthouse\\portfolio-projects\\ChatGPT-sentiment-analysis\\outputs\\raw\\2023-07-01'\n",
    "iteration = 2\n",
    "prompt_dict = loadpickle('prompt_dict_2023-07-02_1903.sav', path)\n",
    "response_dict = loadpickle('response_dict_2023-07-02_1903.sav', path)"
   ]
  },
  {
   "attachments": {},
   "cell_type": "markdown",
   "metadata": {},
   "source": [
    "## ChatGPT's Responses"
   ]
  },
  {
   "cell_type": "code",
   "execution_count": null,
   "metadata": {},
   "outputs": [
    {
     "data": {
      "text/html": [
       "<div>\n",
       "<style scoped>\n",
       "    .dataframe tbody tr th:only-of-type {\n",
       "        vertical-align: middle;\n",
       "    }\n",
       "\n",
       "    .dataframe tbody tr th {\n",
       "        vertical-align: top;\n",
       "    }\n",
       "\n",
       "    .dataframe thead th {\n",
       "        text-align: right;\n",
       "    }\n",
       "</style>\n",
       "<table border=\"1\" class=\"dataframe\">\n",
       "  <thead>\n",
       "    <tr style=\"text-align: right;\">\n",
       "      <th></th>\n",
       "      <th>text</th>\n",
       "      <th>sentiment</th>\n",
       "      <th>emotions</th>\n",
       "      <th>respond</th>\n",
       "    </tr>\n",
       "  </thead>\n",
       "  <tbody>\n",
       "    <tr>\n",
       "      <th>0</th>\n",
       "      <td>[YOU] How I stay bikini confident year round 👙  First off I need to tell you - being bikini confident has actually NOTHING to do with how you look and everything to do with how you feel.  So let me tell you a little story…  Once upon a time I was a self conscious, controlling perfectionist who believed that being skinny and lean would make me happy.   I thought having abs and being lean were the definition of the perfect body.  And I embarked on a journey to achieve ‘perfection’.  I ended up exhausted, overwhelmed and disappointed 😔   I was unhappy - in a lot of elements of my life - so I decided to seek the help of a life coach. This was hard for me - as I’m a very strong independent woman so asking for help wasn’t easy. But let me tell you - hands down this changed my life.  After a very difficult time in my life, I chose to work with a counsellor (for a TOTALLY different reason).   So what has this got to do with me being happy in a bikini? 🤣  Seeking help from these people - changed my whole outlook on life. They helped me look internally and forced me to uncover some things I didn’t even know about myself.   My mindset towards myself changed. I stopped focusing on aesthetics as a goal and started working on performance. My relationship with food did a 360 and I started viewing food as fuel instead of calories in versus calories out. I started practising gratitude and meditating. I prioritised sleep instead of ‘grinding’.   And (for anyone who read the whole copy) that is how I am now bikini confident year round 👙  [MEMBER] Mind set is everything! Recently in Thailand, our last day. 12 hrs to kill before the flight, wanted to go for a swim, but didn’t want our baggage to weigh over the 25kg with wet swimmers (LOTS of shopping was done  lol) so my friend and I stripped off to our bra and undies walked the 5 metres across the decking and went swimming! 😂🤣 12 mths ago before meeting u, I would never have dreamed of doing this 🤣😂🤣 you only have one body, just learn to love it! ❤️ PS you look flipping amazballz!</td>\n",
       "      <td>Positive</td>\n",
       "      <td>Empathy</td>\n",
       "      <td>No</td>\n",
       "    </tr>\n",
       "    <tr>\n",
       "      <th>1</th>\n",
       "      <td>[YOU] Do it for you ❤️There will always be critics - silence them ✌️#beunapologeticallyyou  [MEMBER] This comment makes me want to throat 👊🏻👊🏻👊🏻👊🏻 I’m so glad you have broad shoulders, cause I think you look AMAZBALLZ!! I’d love to have a figure like yours, but I’m a wee bit busy, so I’ll settle for the one you helped me get!! ❤️😉 If someone is doing things to please another, what a shallow life they live! Love your response stay positive and keep smiling that gorgeous smile of yours! 💪🏻❤️🦵🏻</td>\n",
       "      <td>Positive</td>\n",
       "      <td>Encouragement</td>\n",
       "      <td>No</td>\n",
       "    </tr>\n",
       "    <tr>\n",
       "      <th>2</th>\n",
       "      <td>[YOU] Hey @everyone Throw me some questions for our live training tomorrow? Nutrition, exercise, weight loss etc. anything you need to know - that’s what I’m here for  [MEMBER] Need some tips for tightening tummy … lost 7kg in 3 months but now got stuck in same weight for more than 2 weeks … what do  I need to change??</td>\n",
       "      <td>Positive</td>\n",
       "      <td>Desire</td>\n",
       "      <td>Yes</td>\n",
       "    </tr>\n",
       "    <tr>\n",
       "      <th>3</th>\n",
       "      <td>[YOU] @everyone can you please send me some questions for our live training Thursday! Last weeks questions were great! Remember I’m trying to help you all as much as possible so use this opportunity 👌  [MEMBER] Did my measurements today and although my chest and hips seem to be coming down my stomach seems to be going up 😳 what am I doing wrong.</td>\n",
       "      <td>Positive</td>\n",
       "      <td>Frustration</td>\n",
       "      <td>Yes</td>\n",
       "    </tr>\n",
       "    <tr>\n",
       "      <th>4</th>\n",
       "      <td>[YOU] Menopause - weights or cardio, 3 sessions a week - what to do, macros and calories - what changes, measurements  [MEMBER] Thanks a million. You covered my question perfectly. I couldn't care less about calories but am trying to get the old bod healthy 🙂</td>\n",
       "      <td>Positive</td>\n",
       "      <td>Thanks</td>\n",
       "      <td>No</td>\n",
       "    </tr>\n",
       "    <tr>\n",
       "      <th>5</th>\n",
       "      <td>[YOU] Greetings team from Airlie Beach 👋  Reminder there will be no weekly live training next week as I am on holidays 🙏  I’m curious - have you any holidays planned this year?  [MEMBER] You are less than 2 hours away from where I am thats so cool I love airlie beach just never find the time to go there anymore</td>\n",
       "      <td>Positive</td>\n",
       "      <td>Disappointment</td>\n",
       "      <td>No</td>\n",
       "    </tr>\n",
       "    <tr>\n",
       "      <th>6</th>\n",
       "      <td>[YOU] ‘I’ll never get results like her’  Do you find yourself thinking or saying that? If you do - you’re not alone!!!!  This is something I hear REGULARLY! It starts with something like ‘Yea, but I can’t…  The reality is the women’s results that I post are EXACTLY like you.  ✅They are real women yielding real results. ✅They are busy - just like you!  ✅They are mothers - just like you!  ✅They face the same struggles - just like you!   So what is the REAL difference between them and you?  ✔️ They believe they can do it and then act.  It’s honestly that simple. They are the women who decided to take action. While you’re still making excuses - they’re working on themselves for themselves ❤️  So next time you see a transformation photo and think ‘Good for them but that will never be me…’ Sam thought exactly the same before she decided to take action. She’s now almost a stone down, with more energy and happier than ever 🙏  If you’re ready for your own transformation - click the link in my bio to submit your waitlist application ✌️  [MEMBER] I have Crohn’s disease and I have an ulcer on my bowel and I’m only 39 and just have been told that I have neuropathic pain</td>\n",
       "      <td>Positive</td>\n",
       "      <td>Concern</td>\n",
       "      <td>Yes</td>\n",
       "    </tr>\n",
       "    <tr>\n",
       "      <th>7</th>\n",
       "      <td>[YOU] @everyone I’m looking for some questions for Thursdays Q&amp;A - remember all questions Re nutrition, fitness, motivation, mindset are relevant 🙌  [MEMBER] How to gain more visible leg muscle and bigger glutes. I am eating lots and training hard so not sure what the issue is lol</td>\n",
       "      <td>Positive</td>\n",
       "      <td>Frustration</td>\n",
       "      <td>Yes</td>\n",
       "    </tr>\n",
       "    <tr>\n",
       "      <th>8</th>\n",
       "      <td>[YOU] @everyone Live training this week will be on Wednesday at 7am. Can you please pop any questions or topics you'd like me to discuss below :)  [MEMBER] Is the order of a workout important? Is it ok if u have to do a different set first if machines etc are unavailable?</td>\n",
       "      <td>Neutral</td>\n",
       "      <td>Confusion</td>\n",
       "      <td>Yes</td>\n",
       "    </tr>\n",
       "    <tr>\n",
       "      <th>9</th>\n",
       "      <td>[YOU] He definitely listens to some of my coaching calls 😂.                         Stay tuned for part 2 tomorrow - it’s not as fun but I’ll actually give you the actual advice to stay on track at weekends 😂#fail #couples #couplegoals #explore #explorepage  [MEMBER] Love this!  Thr main key point to take home is.......drink water 😆</td>\n",
       "      <td>Positive</td>\n",
       "      <td>Love</td>\n",
       "      <td>No</td>\n",
       "    </tr>\n",
       "    <tr>\n",
       "      <th>10</th>\n",
       "      <td>[YOU] ‘Sometimes you just have to appreciate where your are. You’ve come along way and you’re still learning and growing. Be proud of yourself’ ❤️  [MEMBER] Amazing!! I love this (great song too!). Your an inspiration ❤️</td>\n",
       "      <td>Positive</td>\n",
       "      <td>Appreciation</td>\n",
       "      <td>No</td>\n",
       "    </tr>\n",
       "    <tr>\n",
       "      <th>11</th>\n",
       "      <td>[YOU] Order of workouts, period pains and metabolism  [MEMBER] have a fab holiday wherever you are going I hope it’s warm!</td>\n",
       "      <td>Positive</td>\n",
       "      <td>Wishfulness</td>\n",
       "      <td>No.</td>\n",
       "    </tr>\n",
       "    <tr>\n",
       "      <th>12</th>\n",
       "      <td>[YOU] It’s time to re write the fitness narrative ❌  If it were as simple as calories and macros - we’d all be doing it. Find a free online calculator- input your data - boom you’re done. Dream body here we come 🔥  But I think both you and I know it’s not that simple. Achieving long term sustainable fitness requires more than that.  But why?  Well firstly, we all need support and accountability of some form - even myself as a coach - I have coaches in business and health &amp; fitness! We all need that guidance to make sure what we’re currently doing is aligning with our goals. Someone to reach out to when we’re having a bad week? Or someone to share our success stories with 🙏   I believe knowledge is power. ‘Give a man a fish, you feed him for a day, teach him how to fish - you feed him for a lifetime’. Who doesn’t want to gain knowledge to last them a lifetime? 🎉  Nutrition is important and for fat loss it is vital. But it’s not the ONLY area that is important - if you’re neglecting sleep, exercising yourself into the ground with no techniques for stress management - watch as fat loss becomes a LOT harder.  But sure what do I know - I’m only a qualified nutritionist who’s helped 100s of women achieve countless body and mind transformations!  [MEMBER] So so true and this is what you do so well💕</td>\n",
       "      <td>Positive</td>\n",
       "      <td>Appreciation</td>\n",
       "      <td>No</td>\n",
       "    </tr>\n",
       "    <tr>\n",
       "      <th>13</th>\n",
       "      <td>[YOU] @everyone I am looking for 3 ladies who are looking to drop a dress size in June to join my Strong and Sassy programme. If that’s you comment ‘I’m in’ below 👇  [MEMBER] Is it different to what I'm doing?</td>\n",
       "      <td>Neutral</td>\n",
       "      <td>Curious.</td>\n",
       "      <td>Yes</td>\n",
       "    </tr>\n",
       "    <tr>\n",
       "      <th>14</th>\n",
       "      <td>[YOU] A successful person doesn’t quit…Hear me out. We all fail ❌It’s PART of the process…No matter what it’s relating to - diet, exercise, sport, careers, relationships etc.There are going to be difficult times. There are gonna to be instances that we fail or we fall. The decision to get back up or succeed is a decision.Those who are successful choose to dust themselves off. Those who don’t - quit! Want to succeed at anything?Stop quitting 🙈  [MEMBER] Perfectly said! So right on Amy</td>\n",
       "      <td>Positive</td>\n",
       "      <td>Encouragement</td>\n",
       "      <td>No</td>\n",
       "    </tr>\n",
       "    <tr>\n",
       "      <th>15</th>\n",
       "      <td>[YOU] Please excuse how sick I am 🫣 a lot of really good questions answered 👇  [MEMBER] You're a legend. Thanks so much!</td>\n",
       "      <td>Positive</td>\n",
       "      <td>Appreciation</td>\n",
       "      <td>No</td>\n",
       "    </tr>\n",
       "    <tr>\n",
       "      <th>16</th>\n",
       "      <td>[YOU] Managing a busy day, visible muscle, mood enhancer, how to reduce calorie intake  [MEMBER] Thanks, Amy!</td>\n",
       "      <td>Positive</td>\n",
       "      <td>Thanks</td>\n",
       "      <td>No</td>\n",
       "    </tr>\n",
       "    <tr>\n",
       "      <th>17</th>\n",
       "      <td>[YOU] @everyone I’m sure you’ve heard me harp on about calories time in time out - well I’d like to help you ladies understand how to calculate your calories - I’ve derived this tool for you and together I’m hopeful I can help you achieve your goals through knowledge and education ❤️😊 (p.s exsisting clients I already do this calculation for you so no need to download this ✌️)     [MEMBER] Thank you 🙂</td>\n",
       "      <td>Positive</td>\n",
       "      <td>Gratitude</td>\n",
       "      <td>Yes</td>\n",
       "    </tr>\n",
       "    <tr>\n",
       "      <th>18</th>\n",
       "      <td>[YOU] Ah but it’s just a glass of wine….    It’s just one beer?                            But is it though?                       Remember, it’s the accumulation of anything that is the problem. It’s never just one day or one drink. The same way one salad or one workout won’t make you healthy - it’s the accumulation over time.                     Is alcohol disrupting your routine? Is it causing you to miss every Monday? Is it causing poor food choices every Sunday?                    One thing I can tell you for certain is it’s negatively impacting your sleep and your metabolic function - even just one glass 🙈.                             I’m sorry to be the bearer of bad news….                                            And btw this is not coming from a pioneer….                                          I’ve been there. I’ve seen the implications it’s had not just on my goals but on my mental health and relationships….                              That’s why I’ve reduced my frequency. Frequency is important. You might just think it’s one drink every other night… but when you accumulate the negative affects it has, you’ll understand that frequency matters.                  #alcohol #isalcoholworthit #onlinecoach #fitnesscoach #transformation #realresults #realpeople #nutritionist #realnutrition  [MEMBER] Vicious 🤣</td>\n",
       "      <td>Positive</td>\n",
       "      <td>Frustration</td>\n",
       "      <td>No</td>\n",
       "    </tr>\n",
       "  </tbody>\n",
       "</table>\n",
       "</div>"
      ],
      "text/plain": [
       "                                                                                                                                                                                                                                                                                                                                                                                                                                                                                                                                                                                                                                                                                                                                                                                                                                                                                                                                                                                                                                                                                                                                                                                                                                                                                                                                                                                                                                                                                                                                                                                                                                                                                                                                                                                                                                                                                                                                                                                                                                                                                                                              text  \\\n",
       "0   [YOU] How I stay bikini confident year round 👙  First off I need to tell you - being bikini confident has actually NOTHING to do with how you look and everything to do with how you feel.  So let me tell you a little story…  Once upon a time I was a self conscious, controlling perfectionist who believed that being skinny and lean would make me happy.   I thought having abs and being lean were the definition of the perfect body.  And I embarked on a journey to achieve ‘perfection’.  I ended up exhausted, overwhelmed and disappointed 😔   I was unhappy - in a lot of elements of my life - so I decided to seek the help of a life coach. This was hard for me - as I’m a very strong independent woman so asking for help wasn’t easy. But let me tell you - hands down this changed my life.  After a very difficult time in my life, I chose to work with a counsellor (for a TOTALLY different reason).   So what has this got to do with me being happy in a bikini? 🤣  Seeking help from these people - changed my whole outlook on life. They helped me look internally and forced me to uncover some things I didn’t even know about myself.   My mindset towards myself changed. I stopped focusing on aesthetics as a goal and started working on performance. My relationship with food did a 360 and I started viewing food as fuel instead of calories in versus calories out. I started practising gratitude and meditating. I prioritised sleep instead of ‘grinding’.   And (for anyone who read the whole copy) that is how I am now bikini confident year round 👙  [MEMBER] Mind set is everything! Recently in Thailand, our last day. 12 hrs to kill before the flight, wanted to go for a swim, but didn’t want our baggage to weigh over the 25kg with wet swimmers (LOTS of shopping was done  lol) so my friend and I stripped off to our bra and undies walked the 5 metres across the decking and went swimming! 😂🤣 12 mths ago before meeting u, I would never have dreamed of doing this 🤣😂🤣 you only have one body, just learn to love it! ❤️ PS you look flipping amazballz!   \n",
       "1                                                                                                                                                                                                                                                                                                                                                                                                                                                                                                                                                                                                                                                                                                                                                                                                                                                                                                                                                                                                                                                                                                                                                                                                                                                                                                                                                                                                                                                                                                                                                                                                                 [YOU] Do it for you ❤️There will always be critics - silence them ✌️#beunapologeticallyyou  [MEMBER] This comment makes me want to throat 👊🏻👊🏻👊🏻👊🏻 I’m so glad you have broad shoulders, cause I think you look AMAZBALLZ!! I’d love to have a figure like yours, but I’m a wee bit busy, so I’ll settle for the one you helped me get!! ❤️😉 If someone is doing things to please another, what a shallow life they live! Love your response stay positive and keep smiling that gorgeous smile of yours! 💪🏻❤️🦵🏻   \n",
       "2                                                                                                                                                                                                                                                                                                                                                                                                                                                                                                                                                                                                                                                                                                                                                                                                                                                                                                                                                                                                                                                                                                                                                                                                                                                                                                                                                                                                                                                                                                                                                                                                                                                                                                                                                                                                 [YOU] Hey @everyone Throw me some questions for our live training tomorrow? Nutrition, exercise, weight loss etc. anything you need to know - that’s what I’m here for  [MEMBER] Need some tips for tightening tummy … lost 7kg in 3 months but now got stuck in same weight for more than 2 weeks … what do  I need to change??   \n",
       "3                                                                                                                                                                                                                                                                                                                                                                                                                                                                                                                                                                                                                                                                                                                                                                                                                                                                                                                                                                                                                                                                                                                                                                                                                                                                                                                                                                                                                                                                                                                                                                                                                                                                                                                                                                      [YOU] @everyone can you please send me some questions for our live training Thursday! Last weeks questions were great! Remember I’m trying to help you all as much as possible so use this opportunity 👌  [MEMBER] Did my measurements today and although my chest and hips seem to be coming down my stomach seems to be going up 😳 what am I doing wrong.   \n",
       "4                                                                                                                                                                                                                                                                                                                                                                                                                                                                                                                                                                                                                                                                                                                                                                                                                                                                                                                                                                                                                                                                                                                                                                                                                                                                                                                                                                                                                                                                                                                                                                                                                                                                                                                                                                                                                                                              [YOU] Menopause - weights or cardio, 3 sessions a week - what to do, macros and calories - what changes, measurements  [MEMBER] Thanks a million. You covered my question perfectly. I couldn't care less about calories but am trying to get the old bod healthy 🙂   \n",
       "5                                                                                                                                                                                                                                                                                                                                                                                                                                                                                                                                                                                                                                                                                                                                                                                                                                                                                                                                                                                                                                                                                                                                                                                                                                                                                                                                                                                                                                                                                                                                                                                                                                                                                                                                                                                                         [YOU] Greetings team from Airlie Beach 👋  Reminder there will be no weekly live training next week as I am on holidays 🙏  I’m curious - have you any holidays planned this year?  [MEMBER] You are less than 2 hours away from where I am thats so cool I love airlie beach just never find the time to go there anymore   \n",
       "6                                                                                                                                                                                                                                                                                                                                                                                                                                                                                                                                                                                                                                                                                                                                                                                                                                                                                                          [YOU] ‘I’ll never get results like her’  Do you find yourself thinking or saying that? If you do - you’re not alone!!!!  This is something I hear REGULARLY! It starts with something like ‘Yea, but I can’t…  The reality is the women’s results that I post are EXACTLY like you.  ✅They are real women yielding real results. ✅They are busy - just like you!  ✅They are mothers - just like you!  ✅They face the same struggles - just like you!   So what is the REAL difference between them and you?  ✔️ They believe they can do it and then act.  It’s honestly that simple. They are the women who decided to take action. While you’re still making excuses - they’re working on themselves for themselves ❤️  So next time you see a transformation photo and think ‘Good for them but that will never be me…’ Sam thought exactly the same before she decided to take action. She’s now almost a stone down, with more energy and happier than ever 🙏  If you’re ready for your own transformation - click the link in my bio to submit your waitlist application ✌️  [MEMBER] I have Crohn’s disease and I have an ulcer on my bowel and I’m only 39 and just have been told that I have neuropathic pain   \n",
       "7                                                                                                                                                                                                                                                                                                                                                                                                                                                                                                                                                                                                                                                                                                                                                                                                                                                                                                                                                                                                                                                                                                                                                                                                                                                                                                                                                                                                                                                                                                                                                                                                                                                                                                                                                                                                                                        [YOU] @everyone I’m looking for some questions for Thursdays Q&A - remember all questions Re nutrition, fitness, motivation, mindset are relevant 🙌  [MEMBER] How to gain more visible leg muscle and bigger glutes. I am eating lots and training hard so not sure what the issue is lol   \n",
       "8                                                                                                                                                                                                                                                                                                                                                                                                                                                                                                                                                                                                                                                                                                                                                                                                                                                                                                                                                                                                                                                                                                                                                                                                                                                                                                                                                                                                                                                                                                                                                                                                                                                                                                                                                                                                                                                 [YOU] @everyone Live training this week will be on Wednesday at 7am. Can you please pop any questions or topics you'd like me to discuss below :)  [MEMBER] Is the order of a workout important? Is it ok if u have to do a different set first if machines etc are unavailable?   \n",
       "9                                                                                                                                                                                                                                                                                                                                                                                                                                                                                                                                                                                                                                                                                                                                                                                                                                                                                                                                                                                                                                                                                                                                                                                                                                                                                                                                                                                                                                                                                                                                                                                                                                                                                                                                                                                   [YOU] He definitely listens to some of my coaching calls 😂.                         Stay tuned for part 2 tomorrow - it’s not as fun but I’ll actually give you the actual advice to stay on track at weekends 😂#fail #couples #couplegoals #explore #explorepage  [MEMBER] Love this!  Thr main key point to take home is.......drink water 😆   \n",
       "10                                                                                                                                                                                                                                                                                                                                                                                                                                                                                                                                                                                                                                                                                                                                                                                                                                                                                                                                                                                                                                                                                                                                                                                                                                                                                                                                                                                                                                                                                                                                                                                                                                                                                                                                                                                                                                                                                                    [YOU] ‘Sometimes you just have to appreciate where your are. You’ve come along way and you’re still learning and growing. Be proud of yourself’ ❤️  [MEMBER] Amazing!! I love this (great song too!). Your an inspiration ❤️   \n",
       "11                                                                                                                                                                                                                                                                                                                                                                                                                                                                                                                                                                                                                                                                                                                                                                                                                                                                                                                                                                                                                                                                                                                                                                                                                                                                                                                                                                                                                                                                                                                                                                                                                                                                                                                                                                                                                                                                                                                                                                                                      [YOU] Order of workouts, period pains and metabolism  [MEMBER] have a fab holiday wherever you are going I hope it’s warm!   \n",
       "12                                                                                                                                                                                                                                                                                                                                                                                                                                                                                                                                                                                                                                                                                                                                                                [YOU] It’s time to re write the fitness narrative ❌  If it were as simple as calories and macros - we’d all be doing it. Find a free online calculator- input your data - boom you’re done. Dream body here we come 🔥  But I think both you and I know it’s not that simple. Achieving long term sustainable fitness requires more than that.  But why?  Well firstly, we all need support and accountability of some form - even myself as a coach - I have coaches in business and health & fitness! We all need that guidance to make sure what we’re currently doing is aligning with our goals. Someone to reach out to when we’re having a bad week? Or someone to share our success stories with 🙏   I believe knowledge is power. ‘Give a man a fish, you feed him for a day, teach him how to fish - you feed him for a lifetime’. Who doesn’t want to gain knowledge to last them a lifetime? 🎉  Nutrition is important and for fat loss it is vital. But it’s not the ONLY area that is important - if you’re neglecting sleep, exercising yourself into the ground with no techniques for stress management - watch as fat loss becomes a LOT harder.  But sure what do I know - I’m only a qualified nutritionist who’s helped 100s of women achieve countless body and mind transformations!  [MEMBER] So so true and this is what you do so well💕   \n",
       "13                                                                                                                                                                                                                                                                                                                                                                                                                                                                                                                                                                                                                                                                                                                                                                                                                                                                                                                                                                                                                                                                                                                                                                                                                                                                                                                                                                                                                                                                                                                                                                                                                                                                                                                                                                                                                                                                                                               [YOU] @everyone I am looking for 3 ladies who are looking to drop a dress size in June to join my Strong and Sassy programme. If that’s you comment ‘I’m in’ below 👇  [MEMBER] Is it different to what I'm doing?   \n",
       "14                                                                                                                                                                                                                                                                                                                                                                                                                                                                                                                                                                                                                                                                                                                                                                                                                                                                                                                                                                                                                                                                                                                                                                                                                                                                                                                                                                                                                                                                                                                                                                                                                        [YOU] A successful person doesn’t quit…Hear me out. We all fail ❌It’s PART of the process…No matter what it’s relating to - diet, exercise, sport, careers, relationships etc.There are going to be difficult times. There are gonna to be instances that we fail or we fall. The decision to get back up or succeed is a decision.Those who are successful choose to dust themselves off. Those who don’t - quit! Want to succeed at anything?Stop quitting 🙈  [MEMBER] Perfectly said! So right on Amy   \n",
       "15                                                                                                                                                                                                                                                                                                                                                                                                                                                                                                                                                                                                                                                                                                                                                                                                                                                                                                                                                                                                                                                                                                                                                                                                                                                                                                                                                                                                                                                                                                                                                                                                                                                                                                                                                                                                                                                                                                                                                                                                        [YOU] Please excuse how sick I am 🫣 a lot of really good questions answered 👇  [MEMBER] You're a legend. Thanks so much!   \n",
       "16                                                                                                                                                                                                                                                                                                                                                                                                                                                                                                                                                                                                                                                                                                                                                                                                                                                                                                                                                                                                                                                                                                                                                                                                                                                                                                                                                                                                                                                                                                                                                                                                                                                                                                                                                                                                                                                                                                                                                                                                                   [YOU] Managing a busy day, visible muscle, mood enhancer, how to reduce calorie intake  [MEMBER] Thanks, Amy!   \n",
       "17                                                                                                                                                                                                                                                                                                                                                                                                                                                                                                                                                                                                                                                                                                                                                                                                                                                                                                                                                                                                                                                                                                                                                                                                                                                                                                                                                                                                                                                                                                                                                                                                                                                                                                             [YOU] @everyone I’m sure you’ve heard me harp on about calories time in time out - well I’d like to help you ladies understand how to calculate your calories - I’ve derived this tool for you and together I’m hopeful I can help you achieve your goals through knowledge and education ❤️😊 (p.s exsisting clients I already do this calculation for you so no need to download this ✌️)     [MEMBER] Thank you 🙂   \n",
       "18                                                                                                                                                                                                                                                                                                                                                                                                                                                                                                                                                                                                                                                                                                                                       [YOU] Ah but it’s just a glass of wine….    It’s just one beer?                            But is it though?                       Remember, it’s the accumulation of anything that is the problem. It’s never just one day or one drink. The same way one salad or one workout won’t make you healthy - it’s the accumulation over time.                     Is alcohol disrupting your routine? Is it causing you to miss every Monday? Is it causing poor food choices every Sunday?                    One thing I can tell you for certain is it’s negatively impacting your sleep and your metabolic function - even just one glass 🙈.                             I’m sorry to be the bearer of bad news….                                            And btw this is not coming from a pioneer….                                          I’ve been there. I’ve seen the implications it’s had not just on my goals but on my mental health and relationships….                              That’s why I’ve reduced my frequency. Frequency is important. You might just think it’s one drink every other night… but when you accumulate the negative affects it has, you’ll understand that frequency matters.                  #alcohol #isalcoholworthit #onlinecoach #fitnesscoach #transformation #realresults #realpeople #nutritionist #realnutrition  [MEMBER] Vicious 🤣   \n",
       "\n",
       "   sentiment        emotions respond  \n",
       "0   Positive         Empathy      No  \n",
       "1   Positive   Encouragement      No  \n",
       "2   Positive          Desire     Yes  \n",
       "3   Positive     Frustration     Yes  \n",
       "4   Positive          Thanks      No  \n",
       "5   Positive  Disappointment      No  \n",
       "6   Positive         Concern     Yes  \n",
       "7   Positive     Frustration     Yes  \n",
       "8    Neutral       Confusion     Yes  \n",
       "9   Positive            Love      No  \n",
       "10  Positive    Appreciation      No  \n",
       "11  Positive     Wishfulness     No.  \n",
       "12  Positive    Appreciation      No  \n",
       "13   Neutral        Curious.     Yes  \n",
       "14  Positive   Encouragement      No  \n",
       "15  Positive    Appreciation      No  \n",
       "16  Positive          Thanks      No  \n",
       "17  Positive       Gratitude     Yes  \n",
       "18  Positive     Frustration      No  "
      ]
     },
     "metadata": {},
     "output_type": "display_data"
    }
   ],
   "source": [
    "\n",
    "results_dict = {iteration: create_df_from_response(response_dict[iteration])}\n",
    "results_dict[iteration]"
   ]
  },
  {
   "attachments": {},
   "cell_type": "markdown",
   "metadata": {},
   "source": [
    "## Compare My Answers with ChatGPT's \n",
    "\n",
    "At first glance, ChatGPT's responses looked pretty good. To quantify ChatGPT's accuracy at the task on hand, we need to know \"ground truth\". I labelled each post-comment pair myself for the \"sentiment\" and \"respond\" task (the \"emotion task\" is too open-ended).\n",
    "\n",
    "After that, I used `scikit-learn` to determine accuracy and produce a confusion matrix for each of the 2 tasks."
   ]
  },
  {
   "cell_type": "code",
   "execution_count": 27,
   "metadata": {},
   "outputs": [],
   "source": [
    "### Is the sentiment positive, negative, or neutral?\n",
    "sentiment_hl_dict = pd.Series({\n",
    "    0: 1,\n",
    "    1: 1,\n",
    "    2: -1,\n",
    "    3: -1,\n",
    "    4: 1,\n",
    "    5: 1,\n",
    "    6: 0,\n",
    "    7: -1,\n",
    "    8: 0,\n",
    "    9: 1,\n",
    "    10: 1,\n",
    "    11: 1,\n",
    "    12: 1,\n",
    "    13: 0,\n",
    "    14: 1,\n",
    "    15: 1,\n",
    "    16: 1,\n",
    "    17: 1,\n",
    "    18: 0\n",
    "})\n",
    "### Does the Comment Require a Fast Reply?\n",
    "respond_hl_dict = pd.Series({\n",
    "    0: 0,\n",
    "    1: 0,\n",
    "    2: 1,\n",
    "    3: 1,\n",
    "    4: 0,\n",
    "    5: 0,\n",
    "    6: 1,\n",
    "    7: 1,\n",
    "    8: 1, \n",
    "    9: 0,\n",
    "    10: 0,\n",
    "    11: 0,\n",
    "    12: 0,\n",
    "    13: 1,\n",
    "    14: 0,\n",
    "    15: 0,\n",
    "    16: 0,\n",
    "    17: 0,\n",
    "    18: 0\n",
    "})\n",
    "\n",
    "my_labels = pd.DataFrame([sentiment_hl_dict, respond_hl_dict], index=['sentiment', 'respond']).transpose()"
   ]
  },
  {
   "cell_type": "code",
   "execution_count": 82,
   "metadata": {},
   "outputs": [
    {
     "data": {
      "application/vnd.plotly.v1+json": {
       "config": {
        "plotlyServerURL": "https://plot.ly"
       },
       "data": [
        {
         "type": "bar",
         "x": [
          -1,
          0,
          1
         ],
         "xaxis": "x",
         "y": [
          3,
          4,
          12
         ],
         "yaxis": "y"
        },
        {
         "type": "bar",
         "x": [
          0,
          1
         ],
         "xaxis": "x2",
         "y": [
          13,
          6
         ],
         "yaxis": "y2"
        }
       ],
       "layout": {
        "annotations": [
         {
          "font": {
           "color": "black"
          },
          "showarrow": false,
          "text": "15.79%",
          "x": -1,
          "xanchor": "center",
          "xref": "x",
          "y": 3,
          "yanchor": "bottom",
          "yref": "y"
         },
         {
          "font": {
           "color": "black"
          },
          "showarrow": false,
          "text": "21.05%",
          "x": 0,
          "xanchor": "center",
          "xref": "x",
          "y": 4,
          "yanchor": "bottom",
          "yref": "y"
         },
         {
          "font": {
           "color": "black"
          },
          "showarrow": false,
          "text": "63.16%",
          "x": 1,
          "xanchor": "center",
          "xref": "x",
          "y": 12,
          "yanchor": "bottom",
          "yref": "y"
         },
         {
          "font": {
           "color": "black"
          },
          "showarrow": false,
          "text": "68.42%",
          "x": 0,
          "xanchor": "center",
          "xref": "x2",
          "y": 13,
          "yanchor": "bottom",
          "yref": "y2"
         },
         {
          "font": {
           "color": "black"
          },
          "showarrow": false,
          "text": "31.58%",
          "x": 1,
          "xanchor": "center",
          "xref": "x2",
          "y": 6,
          "yanchor": "bottom",
          "yref": "y2"
         }
        ],
        "showlegend": false,
        "template": {
         "data": {
          "bar": [
           {
            "error_x": {
             "color": "#2a3f5f"
            },
            "error_y": {
             "color": "#2a3f5f"
            },
            "marker": {
             "line": {
              "color": "#E5ECF6",
              "width": 0.5
             },
             "pattern": {
              "fillmode": "overlay",
              "size": 10,
              "solidity": 0.2
             }
            },
            "type": "bar"
           }
          ],
          "barpolar": [
           {
            "marker": {
             "line": {
              "color": "#E5ECF6",
              "width": 0.5
             },
             "pattern": {
              "fillmode": "overlay",
              "size": 10,
              "solidity": 0.2
             }
            },
            "type": "barpolar"
           }
          ],
          "carpet": [
           {
            "aaxis": {
             "endlinecolor": "#2a3f5f",
             "gridcolor": "white",
             "linecolor": "white",
             "minorgridcolor": "white",
             "startlinecolor": "#2a3f5f"
            },
            "baxis": {
             "endlinecolor": "#2a3f5f",
             "gridcolor": "white",
             "linecolor": "white",
             "minorgridcolor": "white",
             "startlinecolor": "#2a3f5f"
            },
            "type": "carpet"
           }
          ],
          "choropleth": [
           {
            "colorbar": {
             "outlinewidth": 0,
             "ticks": ""
            },
            "type": "choropleth"
           }
          ],
          "contour": [
           {
            "colorbar": {
             "outlinewidth": 0,
             "ticks": ""
            },
            "colorscale": [
             [
              0,
              "#0d0887"
             ],
             [
              0.1111111111111111,
              "#46039f"
             ],
             [
              0.2222222222222222,
              "#7201a8"
             ],
             [
              0.3333333333333333,
              "#9c179e"
             ],
             [
              0.4444444444444444,
              "#bd3786"
             ],
             [
              0.5555555555555556,
              "#d8576b"
             ],
             [
              0.6666666666666666,
              "#ed7953"
             ],
             [
              0.7777777777777778,
              "#fb9f3a"
             ],
             [
              0.8888888888888888,
              "#fdca26"
             ],
             [
              1,
              "#f0f921"
             ]
            ],
            "type": "contour"
           }
          ],
          "contourcarpet": [
           {
            "colorbar": {
             "outlinewidth": 0,
             "ticks": ""
            },
            "type": "contourcarpet"
           }
          ],
          "heatmap": [
           {
            "colorbar": {
             "outlinewidth": 0,
             "ticks": ""
            },
            "colorscale": [
             [
              0,
              "#0d0887"
             ],
             [
              0.1111111111111111,
              "#46039f"
             ],
             [
              0.2222222222222222,
              "#7201a8"
             ],
             [
              0.3333333333333333,
              "#9c179e"
             ],
             [
              0.4444444444444444,
              "#bd3786"
             ],
             [
              0.5555555555555556,
              "#d8576b"
             ],
             [
              0.6666666666666666,
              "#ed7953"
             ],
             [
              0.7777777777777778,
              "#fb9f3a"
             ],
             [
              0.8888888888888888,
              "#fdca26"
             ],
             [
              1,
              "#f0f921"
             ]
            ],
            "type": "heatmap"
           }
          ],
          "heatmapgl": [
           {
            "colorbar": {
             "outlinewidth": 0,
             "ticks": ""
            },
            "colorscale": [
             [
              0,
              "#0d0887"
             ],
             [
              0.1111111111111111,
              "#46039f"
             ],
             [
              0.2222222222222222,
              "#7201a8"
             ],
             [
              0.3333333333333333,
              "#9c179e"
             ],
             [
              0.4444444444444444,
              "#bd3786"
             ],
             [
              0.5555555555555556,
              "#d8576b"
             ],
             [
              0.6666666666666666,
              "#ed7953"
             ],
             [
              0.7777777777777778,
              "#fb9f3a"
             ],
             [
              0.8888888888888888,
              "#fdca26"
             ],
             [
              1,
              "#f0f921"
             ]
            ],
            "type": "heatmapgl"
           }
          ],
          "histogram": [
           {
            "marker": {
             "pattern": {
              "fillmode": "overlay",
              "size": 10,
              "solidity": 0.2
             }
            },
            "type": "histogram"
           }
          ],
          "histogram2d": [
           {
            "colorbar": {
             "outlinewidth": 0,
             "ticks": ""
            },
            "colorscale": [
             [
              0,
              "#0d0887"
             ],
             [
              0.1111111111111111,
              "#46039f"
             ],
             [
              0.2222222222222222,
              "#7201a8"
             ],
             [
              0.3333333333333333,
              "#9c179e"
             ],
             [
              0.4444444444444444,
              "#bd3786"
             ],
             [
              0.5555555555555556,
              "#d8576b"
             ],
             [
              0.6666666666666666,
              "#ed7953"
             ],
             [
              0.7777777777777778,
              "#fb9f3a"
             ],
             [
              0.8888888888888888,
              "#fdca26"
             ],
             [
              1,
              "#f0f921"
             ]
            ],
            "type": "histogram2d"
           }
          ],
          "histogram2dcontour": [
           {
            "colorbar": {
             "outlinewidth": 0,
             "ticks": ""
            },
            "colorscale": [
             [
              0,
              "#0d0887"
             ],
             [
              0.1111111111111111,
              "#46039f"
             ],
             [
              0.2222222222222222,
              "#7201a8"
             ],
             [
              0.3333333333333333,
              "#9c179e"
             ],
             [
              0.4444444444444444,
              "#bd3786"
             ],
             [
              0.5555555555555556,
              "#d8576b"
             ],
             [
              0.6666666666666666,
              "#ed7953"
             ],
             [
              0.7777777777777778,
              "#fb9f3a"
             ],
             [
              0.8888888888888888,
              "#fdca26"
             ],
             [
              1,
              "#f0f921"
             ]
            ],
            "type": "histogram2dcontour"
           }
          ],
          "mesh3d": [
           {
            "colorbar": {
             "outlinewidth": 0,
             "ticks": ""
            },
            "type": "mesh3d"
           }
          ],
          "parcoords": [
           {
            "line": {
             "colorbar": {
              "outlinewidth": 0,
              "ticks": ""
             }
            },
            "type": "parcoords"
           }
          ],
          "pie": [
           {
            "automargin": true,
            "type": "pie"
           }
          ],
          "scatter": [
           {
            "fillpattern": {
             "fillmode": "overlay",
             "size": 10,
             "solidity": 0.2
            },
            "type": "scatter"
           }
          ],
          "scatter3d": [
           {
            "line": {
             "colorbar": {
              "outlinewidth": 0,
              "ticks": ""
             }
            },
            "marker": {
             "colorbar": {
              "outlinewidth": 0,
              "ticks": ""
             }
            },
            "type": "scatter3d"
           }
          ],
          "scattercarpet": [
           {
            "marker": {
             "colorbar": {
              "outlinewidth": 0,
              "ticks": ""
             }
            },
            "type": "scattercarpet"
           }
          ],
          "scattergeo": [
           {
            "marker": {
             "colorbar": {
              "outlinewidth": 0,
              "ticks": ""
             }
            },
            "type": "scattergeo"
           }
          ],
          "scattergl": [
           {
            "marker": {
             "colorbar": {
              "outlinewidth": 0,
              "ticks": ""
             }
            },
            "type": "scattergl"
           }
          ],
          "scattermapbox": [
           {
            "marker": {
             "colorbar": {
              "outlinewidth": 0,
              "ticks": ""
             }
            },
            "type": "scattermapbox"
           }
          ],
          "scatterpolar": [
           {
            "marker": {
             "colorbar": {
              "outlinewidth": 0,
              "ticks": ""
             }
            },
            "type": "scatterpolar"
           }
          ],
          "scatterpolargl": [
           {
            "marker": {
             "colorbar": {
              "outlinewidth": 0,
              "ticks": ""
             }
            },
            "type": "scatterpolargl"
           }
          ],
          "scatterternary": [
           {
            "marker": {
             "colorbar": {
              "outlinewidth": 0,
              "ticks": ""
             }
            },
            "type": "scatterternary"
           }
          ],
          "surface": [
           {
            "colorbar": {
             "outlinewidth": 0,
             "ticks": ""
            },
            "colorscale": [
             [
              0,
              "#0d0887"
             ],
             [
              0.1111111111111111,
              "#46039f"
             ],
             [
              0.2222222222222222,
              "#7201a8"
             ],
             [
              0.3333333333333333,
              "#9c179e"
             ],
             [
              0.4444444444444444,
              "#bd3786"
             ],
             [
              0.5555555555555556,
              "#d8576b"
             ],
             [
              0.6666666666666666,
              "#ed7953"
             ],
             [
              0.7777777777777778,
              "#fb9f3a"
             ],
             [
              0.8888888888888888,
              "#fdca26"
             ],
             [
              1,
              "#f0f921"
             ]
            ],
            "type": "surface"
           }
          ],
          "table": [
           {
            "cells": {
             "fill": {
              "color": "#EBF0F8"
             },
             "line": {
              "color": "white"
             }
            },
            "header": {
             "fill": {
              "color": "#C8D4E3"
             },
             "line": {
              "color": "white"
             }
            },
            "type": "table"
           }
          ]
         },
         "layout": {
          "annotationdefaults": {
           "arrowcolor": "#2a3f5f",
           "arrowhead": 0,
           "arrowwidth": 1
          },
          "autotypenumbers": "strict",
          "coloraxis": {
           "colorbar": {
            "outlinewidth": 0,
            "ticks": ""
           }
          },
          "colorscale": {
           "diverging": [
            [
             0,
             "#8e0152"
            ],
            [
             0.1,
             "#c51b7d"
            ],
            [
             0.2,
             "#de77ae"
            ],
            [
             0.3,
             "#f1b6da"
            ],
            [
             0.4,
             "#fde0ef"
            ],
            [
             0.5,
             "#f7f7f7"
            ],
            [
             0.6,
             "#e6f5d0"
            ],
            [
             0.7,
             "#b8e186"
            ],
            [
             0.8,
             "#7fbc41"
            ],
            [
             0.9,
             "#4d9221"
            ],
            [
             1,
             "#276419"
            ]
           ],
           "sequential": [
            [
             0,
             "#0d0887"
            ],
            [
             0.1111111111111111,
             "#46039f"
            ],
            [
             0.2222222222222222,
             "#7201a8"
            ],
            [
             0.3333333333333333,
             "#9c179e"
            ],
            [
             0.4444444444444444,
             "#bd3786"
            ],
            [
             0.5555555555555556,
             "#d8576b"
            ],
            [
             0.6666666666666666,
             "#ed7953"
            ],
            [
             0.7777777777777778,
             "#fb9f3a"
            ],
            [
             0.8888888888888888,
             "#fdca26"
            ],
            [
             1,
             "#f0f921"
            ]
           ],
           "sequentialminus": [
            [
             0,
             "#0d0887"
            ],
            [
             0.1111111111111111,
             "#46039f"
            ],
            [
             0.2222222222222222,
             "#7201a8"
            ],
            [
             0.3333333333333333,
             "#9c179e"
            ],
            [
             0.4444444444444444,
             "#bd3786"
            ],
            [
             0.5555555555555556,
             "#d8576b"
            ],
            [
             0.6666666666666666,
             "#ed7953"
            ],
            [
             0.7777777777777778,
             "#fb9f3a"
            ],
            [
             0.8888888888888888,
             "#fdca26"
            ],
            [
             1,
             "#f0f921"
            ]
           ]
          },
          "colorway": [
           "#636efa",
           "#EF553B",
           "#00cc96",
           "#ab63fa",
           "#FFA15A",
           "#19d3f3",
           "#FF6692",
           "#B6E880",
           "#FF97FF",
           "#FECB52"
          ],
          "font": {
           "color": "#2a3f5f"
          },
          "geo": {
           "bgcolor": "white",
           "lakecolor": "white",
           "landcolor": "#E5ECF6",
           "showlakes": true,
           "showland": true,
           "subunitcolor": "white"
          },
          "hoverlabel": {
           "align": "left"
          },
          "hovermode": "closest",
          "mapbox": {
           "style": "light"
          },
          "paper_bgcolor": "white",
          "plot_bgcolor": "#E5ECF6",
          "polar": {
           "angularaxis": {
            "gridcolor": "white",
            "linecolor": "white",
            "ticks": ""
           },
           "bgcolor": "#E5ECF6",
           "radialaxis": {
            "gridcolor": "white",
            "linecolor": "white",
            "ticks": ""
           }
          },
          "scene": {
           "xaxis": {
            "backgroundcolor": "#E5ECF6",
            "gridcolor": "white",
            "gridwidth": 2,
            "linecolor": "white",
            "showbackground": true,
            "ticks": "",
            "zerolinecolor": "white"
           },
           "yaxis": {
            "backgroundcolor": "#E5ECF6",
            "gridcolor": "white",
            "gridwidth": 2,
            "linecolor": "white",
            "showbackground": true,
            "ticks": "",
            "zerolinecolor": "white"
           },
           "zaxis": {
            "backgroundcolor": "#E5ECF6",
            "gridcolor": "white",
            "gridwidth": 2,
            "linecolor": "white",
            "showbackground": true,
            "ticks": "",
            "zerolinecolor": "white"
           }
          },
          "shapedefaults": {
           "line": {
            "color": "#2a3f5f"
           }
          },
          "ternary": {
           "aaxis": {
            "gridcolor": "white",
            "linecolor": "white",
            "ticks": ""
           },
           "baxis": {
            "gridcolor": "white",
            "linecolor": "white",
            "ticks": ""
           },
           "bgcolor": "#E5ECF6",
           "caxis": {
            "gridcolor": "white",
            "linecolor": "white",
            "ticks": ""
           }
          },
          "title": {
           "x": 0.05
          },
          "xaxis": {
           "automargin": true,
           "gridcolor": "white",
           "linecolor": "white",
           "ticks": "",
           "title": {
            "standoff": 15
           },
           "zerolinecolor": "white",
           "zerolinewidth": 2
          },
          "yaxis": {
           "automargin": true,
           "gridcolor": "white",
           "linecolor": "white",
           "ticks": "",
           "title": {
            "standoff": 15
           },
           "zerolinecolor": "white",
           "zerolinewidth": 2
          }
         }
        },
        "title": {
         "text": "Most comments have positive sentiment and do not require a fast response",
         "x": 0.5
        },
        "xaxis": {
         "anchor": "y",
         "domain": [
          0,
          0.45
         ],
         "ticktext": [
          "Negative",
          "Neutral",
          "Positive"
         ],
         "tickvals": [
          -1,
          0,
          1
         ],
         "title": {
          "text": "Sentiment"
         }
        },
        "xaxis2": {
         "anchor": "y2",
         "domain": [
          0.55,
          1
         ],
         "ticktext": [
          "No",
          "Yes"
         ],
         "tickvals": [
          0,
          1
         ],
         "title": {
          "text": "Requires fast response"
         }
        },
        "yaxis": {
         "anchor": "x",
         "domain": [
          0,
          1
         ],
         "title": {
          "text": "Count"
         }
        },
        "yaxis2": {
         "anchor": "x2",
         "domain": [
          0,
          1
         ],
         "title": {
          "text": "Count"
         }
        }
       }
      }
     },
     "metadata": {},
     "output_type": "display_data"
    }
   ],
   "source": [
    "import plotly.graph_objects as go\n",
    "import pandas as pd\n",
    "from plotly.subplots import make_subplots\n",
    "\n",
    "def plot_class_proportions(sentiment_data, respond_data):\n",
    "    # Count the occurrences of each class for sentiment_data\n",
    "    sentiment_class_counts = sentiment_data.value_counts().sort_index()\n",
    "    sentiment_total = sentiment_class_counts.sum()\n",
    "    sentiment_class_proportions = sentiment_class_counts / sentiment_total * 100\n",
    "\n",
    "    # Count the occurrences of each class for respond_data\n",
    "    respond_class_counts = respond_data.value_counts().sort_index()\n",
    "    respond_total = respond_class_counts.sum()\n",
    "    respond_class_proportions = respond_class_counts / respond_total * 100\n",
    "\n",
    "    # Create the figure with subplots\n",
    "    fig = make_subplots(rows=1, cols=2)\n",
    "\n",
    "    # Add the bar chart for sentiment_data\n",
    "    fig.add_trace(go.Bar(x=sentiment_class_counts.index, y=sentiment_class_counts.values),\n",
    "                  row=1, col=1)\n",
    "\n",
    "    fig.update_xaxes(title_text=\"Sentiment\", ticktext=[\"Negative\", \"Neutral\", \"Positive\"], tickvals=[-1, 0, 1], row=1, col=1)\n",
    "    fig.update_yaxes(title_text=\"Count\", row=1, col=1)\n",
    "\n",
    "    # Add the percentage labels to each bar in the Sentiment Class Proportions plot\n",
    "    for i, proportion in enumerate(sentiment_class_proportions.values):\n",
    "        fig.add_annotation(\n",
    "            x=sentiment_class_proportions.index[i],\n",
    "            y=sentiment_class_counts.values[i],\n",
    "            text=f\"{proportion:.2f}%\",\n",
    "            showarrow=False,\n",
    "            font=dict(color=\"black\"),\n",
    "            xanchor=\"center\",\n",
    "            yanchor=\"bottom\",\n",
    "            row=1,\n",
    "            col=1,\n",
    "        )\n",
    "\n",
    "    # Add the bar chart for respond_data\n",
    "    fig.add_trace(go.Bar(x=respond_class_counts.index, y=respond_class_counts.values),\n",
    "                  row=1, col=2)\n",
    "    fig.update_xaxes(title_text=\"Requires fast response\", ticktext=[\"No\", \"Yes\"],  tickvals=[0, 1], row=1, col=2)\n",
    "    fig.update_yaxes(title_text=\"Count\", row=1, col=2)\n",
    "\n",
    "    # Add the percentage labels to each bar in the Respond Class Proportions plot\n",
    "    for i, proportion in enumerate(respond_class_proportions.values):\n",
    "        fig.add_annotation(\n",
    "            x=respond_class_proportions.index[i],\n",
    "            y=respond_class_counts.values[i],\n",
    "            text=f\"{proportion:.2f}%\",\n",
    "            showarrow=False,\n",
    "            font=dict(color=\"black\"),\n",
    "            xanchor=\"center\",\n",
    "            yanchor=\"bottom\",\n",
    "            row=1,\n",
    "            col=2,\n",
    "        )\n",
    "\n",
    "    # Set the figure title and layout\n",
    "    fig.update_layout(title=\"Most comments have positive sentiment and do not require a fast response\", \n",
    "                      showlegend=False, title_x=0.5)\n",
    "\n",
    "    # Show the figure\n",
    "    fig.show()\n",
    "\n",
    "\n",
    "plot_class_proportions(sentiment_hl_dict, respond_hl_dict)"
   ]
  },
  {
   "attachments": {},
   "cell_type": "markdown",
   "metadata": {},
   "source": [
    "### Sentiment Task\n",
    "For the basic sentiment analysis task, ChatGPT had a 73.7% accuracy: 5 out of 18 of its classifications differed from mine (though to be fair, not all comments fell neatly into one bucket)."
   ]
  },
  {
   "cell_type": "code",
   "execution_count": null,
   "metadata": {},
   "outputs": [
    {
     "name": "stdout",
     "output_type": "stream",
     "text": [
      "Accuracy of GPT model for \"sentiment\": 0.7368421052631579\n"
     ]
    },
    {
     "data": {
      "image/png": "[encoded data removed]",
      "text/plain": [
       "<Figure size 640x480 with 2 Axes>"
      ]
     },
     "metadata": {},
     "output_type": "display_data"
    }
   ],
   "source": [
    "from sklearn.metrics import ConfusionMatrixDisplay\n",
    "from sklearn.metrics import accuracy_score\n",
    "import matplotlib.pyplot as plt\n",
    "\n",
    "def evaluate_GPT_results(results_df, GPT_label_column, human_labels):\n",
    "    \"\"\"\n",
    "    Determine the accuracy of the GPT model by comparing its predictions to the human labels.\n",
    "\n",
    "    Parameters:\n",
    "        - results_df (pd.DataFrame): The dataframe containing the GPT predictions.\n",
    "        - GPT_label_column (str): The column name containing the GPT predictions.\n",
    "        - human_labels (pd.Series): The human labels.\n",
    "    \n",
    "    Returns:\n",
    "        - accuracy (float): The accuracy of the GPT model.\n",
    "        - DataFrame of GPT predictions and human labels.\n",
    "        - confusion matrix (ConfusionMatrixDisplay): The confusion matrix of GPT predictions.\n",
    "\n",
    "    \"\"\"\n",
    "    transformed_df = pd.DataFrame()\n",
    "    if GPT_label_column == 'respond':\n",
    "        transformed_df['GPT_label'] = results_df[GPT_label_column].apply(lambda x: 1 if x == 'Yes' else 0)\n",
    "        cm_display_labels = ['No', 'Yes']\n",
    "    else: \n",
    "        transformed_df['GPT_label'] = results_df[GPT_label_column].apply(lambda x: 1 if x == 'Positive' else -1 if x == 'Negative' else 0)\n",
    "        cm_display_labels = ['Negative', 'Neutral', 'Positive']\n",
    "    transformed_df['human_label'] = human_labels\n",
    "    transformed_df['wrong_prediction'] = transformed_df['GPT_label'] != transformed_df['human_label']\n",
    "    transformed_df['wrong_prediction'] = transformed_df['wrong_prediction'].apply(lambda x: 'Yes' if x else '')\n",
    "    accuracy = accuracy_score(transformed_df['human_label'], transformed_df['GPT_label'])\n",
    "    print(f'Accuracy of GPT model for \"{GPT_label_column}\": {accuracy}')\n",
    "    fig, ax = plt.subplots(nrows=1, ncols=1)\n",
    "    # ax = ax.flatten()\n",
    "    cm = ConfusionMatrixDisplay.from_predictions(\n",
    "        transformed_df['human_label'], transformed_df['GPT_label'], ax=ax,\n",
    "        display_labels=cm_display_labels);\n",
    "    ax.set_xticklabels(ax.get_xticklabels(), fontsize=10)\n",
    "    ax.set_xlabel(ax.get_xlabel(), fontsize=14)\n",
    "    ax.set_yticklabels(ax.get_yticklabels(), fontsize=10)\n",
    "    ax.set_ylabel(ax.get_ylabel(), fontsize=14)\n",
    "    return accuracy, transformed_df, fig\n",
    "\n",
    "cm_dict = dict()\n",
    "accuracy_dict = dict()\n",
    "transformed_df_dict = dict()\n",
    "  \n",
    "accuracy_dict[iteration], transformed_df_dict[iteration], cm_dict[iteration] = evaluate_GPT_results(\n",
    "    results_dict[iteration], 'sentiment', sentiment_hl_dict);"
   ]
  },
  {
   "cell_type": "code",
   "execution_count": null,
   "metadata": {},
   "outputs": [
    {
     "data": {
      "text/html": [
       "<div>\n",
       "<style scoped>\n",
       "    .dataframe tbody tr th:only-of-type {\n",
       "        vertical-align: middle;\n",
       "    }\n",
       "\n",
       "    .dataframe tbody tr th {\n",
       "        vertical-align: top;\n",
       "    }\n",
       "\n",
       "    .dataframe thead th {\n",
       "        text-align: right;\n",
       "    }\n",
       "</style>\n",
       "<table border=\"1\" class=\"dataframe\">\n",
       "  <thead>\n",
       "    <tr style=\"text-align: right;\">\n",
       "      <th></th>\n",
       "      <th>GPT_label</th>\n",
       "      <th>human_label</th>\n",
       "      <th>wrong_prediction</th>\n",
       "    </tr>\n",
       "  </thead>\n",
       "  <tbody>\n",
       "    <tr>\n",
       "      <th>0</th>\n",
       "      <td>1</td>\n",
       "      <td>1</td>\n",
       "      <td></td>\n",
       "    </tr>\n",
       "    <tr>\n",
       "      <th>1</th>\n",
       "      <td>1</td>\n",
       "      <td>1</td>\n",
       "      <td></td>\n",
       "    </tr>\n",
       "    <tr>\n",
       "      <th>2</th>\n",
       "      <td>1</td>\n",
       "      <td>-1</td>\n",
       "      <td>Yes</td>\n",
       "    </tr>\n",
       "    <tr>\n",
       "      <th>3</th>\n",
       "      <td>1</td>\n",
       "      <td>-1</td>\n",
       "      <td>Yes</td>\n",
       "    </tr>\n",
       "    <tr>\n",
       "      <th>4</th>\n",
       "      <td>1</td>\n",
       "      <td>1</td>\n",
       "      <td></td>\n",
       "    </tr>\n",
       "    <tr>\n",
       "      <th>5</th>\n",
       "      <td>1</td>\n",
       "      <td>1</td>\n",
       "      <td></td>\n",
       "    </tr>\n",
       "    <tr>\n",
       "      <th>6</th>\n",
       "      <td>1</td>\n",
       "      <td>0</td>\n",
       "      <td>Yes</td>\n",
       "    </tr>\n",
       "    <tr>\n",
       "      <th>7</th>\n",
       "      <td>1</td>\n",
       "      <td>-1</td>\n",
       "      <td>Yes</td>\n",
       "    </tr>\n",
       "    <tr>\n",
       "      <th>8</th>\n",
       "      <td>0</td>\n",
       "      <td>0</td>\n",
       "      <td></td>\n",
       "    </tr>\n",
       "    <tr>\n",
       "      <th>9</th>\n",
       "      <td>1</td>\n",
       "      <td>1</td>\n",
       "      <td></td>\n",
       "    </tr>\n",
       "    <tr>\n",
       "      <th>10</th>\n",
       "      <td>1</td>\n",
       "      <td>1</td>\n",
       "      <td></td>\n",
       "    </tr>\n",
       "    <tr>\n",
       "      <th>11</th>\n",
       "      <td>1</td>\n",
       "      <td>1</td>\n",
       "      <td></td>\n",
       "    </tr>\n",
       "    <tr>\n",
       "      <th>12</th>\n",
       "      <td>1</td>\n",
       "      <td>1</td>\n",
       "      <td></td>\n",
       "    </tr>\n",
       "    <tr>\n",
       "      <th>13</th>\n",
       "      <td>0</td>\n",
       "      <td>0</td>\n",
       "      <td></td>\n",
       "    </tr>\n",
       "    <tr>\n",
       "      <th>14</th>\n",
       "      <td>1</td>\n",
       "      <td>1</td>\n",
       "      <td></td>\n",
       "    </tr>\n",
       "    <tr>\n",
       "      <th>15</th>\n",
       "      <td>1</td>\n",
       "      <td>1</td>\n",
       "      <td></td>\n",
       "    </tr>\n",
       "    <tr>\n",
       "      <th>16</th>\n",
       "      <td>1</td>\n",
       "      <td>1</td>\n",
       "      <td></td>\n",
       "    </tr>\n",
       "    <tr>\n",
       "      <th>17</th>\n",
       "      <td>1</td>\n",
       "      <td>1</td>\n",
       "      <td></td>\n",
       "    </tr>\n",
       "    <tr>\n",
       "      <th>18</th>\n",
       "      <td>1</td>\n",
       "      <td>0</td>\n",
       "      <td>Yes</td>\n",
       "    </tr>\n",
       "  </tbody>\n",
       "</table>\n",
       "</div>"
      ],
      "text/plain": [
       "    GPT_label  human_label wrong_prediction\n",
       "0           1            1                 \n",
       "1           1            1                 \n",
       "2           1           -1              Yes\n",
       "3           1           -1              Yes\n",
       "4           1            1                 \n",
       "5           1            1                 \n",
       "6           1            0              Yes\n",
       "7           1           -1              Yes\n",
       "8           0            0                 \n",
       "9           1            1                 \n",
       "10          1            1                 \n",
       "11          1            1                 \n",
       "12          1            1                 \n",
       "13          0            0                 \n",
       "14          1            1                 \n",
       "15          1            1                 \n",
       "16          1            1                 \n",
       "17          1            1                 \n",
       "18          1            0              Yes"
      ]
     },
     "metadata": {},
     "output_type": "display_data"
    }
   ],
   "source": [
    "transformed_df_dict[iteration]"
   ]
  },
  {
   "cell_type": "code",
   "execution_count": 21,
   "metadata": {},
   "outputs": [
    {
     "data": {
      "text/html": [
       "<div>\n",
       "<style scoped>\n",
       "    .dataframe tbody tr th:only-of-type {\n",
       "        vertical-align: middle;\n",
       "    }\n",
       "\n",
       "    .dataframe tbody tr th {\n",
       "        vertical-align: top;\n",
       "    }\n",
       "\n",
       "    .dataframe thead th {\n",
       "        text-align: right;\n",
       "    }\n",
       "</style>\n",
       "<table border=\"1\" class=\"dataframe\">\n",
       "  <thead>\n",
       "    <tr style=\"text-align: right;\">\n",
       "      <th></th>\n",
       "      <th>text</th>\n",
       "      <th>sentiment</th>\n",
       "    </tr>\n",
       "  </thead>\n",
       "  <tbody>\n",
       "    <tr>\n",
       "      <th>2</th>\n",
       "      <td>[YOU] Hey @everyone Throw me some questions for our live training tomorrow? Nutrition, exercise, weight loss etc. anything you need to know - that’s what I’m here for  [MEMBER] Need some tips for tightening tummy … lost 7kg in 3 months but now got stuck in same weight for more than 2 weeks … what do  I need to change??</td>\n",
       "      <td>Positive</td>\n",
       "    </tr>\n",
       "    <tr>\n",
       "      <th>3</th>\n",
       "      <td>[YOU] @everyone can you please send me some questions for our live training Thursday! Last weeks questions were great! Remember I’m trying to help you all as much as possible so use this opportunity 👌  [MEMBER] Did my measurements today and although my chest and hips seem to be coming down my stomach seems to be going up 😳 what am I doing wrong.</td>\n",
       "      <td>Positive</td>\n",
       "    </tr>\n",
       "    <tr>\n",
       "      <th>6</th>\n",
       "      <td>[YOU] ‘I’ll never get results like her’  Do you find yourself thinking or saying that? If you do - you’re not alone!!!!  This is something I hear REGULARLY! It starts with something like ‘Yea, but I can’t…  The reality is the women’s results that I post are EXACTLY like you.  ✅They are real women yielding real results. ✅They are busy - just like you!  ✅They are mothers - just like you!  ✅They face the same struggles - just like you!   So what is the REAL difference between them and you?  ✔️ They believe they can do it and then act.  It’s honestly that simple. They are the women who decided to take action. While you’re still making excuses - they’re working on themselves for themselves ❤️  So next time you see a transformation photo and think ‘Good for them but that will never be me…’ Sam thought exactly the same before she decided to take action. She’s now almost a stone down, with more energy and happier than ever 🙏  If you’re ready for your own transformation - click the link in my bio to submit your waitlist application ✌️  [MEMBER] I have Crohn’s disease and I have an ulcer on my bowel and I’m only 39 and just have been told that I have neuropathic pain</td>\n",
       "      <td>Positive</td>\n",
       "    </tr>\n",
       "    <tr>\n",
       "      <th>7</th>\n",
       "      <td>[YOU] @everyone I’m looking for some questions for Thursdays Q&amp;A - remember all questions Re nutrition, fitness, motivation, mindset are relevant 🙌  [MEMBER] How to gain more visible leg muscle and bigger glutes. I am eating lots and training hard so not sure what the issue is lol</td>\n",
       "      <td>Positive</td>\n",
       "    </tr>\n",
       "    <tr>\n",
       "      <th>18</th>\n",
       "      <td>[YOU] Ah but it’s just a glass of wine….    It’s just one beer?                            But is it though?                       Remember, it’s the accumulation of anything that is the problem. It’s never just one day or one drink. The same way one salad or one workout won’t make you healthy - it’s the accumulation over time.                     Is alcohol disrupting your routine? Is it causing you to miss every Monday? Is it causing poor food choices every Sunday?                    One thing I can tell you for certain is it’s negatively impacting your sleep and your metabolic function - even just one glass 🙈.                             I’m sorry to be the bearer of bad news….                                            And btw this is not coming from a pioneer….                                          I’ve been there. I’ve seen the implications it’s had not just on my goals but on my mental health and relationships….                              That’s why I’ve reduced my frequency. Frequency is important. You might just think it’s one drink every other night… but when you accumulate the negative affects it has, you’ll understand that frequency matters.                  #alcohol #isalcoholworthit #onlinecoach #fitnesscoach #transformation #realresults #realpeople #nutritionist #realnutrition  [MEMBER] Vicious 🤣</td>\n",
       "      <td>Positive</td>\n",
       "    </tr>\n",
       "  </tbody>\n",
       "</table>\n",
       "</div>"
      ],
      "text/plain": [
       "                                                                                                                                                                                                                                                                                                                                                                                                                                                                                                                                                                                                                                                                                                                                                                                                                                                                                                                                                                                                                                                                                                                                                                                                                                                                                                                                                                                         text  \\\n",
       "2                                                                                                                                                                                                                                                                                                                                                                                                                                                                                                                                                                                                                                                                                                                                                                                                                                                                                                                                                                                                                                                            [YOU] Hey @everyone Throw me some questions for our live training tomorrow? Nutrition, exercise, weight loss etc. anything you need to know - that’s what I’m here for  [MEMBER] Need some tips for tightening tummy … lost 7kg in 3 months but now got stuck in same weight for more than 2 weeks … what do  I need to change??   \n",
       "3                                                                                                                                                                                                                                                                                                                                                                                                                                                                                                                                                                                                                                                                                                                                                                                                                                                                                                                                                                                                                                 [YOU] @everyone can you please send me some questions for our live training Thursday! Last weeks questions were great! Remember I’m trying to help you all as much as possible so use this opportunity 👌  [MEMBER] Did my measurements today and although my chest and hips seem to be coming down my stomach seems to be going up 😳 what am I doing wrong.   \n",
       "6                                                                                                                                                                     [YOU] ‘I’ll never get results like her’  Do you find yourself thinking or saying that? If you do - you’re not alone!!!!  This is something I hear REGULARLY! It starts with something like ‘Yea, but I can’t…  The reality is the women’s results that I post are EXACTLY like you.  ✅They are real women yielding real results. ✅They are busy - just like you!  ✅They are mothers - just like you!  ✅They face the same struggles - just like you!   So what is the REAL difference between them and you?  ✔️ They believe they can do it and then act.  It’s honestly that simple. They are the women who decided to take action. While you’re still making excuses - they’re working on themselves for themselves ❤️  So next time you see a transformation photo and think ‘Good for them but that will never be me…’ Sam thought exactly the same before she decided to take action. She’s now almost a stone down, with more energy and happier than ever 🙏  If you’re ready for your own transformation - click the link in my bio to submit your waitlist application ✌️  [MEMBER] I have Crohn’s disease and I have an ulcer on my bowel and I’m only 39 and just have been told that I have neuropathic pain   \n",
       "7                                                                                                                                                                                                                                                                                                                                                                                                                                                                                                                                                                                                                                                                                                                                                                                                                                                                                                                                                                                                                                                                                                   [YOU] @everyone I’m looking for some questions for Thursdays Q&A - remember all questions Re nutrition, fitness, motivation, mindset are relevant 🙌  [MEMBER] How to gain more visible leg muscle and bigger glutes. I am eating lots and training hard so not sure what the issue is lol   \n",
       "18  [YOU] Ah but it’s just a glass of wine….    It’s just one beer?                            But is it though?                       Remember, it’s the accumulation of anything that is the problem. It’s never just one day or one drink. The same way one salad or one workout won’t make you healthy - it’s the accumulation over time.                     Is alcohol disrupting your routine? Is it causing you to miss every Monday? Is it causing poor food choices every Sunday?                    One thing I can tell you for certain is it’s negatively impacting your sleep and your metabolic function - even just one glass 🙈.                             I’m sorry to be the bearer of bad news….                                            And btw this is not coming from a pioneer….                                          I’ve been there. I’ve seen the implications it’s had not just on my goals but on my mental health and relationships….                              That’s why I’ve reduced my frequency. Frequency is important. You might just think it’s one drink every other night… but when you accumulate the negative affects it has, you’ll understand that frequency matters.                  #alcohol #isalcoholworthit #onlinecoach #fitnesscoach #transformation #realresults #realpeople #nutritionist #realnutrition  [MEMBER] Vicious 🤣   \n",
       "\n",
       "   sentiment  \n",
       "2   Positive  \n",
       "3   Positive  \n",
       "6   Positive  \n",
       "7   Positive  \n",
       "18  Positive  "
      ]
     },
     "execution_count": 21,
     "metadata": {},
     "output_type": "execute_result"
    }
   ],
   "source": [
    "def create_df_from_response(response):\n",
    "    \"\"\"\n",
    "    Convert the response into a dataframe and strip white spaces at the start and end of text.\n",
    "    \"\"\"\n",
    "    df = pd.DataFrame(response).transpose()\n",
    "    for column in df.columns:\n",
    "        df[column] = df[column].str.strip().str.replace('\\n', ' ')\n",
    "        df[column] = df[column].str.strip().str.replace('YOU:', '[YOU]')\n",
    "        df[column] = df[column].str.strip().str.replace('MEMBER:', '[MEMBER]')\n",
    "    return df\n",
    "\n",
    "\n",
    "results_dict = {iteration: create_df_from_response(response_dict[iteration])}\n",
    "results_dict[iteration].loc[[2, 3, 6, 7, 18], ['text', 'sentiment']]"
   ]
  },
  {
   "attachments": {},
   "cell_type": "markdown",
   "metadata": {},
   "source": [
    "### Respond Task\n",
    "ChatGPT I had better inter-rater reliability when it came to advising whether or not the Facebook group admin should quickly respond to a given comment: We agreed on all but one comment, resulting in a 94.7% accuracy rating for ChatGPT."
   ]
  },
  {
   "cell_type": "code",
   "execution_count": null,
   "metadata": {},
   "outputs": [
    {
     "name": "stdout",
     "output_type": "stream",
     "text": [
      "Accuracy of GPT model for \"respond\": 0.9473684210526315\n"
     ]
    },
    {
     "data": {
      "image/png": "[encoded data removed]",
      "text/plain": [
       "<Figure size 640x480 with 2 Axes>"
      ]
     },
     "metadata": {},
     "output_type": "display_data"
    }
   ],
   "source": [
    "accuracy_dict[iteration], transformed_df_dict[iteration], cm_dict[iteration] = evaluate_GPT_results(\n",
    "    results_dict[iteration], 'respond', respond_hl_dict);"
   ]
  },
  {
   "cell_type": "code",
   "execution_count": null,
   "metadata": {},
   "outputs": [
    {
     "data": {
      "text/html": [
       "<div>\n",
       "<style scoped>\n",
       "    .dataframe tbody tr th:only-of-type {\n",
       "        vertical-align: middle;\n",
       "    }\n",
       "\n",
       "    .dataframe tbody tr th {\n",
       "        vertical-align: top;\n",
       "    }\n",
       "\n",
       "    .dataframe thead th {\n",
       "        text-align: right;\n",
       "    }\n",
       "</style>\n",
       "<table border=\"1\" class=\"dataframe\">\n",
       "  <thead>\n",
       "    <tr style=\"text-align: right;\">\n",
       "      <th></th>\n",
       "      <th>GPT_label</th>\n",
       "      <th>human_label</th>\n",
       "      <th>wrong_prediction</th>\n",
       "    </tr>\n",
       "  </thead>\n",
       "  <tbody>\n",
       "    <tr>\n",
       "      <th>0</th>\n",
       "      <td>0</td>\n",
       "      <td>0</td>\n",
       "      <td></td>\n",
       "    </tr>\n",
       "    <tr>\n",
       "      <th>1</th>\n",
       "      <td>0</td>\n",
       "      <td>0</td>\n",
       "      <td></td>\n",
       "    </tr>\n",
       "    <tr>\n",
       "      <th>2</th>\n",
       "      <td>1</td>\n",
       "      <td>1</td>\n",
       "      <td></td>\n",
       "    </tr>\n",
       "    <tr>\n",
       "      <th>3</th>\n",
       "      <td>1</td>\n",
       "      <td>1</td>\n",
       "      <td></td>\n",
       "    </tr>\n",
       "    <tr>\n",
       "      <th>4</th>\n",
       "      <td>0</td>\n",
       "      <td>0</td>\n",
       "      <td></td>\n",
       "    </tr>\n",
       "    <tr>\n",
       "      <th>5</th>\n",
       "      <td>0</td>\n",
       "      <td>0</td>\n",
       "      <td></td>\n",
       "    </tr>\n",
       "    <tr>\n",
       "      <th>6</th>\n",
       "      <td>1</td>\n",
       "      <td>1</td>\n",
       "      <td></td>\n",
       "    </tr>\n",
       "    <tr>\n",
       "      <th>7</th>\n",
       "      <td>1</td>\n",
       "      <td>1</td>\n",
       "      <td></td>\n",
       "    </tr>\n",
       "    <tr>\n",
       "      <th>8</th>\n",
       "      <td>1</td>\n",
       "      <td>1</td>\n",
       "      <td></td>\n",
       "    </tr>\n",
       "    <tr>\n",
       "      <th>9</th>\n",
       "      <td>0</td>\n",
       "      <td>0</td>\n",
       "      <td></td>\n",
       "    </tr>\n",
       "    <tr>\n",
       "      <th>10</th>\n",
       "      <td>0</td>\n",
       "      <td>0</td>\n",
       "      <td></td>\n",
       "    </tr>\n",
       "    <tr>\n",
       "      <th>11</th>\n",
       "      <td>0</td>\n",
       "      <td>0</td>\n",
       "      <td></td>\n",
       "    </tr>\n",
       "    <tr>\n",
       "      <th>12</th>\n",
       "      <td>0</td>\n",
       "      <td>0</td>\n",
       "      <td></td>\n",
       "    </tr>\n",
       "    <tr>\n",
       "      <th>13</th>\n",
       "      <td>1</td>\n",
       "      <td>1</td>\n",
       "      <td></td>\n",
       "    </tr>\n",
       "    <tr>\n",
       "      <th>14</th>\n",
       "      <td>0</td>\n",
       "      <td>0</td>\n",
       "      <td></td>\n",
       "    </tr>\n",
       "    <tr>\n",
       "      <th>15</th>\n",
       "      <td>0</td>\n",
       "      <td>0</td>\n",
       "      <td></td>\n",
       "    </tr>\n",
       "    <tr>\n",
       "      <th>16</th>\n",
       "      <td>0</td>\n",
       "      <td>0</td>\n",
       "      <td></td>\n",
       "    </tr>\n",
       "    <tr>\n",
       "      <th>17</th>\n",
       "      <td>1</td>\n",
       "      <td>0</td>\n",
       "      <td>Yes</td>\n",
       "    </tr>\n",
       "    <tr>\n",
       "      <th>18</th>\n",
       "      <td>0</td>\n",
       "      <td>0</td>\n",
       "      <td></td>\n",
       "    </tr>\n",
       "  </tbody>\n",
       "</table>\n",
       "</div>"
      ],
      "text/plain": [
       "    GPT_label  human_label wrong_prediction\n",
       "0           0            0                 \n",
       "1           0            0                 \n",
       "2           1            1                 \n",
       "3           1            1                 \n",
       "4           0            0                 \n",
       "5           0            0                 \n",
       "6           1            1                 \n",
       "7           1            1                 \n",
       "8           1            1                 \n",
       "9           0            0                 \n",
       "10          0            0                 \n",
       "11          0            0                 \n",
       "12          0            0                 \n",
       "13          1            1                 \n",
       "14          0            0                 \n",
       "15          0            0                 \n",
       "16          0            0                 \n",
       "17          1            0              Yes\n",
       "18          0            0                 "
      ]
     },
     "metadata": {},
     "output_type": "display_data"
    }
   ],
   "source": [
    "transformed_df_dict[iteration]"
   ]
  },
  {
   "attachments": {},
   "cell_type": "markdown",
   "metadata": {},
   "source": [
    "### Emotion Detection\n",
    "ChatGPT performed decently a lot of the time, but seems to take words literally, missing subtle nuances. For example, take text #18:\n",
    "\n",
    "**text:**\n",
    "> [YOU] Ah but it’s just a glass of wine…. It’s just one beer? But is it though? Remember, it’s the accumulation of anything that is the problem. It’s never just one day or one drink. The same way one salad or one workout won’t make you healthy - it’s the accumulation over time. Is alcohol disrupting your routine? Is it causing you to miss every Monday? Is it causing poor food choices every Sunday? One thing I can tell you for certain is it’s negatively impacting your sleep and your metabolic function - even just one glass 🙈. I’m sorry to be the bearer of bad news…. And btw this is not coming from a pioneer…. I’ve been there. I’ve seen the implications it’s had not just on my goals but on my mental health and relationships…. That’s why I’ve reduced my frequency. Frequency is important. You might just think it’s one drink every other night… but when you accumulate the negative affects it has, you’ll understand that frequency matters. #alcohol #isalcoholworthit #onlinecoach #fitnesscoach #transformation #realresults #realpeople #nutritionist #realnutrition [MEMBER] Vicious 🤣\t\n",
    "\n",
    "**ChatGPT response:** Frustration\n"
   ]
  },
  {
   "cell_type": "code",
   "execution_count": 19,
   "metadata": {},
   "outputs": [
    {
     "data": {
      "text/html": [
       "<div>\n",
       "<style scoped>\n",
       "    .dataframe tbody tr th:only-of-type {\n",
       "        vertical-align: middle;\n",
       "    }\n",
       "\n",
       "    .dataframe tbody tr th {\n",
       "        vertical-align: top;\n",
       "    }\n",
       "\n",
       "    .dataframe thead th {\n",
       "        text-align: right;\n",
       "    }\n",
       "</style>\n",
       "<table border=\"1\" class=\"dataframe\">\n",
       "  <thead>\n",
       "    <tr style=\"text-align: right;\">\n",
       "      <th></th>\n",
       "      <th>text</th>\n",
       "      <th>emotions</th>\n",
       "    </tr>\n",
       "  </thead>\n",
       "  <tbody>\n",
       "    <tr>\n",
       "      <th>18</th>\n",
       "      <td>[YOU] Ah but it’s just a glass of wine….    It’s just one beer?                            But is it though?                       Remember, it’s the accumulation of anything that is the problem. It’s never just one day or one drink. The same way one salad or one workout won’t make you healthy - it’s the accumulation over time.                     Is alcohol disrupting your routine? Is it causing you to miss every Monday? Is it causing poor food choices every Sunday?                    One thing I can tell you for certain is it’s negatively impacting your sleep and your metabolic function - even just one glass 🙈.                             I’m sorry to be the bearer of bad news….                                            And btw this is not coming from a pioneer….                                          I’ve been there. I’ve seen the implications it’s had not just on my goals but on my mental health and relationships….                              That’s why I’ve reduced my frequency. Frequency is important. You might just think it’s one drink every other night… but when you accumulate the negative affects it has, you’ll understand that frequency matters.                  #alcohol #isalcoholworthit #onlinecoach #fitnesscoach #transformation #realresults #realpeople #nutritionist #realnutrition  [MEMBER] Vicious 🤣</td>\n",
       "      <td>Frustration</td>\n",
       "    </tr>\n",
       "  </tbody>\n",
       "</table>\n",
       "</div>"
      ],
      "text/plain": [
       "                                                                                                                                                                                                                                                                                                                                                                                                                                                                                                                                                                                                                                                                                                                                                                                                                                                                                                                                                                                                                                                                                                                                                                                                                                                                                                                                                                                         text  \\\n",
       "18  [YOU] Ah but it’s just a glass of wine….    It’s just one beer?                            But is it though?                       Remember, it’s the accumulation of anything that is the problem. It’s never just one day or one drink. The same way one salad or one workout won’t make you healthy - it’s the accumulation over time.                     Is alcohol disrupting your routine? Is it causing you to miss every Monday? Is it causing poor food choices every Sunday?                    One thing I can tell you for certain is it’s negatively impacting your sleep and your metabolic function - even just one glass 🙈.                             I’m sorry to be the bearer of bad news….                                            And btw this is not coming from a pioneer….                                          I’ve been there. I’ve seen the implications it’s had not just on my goals but on my mental health and relationships….                              That’s why I’ve reduced my frequency. Frequency is important. You might just think it’s one drink every other night… but when you accumulate the negative affects it has, you’ll understand that frequency matters.                  #alcohol #isalcoholworthit #onlinecoach #fitnesscoach #transformation #realresults #realpeople #nutritionist #realnutrition  [MEMBER] Vicious 🤣   \n",
       "\n",
       "       emotions  \n",
       "18  Frustration  "
      ]
     },
     "execution_count": 19,
     "metadata": {},
     "output_type": "execute_result"
    }
   ],
   "source": [
    "results_dict[iteration].loc[18:18, ['text', 'emotions']]"
   ]
  },
  {
   "attachments": {},
   "cell_type": "markdown",
   "metadata": {},
   "source": [
    "The literal meaning of \"vicious\" has a negative tone, but in this context, it is evident that the commenter is joking: They don't actually think that the person who wrote the post is mean, just that the poster is reminding them about the unfortunate truth about something they enjoy.\n",
    "\n",
    "\n",
    "Here's another example where ChatGPT was likely wrong about the main emotion:"
   ]
  },
  {
   "cell_type": "code",
   "execution_count": 18,
   "metadata": {},
   "outputs": [
    {
     "data": {
      "text/html": [
       "<div>\n",
       "<style scoped>\n",
       "    .dataframe tbody tr th:only-of-type {\n",
       "        vertical-align: middle;\n",
       "    }\n",
       "\n",
       "    .dataframe tbody tr th {\n",
       "        vertical-align: top;\n",
       "    }\n",
       "\n",
       "    .dataframe thead th {\n",
       "        text-align: right;\n",
       "    }\n",
       "</style>\n",
       "<table border=\"1\" class=\"dataframe\">\n",
       "  <thead>\n",
       "    <tr style=\"text-align: right;\">\n",
       "      <th></th>\n",
       "      <th>text</th>\n",
       "      <th>emotions</th>\n",
       "    </tr>\n",
       "  </thead>\n",
       "  <tbody>\n",
       "    <tr>\n",
       "      <th>5</th>\n",
       "      <td>[YOU] Greetings team from Airlie Beach 👋  Reminder there will be no weekly live training next week as I am on holidays 🙏  I’m curious - have you any holidays planned this year?  [MEMBER] You are less than 2 hours away from where I am thats so cool I love airlie beach just never find the time to go there anymore</td>\n",
       "      <td>Disappointment</td>\n",
       "    </tr>\n",
       "  </tbody>\n",
       "</table>\n",
       "</div>"
      ],
      "text/plain": [
       "                                                                                                                                                                                                                                                                                                                       text  \\\n",
       "5  [YOU] Greetings team from Airlie Beach 👋  Reminder there will be no weekly live training next week as I am on holidays 🙏  I’m curious - have you any holidays planned this year?  [MEMBER] You are less than 2 hours away from where I am thats so cool I love airlie beach just never find the time to go there anymore   \n",
       "\n",
       "         emotions  \n",
       "5  Disappointment  "
      ]
     },
     "execution_count": 18,
     "metadata": {},
     "output_type": "execute_result"
    }
   ],
   "source": [
    "results_dict[iteration].loc[5:5, ['text', 'emotions']]"
   ]
  },
  {
   "attachments": {},
   "cell_type": "markdown",
   "metadata": {},
   "source": [
    "If the comment had simply read \"I love airlie beach just never find the time to go there anymore\", then it would be reasonable to descripe the commenter's main emotion as \"disappointment\". However, in this case, this line is more likely an after thought; the commenter was likely wanting to note a shared interest with the person who wrote the post."
   ]
  },
  {
   "attachments": {},
   "cell_type": "markdown",
   "metadata": {},
   "source": [
    "# 4. Conclusion\n",
    "With a 73.7% accuracy score on the classic sentiment analysis task, ChatGPT performed better than chance"
   ]
  },
  {
   "cell_type": "code",
   "execution_count": null,
   "metadata": {},
   "outputs": [],
   "source": []
  },
  {
   "cell_type": "code",
   "execution_count": null,
   "metadata": {},
   "outputs": [],
   "source": []
  },
  {
   "cell_type": "code",
   "execution_count": null,
   "metadata": {},
   "outputs": [],
   "source": []
  },
  {
   "attachments": {},
   "cell_type": "markdown",
   "metadata": {},
   "source": [
    "#"
   ]
  }
 ],
 "metadata": {
  "kernelspec": {
   "display_name": "Python 3.9.13 64-bit",
   "language": "python",
   "name": "python3"
  },
  "language_info": {
   "codemirror_mode": {
    "name": "ipython",
    "version": 3
   },
   "file_extension": ".py",
   "mimetype": "text/x-python",
   "name": "python",
   "nbconvert_exporter": "python",
   "pygments_lexer": "ipython3",
   "version": "3.10.11"
  },
  "orig_nbformat": 4,
  "vscode": {
   "interpreter": {
    "hash": "11938c6bc6919ae2720b4d5011047913343b08a43b18698fd82dedb0d4417594"
   }
  }
 },
 "nbformat": 4,
 "nbformat_minor": 2
}
