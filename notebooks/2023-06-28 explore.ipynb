{
 "cells": [
  {
   "attachments": {},
   "cell_type": "markdown",
   "metadata": {},
   "source": [
    "# Title\n",
    "[]()"
   ]
  },
  {
   "cell_type": "code",
   "execution_count": 53,
   "metadata": {},
   "outputs": [],
   "source": [
    "\n",
    "import pandas as pd\n",
    "import sys\n",
    "sys.path.append(r\"C:\\Users\\silvh\\OneDrive\\lighthouse\\custom_python\")\n",
    "import os\n",
    "from silvhua import *"
   ]
  },
  {
   "cell_type": "code",
   "execution_count": 63,
   "metadata": {},
   "outputs": [],
   "source": [
    "# set the option to wrap text within cells\n",
    "pd.set_option('display.max_colwidth', None)\n",
    "pd.set_option('display.max_rows', 20)\n",
    "pd.set_option('display.max_columns', None)\n",
    "pd.set_option('display.width', None)"
   ]
  },
  {
   "cell_type": "code",
   "execution_count": 4,
   "metadata": {},
   "outputs": [],
   "source": [
    "from wrangling import filter_df_all_conditions, filter_df_any_condition"
   ]
  },
  {
   "attachments": {},
   "cell_type": "markdown",
   "metadata": {},
   "source": [
    "# Set environmental variables"
   ]
  },
  {
   "cell_type": "code",
   "execution_count": 7,
   "metadata": {},
   "outputs": [],
   "source": [
    "import os\n",
    "os.getenv('OPENAI_API_KEY')"
   ]
  },
  {
   "attachments": {},
   "cell_type": "markdown",
   "metadata": {},
   "source": [
    "# Iteration 1 with `SequentialChain`"
   ]
  },
  {
   "cell_type": "code",
   "execution_count": 6,
   "metadata": {},
   "outputs": [
    {
     "data": {
      "text/plain": [
       "{'text': 'I am so happy to be here!', 'respond': '\\n\\nNo.'}"
      ]
     },
     "execution_count": 6,
     "metadata": {},
     "output_type": "execute_result"
    }
   ],
   "source": [
    "from langchain.llms import OpenAI\n",
    "from langchain.chains import LLMChain\n",
    "from langchain.prompts import PromptTemplate\n",
    "from langchain.chains import SequentialChain\n",
    "# import openai\n",
    "\n",
    "def create_LLMChain(template, input_variables, output_key, llm=OpenAI(temperature=0.7, max_tokens=100)):\n",
    "    \"\"\"\n",
    "    Create an LLMChain object.\n",
    "    Parameters:\n",
    "        - template (str): The template for the prompt, i.e. the value of the `template` \n",
    "            parameter in the PromptTemplate class.\n",
    "        - input_variables (List[str]) \n",
    "        - output_key (str): The key of the output variable.\n",
    "        - llm (OpenAI object): Default is OpenAI()\n",
    "\n",
    "    Returns:\n",
    "        - LLMChain object\n",
    "    \"\"\"\n",
    "    prompt_template = PromptTemplate(\n",
    "        template=template, input_variables=input_variables)\n",
    "    chain = LLMChain(\n",
    "        llm=llm, prompt=prompt_template, output_key=output_key)\n",
    "    return chain\n",
    "\n",
    "def analyze_text_sentiment(text, llm=OpenAI(temperature=0.7, max_tokens=200)):\n",
    "    \"\"\"\n",
    "    Analyze the sentiment of a text.\n",
    "    Parameters:\n",
    "        - text (str): The text to analyze.\n",
    "        - llm (OpenAI object): Default is OpenAI()\n",
    "\n",
    "    Returns:\n",
    "        - sentiment (str): The sentiment of the text.\n",
    "    \"\"\"\n",
    "    \n",
    "    # openai.api_key = os.getenv('api_openai_p')\n",
    "    template_root = \"\"\"\n",
    "    You are the owner of a personal training business. You use a Facebook group to as a lead generation tool.\n",
    "    You aim to respond quickly to posts by group members if they request information, \\\n",
    "    express a desire to improve their fitness, or express dissatisfaction with their current fitness.\n",
    "    Given the following member post delimitted by triple backticks, \n",
    "    \"\"\"\n",
    "    templates = {\n",
    "        'sentiment': 'determine the sentiment of the message as \"positive\", \"neutral\", or \"negative\".',\n",
    "        'emotions': 'determine the emotions expressed in the message.',\n",
    "        'respond': 'indicate whether you need to quickly respond to the message or not using \"yes\" or \"no\".',\n",
    "    }\n",
    "    for template in templates:\n",
    "        chain_dict = {}\n",
    "        chain_dict[template] = create_LLMChain(\n",
    "            template_root+templates[template]+' ```{text}```', \n",
    "            input_variables=['text'], output_key=template,\n",
    "            llm=llm)\n",
    "    overall_chain = SequentialChain(\n",
    "        chains = [chain for chain in chain_dict.values()], \n",
    "        input_variables = ['text' for chain in chain_dict.values()],\n",
    "        output_variables = list(chain_dict.keys())\n",
    "    )\n",
    "    return overall_chain(text)\n",
    "\n",
    "iteration_id = 1\n",
    "message = 'I am so happy to be here!'\n",
    "response = {\n",
    "    iteration_id: analyze_text_sentiment(message),\n",
    "}\n",
    "response[iteration_id]"
   ]
  },
  {
   "attachments": {},
   "cell_type": "markdown",
   "metadata": {},
   "source": [
    "## 1.1"
   ]
  },
  {
   "cell_type": "code",
   "execution_count": 9,
   "metadata": {},
   "outputs": [
    {
     "name": "stdout",
     "output_type": "stream",
     "text": [
      "\n",
      "\n",
      "\u001b[1m> Entering new  chain...\u001b[0m\n",
      "\n",
      "\u001b[1m> Finished chain.\u001b[0m\n"
     ]
    },
    {
     "data": {
      "text/plain": [
       "{'text': 'I am so happy to be here!', 'sentiment': '\\n\\nPositive'}"
      ]
     },
     "execution_count": 9,
     "metadata": {},
     "output_type": "execute_result"
    }
   ],
   "source": [
    "from langchain.llms import OpenAI\n",
    "from langchain.chains import LLMChain\n",
    "from langchain.prompts import PromptTemplate\n",
    "from langchain.chains import SequentialChain\n",
    "# import openai\n",
    "\n",
    "def create_LLMChain(template, input_variables, output_key, llm=OpenAI(temperature=0.7, max_tokens=100)):\n",
    "    \"\"\"\n",
    "    Create an LLMChain object.\n",
    "    Parameters:\n",
    "        - template (str): The template for the prompt, i.e. the value of the `template` \n",
    "            parameter in the PromptTemplate class.\n",
    "        - input_variables (List[str]) \n",
    "        - output_key (str): The key of the output variable.\n",
    "        - llm (OpenAI object): Default is OpenAI()\n",
    "\n",
    "    Returns:\n",
    "        - LLMChain object\n",
    "    \"\"\"\n",
    "    prompt_template = PromptTemplate(\n",
    "        template=template, input_variables=input_variables)\n",
    "    chain = LLMChain(\n",
    "        llm=llm, prompt=prompt_template, output_key=output_key)\n",
    "    return chain\n",
    "\n",
    "def analyze_text_sentiment(text, llm=OpenAI(temperature=0.7, max_tokens=200)):\n",
    "    \"\"\"\n",
    "    Analyze the sentiment of a text.\n",
    "    Parameters:\n",
    "        - text (str): The text to analyze.\n",
    "        - llm (OpenAI object): Default is OpenAI()\n",
    "\n",
    "    Returns:\n",
    "        - sentiment (str): The sentiment of the text.\n",
    "    \"\"\"\n",
    "    \n",
    "    # openai.api_key = os.getenv('api_openai_p')\n",
    "    template_root = \"\"\"\n",
    "    You are the owner of a personal training business. You use a Facebook group to as a lead generation tool.\n",
    "    You aim to respond quickly to posts by group members if they request information, \\\n",
    "    express a desire to improve their fitness, or express dissatisfaction with their current fitness.\n",
    "    Given the following member post delimitted by triple backticks, \n",
    "    \"\"\"\n",
    "    templates = {\n",
    "        'sentiment': 'determine the sentiment of the message as \"positive\", \"neutral\", or \"negative\".',\n",
    "        # 'emotions': 'determine the emotions expressed in the message.',\n",
    "        # 'respond': 'indicate whether you need to quickly respond to the message or not using \"yes\" or \"no\".',\n",
    "    }\n",
    "    for template in templates:\n",
    "        chain_dict = {}\n",
    "        chain_dict[template] = create_LLMChain(\n",
    "            template_root+templates[template]+' ```{text}```', \n",
    "            input_variables=['text'], output_key=template,\n",
    "            llm=llm)\n",
    "    overall_chain = SequentialChain(\n",
    "        chains = [chain for chain in chain_dict.values()], \n",
    "        input_variables = ['text' for chain in chain_dict.values()],\n",
    "        output_variables = list(chain_dict.keys()), verbose=True\n",
    "    )\n",
    "    return overall_chain(text)\n",
    "\n",
    "iteration_id = 1.1\n",
    "message = 'I am so happy to be here!'\n",
    "response = {\n",
    "    iteration_id: analyze_text_sentiment(message),\n",
    "}\n",
    "response[iteration_id]"
   ]
  },
  {
   "attachments": {},
   "cell_type": "markdown",
   "metadata": {},
   "source": [
    "## 1.11"
   ]
  },
  {
   "cell_type": "code",
   "execution_count": 10,
   "metadata": {},
   "outputs": [
    {
     "ename": "ValidationError",
     "evalue": "1 validation error for SequentialChain\n__root__\n  Missing required input keys: {'text'}, only had {'I am so happy to be here!'} (type=value_error)",
     "output_type": "error",
     "traceback": [
      "\u001b[1;31m---------------------------------------------------------------------------\u001b[0m",
      "\u001b[1;31mValidationError\u001b[0m                           Traceback (most recent call last)",
      "Cell \u001b[1;32mIn[10], line 65\u001b[0m\n\u001b[0;32m     62\u001b[0m iteration_id \u001b[39m=\u001b[39m \u001b[39m1.1\u001b[39m\n\u001b[0;32m     63\u001b[0m message \u001b[39m=\u001b[39m \u001b[39m'\u001b[39m\u001b[39mI am so happy to be here!\u001b[39m\u001b[39m'\u001b[39m\n\u001b[0;32m     64\u001b[0m response \u001b[39m=\u001b[39m {\n\u001b[1;32m---> 65\u001b[0m     iteration_id: analyze_text_sentiment(message),\n\u001b[0;32m     66\u001b[0m }\n\u001b[0;32m     67\u001b[0m response[iteration_id]\n",
      "Cell \u001b[1;32mIn[10], line 55\u001b[0m, in \u001b[0;36manalyze_text_sentiment\u001b[1;34m(text, llm)\u001b[0m\n\u001b[0;32m     50\u001b[0m     chain_dict \u001b[39m=\u001b[39m {}\n\u001b[0;32m     51\u001b[0m     chain_dict[template] \u001b[39m=\u001b[39m create_LLMChain(\n\u001b[0;32m     52\u001b[0m         template_root\u001b[39m+\u001b[39mtemplates[template]\u001b[39m+\u001b[39m\u001b[39m'\u001b[39m\u001b[39m ```\u001b[39m\u001b[39m{text}\u001b[39;00m\u001b[39m```\u001b[39m\u001b[39m'\u001b[39m, \n\u001b[0;32m     53\u001b[0m         input_variables\u001b[39m=\u001b[39m[\u001b[39m'\u001b[39m\u001b[39mtext\u001b[39m\u001b[39m'\u001b[39m], output_key\u001b[39m=\u001b[39mtemplate,\n\u001b[0;32m     54\u001b[0m         llm\u001b[39m=\u001b[39mllm)\n\u001b[1;32m---> 55\u001b[0m overall_chain \u001b[39m=\u001b[39m SequentialChain(\n\u001b[0;32m     56\u001b[0m     chains \u001b[39m=\u001b[39;49m [chain \u001b[39mfor\u001b[39;49;00m chain \u001b[39min\u001b[39;49;00m chain_dict\u001b[39m.\u001b[39;49mvalues()], \n\u001b[0;32m     57\u001b[0m     input_variables \u001b[39m=\u001b[39;49m [text \u001b[39mfor\u001b[39;49;00m chain \u001b[39min\u001b[39;49;00m chain_dict\u001b[39m.\u001b[39;49mvalues()],\n\u001b[0;32m     58\u001b[0m     output_variables \u001b[39m=\u001b[39;49m \u001b[39mlist\u001b[39;49m(chain_dict\u001b[39m.\u001b[39;49mkeys()), verbose\u001b[39m=\u001b[39;49m\u001b[39mTrue\u001b[39;49;00m\n\u001b[0;32m     59\u001b[0m )\n\u001b[0;32m     60\u001b[0m \u001b[39mreturn\u001b[39;00m overall_chain(text)\n",
      "File \u001b[1;32mc:\\Users\\silvh\\.conda\\envs\\projects\\lib\\site-packages\\langchain\\load\\serializable.py:74\u001b[0m, in \u001b[0;36mSerializable.__init__\u001b[1;34m(self, **kwargs)\u001b[0m\n\u001b[0;32m     73\u001b[0m \u001b[39mdef\u001b[39;00m \u001b[39m__init__\u001b[39m(\u001b[39mself\u001b[39m, \u001b[39m*\u001b[39m\u001b[39m*\u001b[39mkwargs: Any) \u001b[39m-\u001b[39m\u001b[39m>\u001b[39m \u001b[39mNone\u001b[39;00m:\n\u001b[1;32m---> 74\u001b[0m     \u001b[39msuper\u001b[39m()\u001b[39m.\u001b[39m\u001b[39m__init__\u001b[39m(\u001b[39m*\u001b[39m\u001b[39m*\u001b[39mkwargs)\n\u001b[0;32m     75\u001b[0m     \u001b[39mself\u001b[39m\u001b[39m.\u001b[39m_lc_kwargs \u001b[39m=\u001b[39m kwargs\n",
      "File \u001b[1;32mc:\\Users\\silvh\\.conda\\envs\\projects\\lib\\site-packages\\pydantic\\main.py:341\u001b[0m, in \u001b[0;36mpydantic.main.BaseModel.__init__\u001b[1;34m()\u001b[0m\n",
      "\u001b[1;31mValidationError\u001b[0m: 1 validation error for SequentialChain\n__root__\n  Missing required input keys: {'text'}, only had {'I am so happy to be here!'} (type=value_error)"
     ]
    }
   ],
   "source": [
    "from langchain.llms import OpenAI\n",
    "from langchain.chains import LLMChain\n",
    "from langchain.prompts import PromptTemplate\n",
    "from langchain.chains import SequentialChain\n",
    "# import openai\n",
    "\n",
    "def create_LLMChain(template, input_variables, output_key, llm=OpenAI(temperature=0.7, max_tokens=100)):\n",
    "    \"\"\"\n",
    "    Create an LLMChain object.\n",
    "    Parameters:\n",
    "        - template (str): The template for the prompt, i.e. the value of the `template` \n",
    "            parameter in the PromptTemplate class.\n",
    "        - input_variables (List[str]) \n",
    "        - output_key (str): The key of the output variable.\n",
    "        - llm (OpenAI object): Default is OpenAI()\n",
    "\n",
    "    Returns:\n",
    "        - LLMChain object\n",
    "    \"\"\"\n",
    "    prompt_template = PromptTemplate(\n",
    "        template=template, input_variables=input_variables)\n",
    "    chain = LLMChain(\n",
    "        llm=llm, prompt=prompt_template, output_key=output_key)\n",
    "    return chain\n",
    "\n",
    "def analyze_text_sentiment(text, llm=OpenAI(temperature=0.7, max_tokens=200)):\n",
    "    \"\"\"\n",
    "    Analyze the sentiment of a text.\n",
    "    Parameters:\n",
    "        - text (str): The text to analyze.\n",
    "        - llm (OpenAI object): Default is OpenAI()\n",
    "\n",
    "    Returns:\n",
    "        - sentiment (str): The sentiment of the text.\n",
    "    \"\"\"\n",
    "    \n",
    "    # openai.api_key = os.getenv('api_openai_p')\n",
    "    template_root = \"\"\"\n",
    "    You are the owner of a personal training business. You use a Facebook group to as a lead generation tool.\n",
    "    You aim to respond quickly to posts by group members if they request information, \\\n",
    "    express a desire to improve their fitness, or express dissatisfaction with their current fitness.\n",
    "    Given the following member post delimitted by triple backticks, \n",
    "    \"\"\"\n",
    "    templates = {\n",
    "        'sentiment': 'determine the sentiment of the message as \"positive\", \"neutral\", or \"negative\".',\n",
    "        'emotions': 'determine the emotions expressed in the message.',\n",
    "        # 'respond': 'indicate whether you need to quickly respond to the message or not using \"yes\" or \"no\".',\n",
    "    }\n",
    "    for template in templates:\n",
    "        chain_dict = {}\n",
    "        chain_dict[template] = create_LLMChain(\n",
    "            template_root+templates[template]+' ```{text}```', \n",
    "            input_variables=['text'], output_key=template,\n",
    "            llm=llm)\n",
    "    overall_chain = SequentialChain(\n",
    "        chains = [chain for chain in chain_dict.values()], \n",
    "        input_variables = [text for chain in chain_dict.values()],\n",
    "        output_variables = list(chain_dict.keys()), verbose=True\n",
    "    )\n",
    "    return overall_chain(text)\n",
    "\n",
    "iteration_id = 1.1\n",
    "message = 'I am so happy to be here!'\n",
    "response = {\n",
    "    iteration_id: analyze_text_sentiment(message),\n",
    "}\n",
    "response[iteration_id]"
   ]
  },
  {
   "cell_type": "code",
   "execution_count": 11,
   "metadata": {},
   "outputs": [
    {
     "data": {
      "text/plain": [
       "{'text': 'I am so happy to be here!', 'sentiment': '\\n\\nPositive'}"
      ]
     },
     "execution_count": 11,
     "metadata": {},
     "output_type": "execute_result"
    }
   ],
   "source": [
    "response[iteration_id]"
   ]
  },
  {
   "attachments": {},
   "cell_type": "markdown",
   "metadata": {},
   "source": [
    "## 1.12"
   ]
  },
  {
   "cell_type": "code",
   "execution_count": 15,
   "metadata": {},
   "outputs": [
    {
     "ename": "ValidationError",
     "evalue": "1 validation error for PromptTemplate\n__root__\n  Invalid prompt schema; check for mismatched or missing input parameters. 'text' (type=value_error)",
     "output_type": "error",
     "traceback": [
      "\u001b[1;31m---------------------------------------------------------------------------\u001b[0m",
      "\u001b[1;31mValidationError\u001b[0m                           Traceback (most recent call last)",
      "Cell \u001b[1;32mIn[15], line 65\u001b[0m\n\u001b[0;32m     62\u001b[0m iteration_id \u001b[39m=\u001b[39m \u001b[39m1.12\u001b[39m\n\u001b[0;32m     63\u001b[0m message \u001b[39m=\u001b[39m \u001b[39m'\u001b[39m\u001b[39mI am so happy to be here!\u001b[39m\u001b[39m'\u001b[39m\n\u001b[0;32m     64\u001b[0m response \u001b[39m=\u001b[39m {\n\u001b[1;32m---> 65\u001b[0m     iteration_id: analyze_text_sentiment(message),\n\u001b[0;32m     66\u001b[0m }\n\u001b[0;32m     67\u001b[0m response[iteration_id]\n",
      "Cell \u001b[1;32mIn[15], line 51\u001b[0m, in \u001b[0;36manalyze_text_sentiment\u001b[1;34m(text, llm)\u001b[0m\n\u001b[0;32m     49\u001b[0m \u001b[39mfor\u001b[39;00m template \u001b[39min\u001b[39;00m templates:\n\u001b[0;32m     50\u001b[0m     chain_dict \u001b[39m=\u001b[39m {}\n\u001b[1;32m---> 51\u001b[0m     chain_dict[template] \u001b[39m=\u001b[39m create_LLMChain(\n\u001b[0;32m     52\u001b[0m         template_root\u001b[39m+\u001b[39;49mtemplates[template]\u001b[39m+\u001b[39;49m\u001b[39m'\u001b[39;49m\u001b[39m ```\u001b[39;49m\u001b[39m{text}\u001b[39;49;00m\u001b[39m```\u001b[39;49m\u001b[39m'\u001b[39;49m, \n\u001b[0;32m     53\u001b[0m         input_variables\u001b[39m=\u001b[39;49m[\u001b[39mf\u001b[39;49m\u001b[39m'\u001b[39;49m\u001b[39mtext_\u001b[39;49m\u001b[39m{\u001b[39;49;00mtemplate\u001b[39m}\u001b[39;49;00m\u001b[39m'\u001b[39;49m], output_key\u001b[39m=\u001b[39;49mtemplate,\n\u001b[0;32m     54\u001b[0m         llm\u001b[39m=\u001b[39;49mllm)\n\u001b[0;32m     55\u001b[0m overall_chain \u001b[39m=\u001b[39m SequentialChain(\n\u001b[0;32m     56\u001b[0m     chains \u001b[39m=\u001b[39m [chain \u001b[39mfor\u001b[39;00m chain \u001b[39min\u001b[39;00m chain_dict\u001b[39m.\u001b[39mvalues()], \n\u001b[0;32m     57\u001b[0m     input_variables \u001b[39m=\u001b[39m [\u001b[39mf\u001b[39m\u001b[39m'\u001b[39m\u001b[39mtext_\u001b[39m\u001b[39m{\u001b[39;00mtemplate\u001b[39m}\u001b[39;00m\u001b[39m'\u001b[39m \u001b[39mfor\u001b[39;00m template \u001b[39min\u001b[39;00m chain_dict\u001b[39m.\u001b[39mvalues()],\n\u001b[0;32m     58\u001b[0m     output_variables \u001b[39m=\u001b[39m \u001b[39mlist\u001b[39m(chain_dict\u001b[39m.\u001b[39mkeys()), verbose\u001b[39m=\u001b[39m\u001b[39mTrue\u001b[39;00m\n\u001b[0;32m     59\u001b[0m )\n\u001b[0;32m     60\u001b[0m \u001b[39mreturn\u001b[39;00m overall_chain(text)\n",
      "Cell \u001b[1;32mIn[15], line 20\u001b[0m, in \u001b[0;36mcreate_LLMChain\u001b[1;34m(template, input_variables, output_key, llm)\u001b[0m\n\u001b[0;32m      7\u001b[0m \u001b[39mdef\u001b[39;00m \u001b[39mcreate_LLMChain\u001b[39m(template, input_variables, output_key, llm\u001b[39m=\u001b[39mOpenAI(temperature\u001b[39m=\u001b[39m\u001b[39m0.7\u001b[39m, max_tokens\u001b[39m=\u001b[39m\u001b[39m100\u001b[39m)):\n\u001b[0;32m      8\u001b[0m \u001b[39m    \u001b[39m\u001b[39m\"\"\"\u001b[39;00m\n\u001b[0;32m      9\u001b[0m \u001b[39m    Create an LLMChain object.\u001b[39;00m\n\u001b[0;32m     10\u001b[0m \u001b[39m    Parameters:\u001b[39;00m\n\u001b[1;32m   (...)\u001b[0m\n\u001b[0;32m     18\u001b[0m \u001b[39m        - LLMChain object\u001b[39;00m\n\u001b[0;32m     19\u001b[0m \u001b[39m    \"\"\"\u001b[39;00m\n\u001b[1;32m---> 20\u001b[0m     prompt_template \u001b[39m=\u001b[39m PromptTemplate(\n\u001b[0;32m     21\u001b[0m         template\u001b[39m=\u001b[39;49mtemplate, input_variables\u001b[39m=\u001b[39;49minput_variables, verbose\u001b[39m=\u001b[39;49m\u001b[39mTrue\u001b[39;49;00m)\n\u001b[0;32m     22\u001b[0m     chain \u001b[39m=\u001b[39m LLMChain(\n\u001b[0;32m     23\u001b[0m         llm\u001b[39m=\u001b[39mllm, prompt\u001b[39m=\u001b[39mprompt_template, output_key\u001b[39m=\u001b[39moutput_key)\n\u001b[0;32m     24\u001b[0m     \u001b[39mreturn\u001b[39;00m chain\n",
      "File \u001b[1;32mc:\\Users\\silvh\\.conda\\envs\\projects\\lib\\site-packages\\langchain\\load\\serializable.py:74\u001b[0m, in \u001b[0;36mSerializable.__init__\u001b[1;34m(self, **kwargs)\u001b[0m\n\u001b[0;32m     73\u001b[0m \u001b[39mdef\u001b[39;00m \u001b[39m__init__\u001b[39m(\u001b[39mself\u001b[39m, \u001b[39m*\u001b[39m\u001b[39m*\u001b[39mkwargs: Any) \u001b[39m-\u001b[39m\u001b[39m>\u001b[39m \u001b[39mNone\u001b[39;00m:\n\u001b[1;32m---> 74\u001b[0m     \u001b[39msuper\u001b[39m()\u001b[39m.\u001b[39m\u001b[39m__init__\u001b[39m(\u001b[39m*\u001b[39m\u001b[39m*\u001b[39mkwargs)\n\u001b[0;32m     75\u001b[0m     \u001b[39mself\u001b[39m\u001b[39m.\u001b[39m_lc_kwargs \u001b[39m=\u001b[39m kwargs\n",
      "File \u001b[1;32mc:\\Users\\silvh\\.conda\\envs\\projects\\lib\\site-packages\\pydantic\\main.py:341\u001b[0m, in \u001b[0;36mpydantic.main.BaseModel.__init__\u001b[1;34m()\u001b[0m\n",
      "\u001b[1;31mValidationError\u001b[0m: 1 validation error for PromptTemplate\n__root__\n  Invalid prompt schema; check for mismatched or missing input parameters. 'text' (type=value_error)"
     ]
    }
   ],
   "source": [
    "from langchain.llms import OpenAI\n",
    "from langchain.chains import LLMChain\n",
    "from langchain.prompts import PromptTemplate\n",
    "from langchain.chains import SequentialChain\n",
    "# import openai\n",
    "\n",
    "def create_LLMChain(template, input_variables, output_key, llm=OpenAI(temperature=0.7, max_tokens=100)):\n",
    "    \"\"\"\n",
    "    Create an LLMChain object.\n",
    "    Parameters:\n",
    "        - template (str): The template for the prompt, i.e. the value of the `template` \n",
    "            parameter in the PromptTemplate class.\n",
    "        - input_variables (List[str]) \n",
    "        - output_key (str): The key of the output variable.\n",
    "        - llm (OpenAI object): Default is OpenAI()\n",
    "\n",
    "    Returns:\n",
    "        - LLMChain object\n",
    "    \"\"\"\n",
    "    prompt_template = PromptTemplate(\n",
    "        template=template, input_variables=input_variables, verbose=True)\n",
    "    chain = LLMChain(\n",
    "        llm=llm, prompt=prompt_template, output_key=output_key)\n",
    "    return chain\n",
    "\n",
    "def analyze_text_sentiment(text, llm=OpenAI(temperature=0.7, max_tokens=200)):\n",
    "    \"\"\"\n",
    "    Analyze the sentiment of a text.\n",
    "    Parameters:\n",
    "        - text (str): The text to analyze.\n",
    "        - llm (OpenAI object): Default is OpenAI()\n",
    "\n",
    "    Returns:\n",
    "        - sentiment (str): The sentiment of the text.\n",
    "    \"\"\"\n",
    "    \n",
    "    # openai.api_key = os.getenv('api_openai_p')\n",
    "    template_root = \"\"\"\n",
    "    You are the owner of a personal training business. You use a Facebook group to as a lead generation tool.\n",
    "    You aim to respond quickly to posts by group members if they request information, \\\n",
    "    express a desire to improve their fitness, or express dissatisfaction with their current fitness.\n",
    "    Given the following member post delimitted by triple backticks, \n",
    "    \"\"\"\n",
    "    templates = {\n",
    "        'sentiment': 'determine the sentiment of the message as \"positive\", \"neutral\", or \"negative\".',\n",
    "        'emotions': 'determine the emotions expressed in the message.',\n",
    "        # 'respond': 'indicate whether you need to quickly respond to the message or not using \"yes\" or \"no\".',\n",
    "    }\n",
    "    for template in templates:\n",
    "        chain_dict = {}\n",
    "        input_variables = [f'text_{template}']\n",
    "        chain_dict[template] = create_LLMChain(\n",
    "            template_root+templates[template]+' ```{text}```', \n",
    "            input_variables=[f'text_{template}'], output_key=template,\n",
    "            llm=llm)\n",
    "    overall_chain = SequentialChain(\n",
    "        chains = [chain for chain in chain_dict.values()], \n",
    "        input_variables = [f'text_{template}' for template in chain_dict.values()],\n",
    "        output_variables = list(chain_dict.keys()), verbose=True\n",
    "    )\n",
    "    return overall_chain(text)\n",
    "\n",
    "iteration_id = 1.12\n",
    "message = 'I am so happy to be here!'\n",
    "response = {\n",
    "    iteration_id: analyze_text_sentiment(message),\n",
    "}\n",
    "response[iteration_id]"
   ]
  },
  {
   "attachments": {},
   "cell_type": "markdown",
   "metadata": {},
   "source": [
    "## 1.2"
   ]
  },
  {
   "cell_type": "code",
   "execution_count": 16,
   "metadata": {},
   "outputs": [
    {
     "name": "stdout",
     "output_type": "stream",
     "text": [
      "\n",
      "\n",
      "\u001b[1m> Entering new  chain...\u001b[0m\n",
      "\n",
      "\u001b[1m> Finished chain.\u001b[0m\n"
     ]
    },
    {
     "data": {
      "text/plain": [
       "{'text': 'I am so happy to be here!', 'sentiment': '\\n\\nPositive'}"
      ]
     },
     "execution_count": 16,
     "metadata": {},
     "output_type": "execute_result"
    }
   ],
   "source": [
    "from langchain.llms import OpenAI\n",
    "from langchain.chains import LLMChain\n",
    "from langchain.prompts import PromptTemplate\n",
    "from langchain.chains import SequentialChain\n",
    "# import openai\n",
    "\n",
    "def create_LLMChain(template, input_variables, output_key, llm=OpenAI(temperature=0.7, max_tokens=100)):\n",
    "    \"\"\"\n",
    "    Create an LLMChain object.\n",
    "    Parameters:\n",
    "        - template (str): The template for the prompt, i.e. the value of the `template` \n",
    "            parameter in the PromptTemplate class.\n",
    "        - input_variables (List[str]) \n",
    "        - output_key (str): The key of the output variable.\n",
    "        - llm (OpenAI object): Default is OpenAI()\n",
    "\n",
    "    Returns:\n",
    "        - LLMChain object\n",
    "    \"\"\"\n",
    "    prompt_template = PromptTemplate(\n",
    "        template=template, input_variables=input_variables)\n",
    "    chain = LLMChain(\n",
    "        llm=llm, prompt=prompt_template, output_key=output_key)\n",
    "    return chain\n",
    "\n",
    "def analyze_text_sentiment(text, llm=OpenAI(temperature=0.7, max_tokens=200)):\n",
    "    \"\"\"\n",
    "    Analyze the sentiment of a text.\n",
    "    Parameters:\n",
    "        - text (str): The text to analyze.\n",
    "        - llm (OpenAI object): Default is OpenAI()\n",
    "\n",
    "    Returns:\n",
    "        - sentiment (str): The sentiment of the text.\n",
    "    \"\"\"\n",
    "    \n",
    "    # openai.api_key = os.getenv('api_openai_p')\n",
    "    template_root = \"\"\"\n",
    "    You are the owner of a personal training business. You use a Facebook group to as a lead generation tool.\n",
    "    You aim to respond quickly to posts by group members if they request information, \\\n",
    "    express a desire to improve their fitness, or express dissatisfaction with their current fitness.\n",
    "    Given the following member post delimitted by triple backticks, \n",
    "    \"\"\"\n",
    "    templates = {\n",
    "        'sentiment': 'determine the sentiment of the message as \"positive\", \"neutral\", or \"negative\".',\n",
    "        # 'emotions': 'determine the emotions expressed in the message.',\n",
    "        # 'respond': 'indicate whether you need to quickly respond to the message or not using \"yes\" or \"no\".',\n",
    "    }\n",
    "    chain_dict = {}\n",
    "    for template in templates:\n",
    "        chain_dict[template] = create_LLMChain(\n",
    "            template_root+templates[template]+' ```{text}```', \n",
    "            input_variables=['text'], output_key=template,\n",
    "            llm=llm)\n",
    "    overall_chain = SequentialChain(\n",
    "        chains = [chain for chain in chain_dict.values()], \n",
    "        input_variables = ['text' for chain in chain_dict.values()],\n",
    "        output_variables = list(chain_dict.keys()), verbose=True\n",
    "    )\n",
    "    return overall_chain(text)\n",
    "\n",
    "iteration_id = 1.2\n",
    "message = 'I am so happy to be here!'\n",
    "response = {\n",
    "    iteration_id: analyze_text_sentiment(message),\n",
    "}\n",
    "response[iteration_id]"
   ]
  },
  {
   "attachments": {},
   "cell_type": "markdown",
   "metadata": {},
   "source": [
    "## 1.21 Success"
   ]
  },
  {
   "cell_type": "code",
   "execution_count": 17,
   "metadata": {},
   "outputs": [
    {
     "name": "stdout",
     "output_type": "stream",
     "text": [
      "\n",
      "\n",
      "\u001b[1m> Entering new  chain...\u001b[0m\n",
      "\n",
      "\u001b[1m> Finished chain.\u001b[0m\n"
     ]
    },
    {
     "data": {
      "text/plain": [
       "{'text': 'I am so happy to be here!',\n",
       " 'sentiment': '\\n\\nPositive',\n",
       " 'emotions': '\\n\\nThe emotion expressed in the message is happiness.',\n",
       " 'respond': '\\n\\nNo.'}"
      ]
     },
     "execution_count": 17,
     "metadata": {},
     "output_type": "execute_result"
    }
   ],
   "source": [
    "from langchain.llms import OpenAI\n",
    "from langchain.chains import LLMChain\n",
    "from langchain.prompts import PromptTemplate\n",
    "from langchain.chains import SequentialChain\n",
    "# import openai\n",
    "\n",
    "def create_LLMChain(template, input_variables, output_key, llm=OpenAI(temperature=0.7, max_tokens=100)):\n",
    "    \"\"\"\n",
    "    Create an LLMChain object.\n",
    "    Parameters:\n",
    "        - template (str): The template for the prompt, i.e. the value of the `template` \n",
    "            parameter in the PromptTemplate class.\n",
    "        - input_variables (List[str]) \n",
    "        - output_key (str): The key of the output variable.\n",
    "        - llm (OpenAI object): Default is OpenAI()\n",
    "\n",
    "    Returns:\n",
    "        - LLMChain object\n",
    "    \"\"\"\n",
    "    prompt_template = PromptTemplate(\n",
    "        template=template, input_variables=input_variables)\n",
    "    chain = LLMChain(\n",
    "        llm=llm, prompt=prompt_template, output_key=output_key)\n",
    "    return chain\n",
    "\n",
    "def analyze_text_sentiment(text, llm=OpenAI(temperature=0.7, max_tokens=200)):\n",
    "    \"\"\"\n",
    "    Analyze the sentiment of a text.\n",
    "    Parameters:\n",
    "        - text (str): The text to analyze.\n",
    "        - llm (OpenAI object): Default is OpenAI()\n",
    "\n",
    "    Returns:\n",
    "        - sentiment (str): The sentiment of the text.\n",
    "    \"\"\"\n",
    "    \n",
    "    # openai.api_key = os.getenv('api_openai_p')\n",
    "    template_root = \"\"\"\n",
    "    You are the owner of a personal training business. You use a Facebook group to as a lead generation tool.\n",
    "    You aim to respond quickly to posts by group members if they request information, \\\n",
    "    express a desire to improve their fitness, or express dissatisfaction with their current fitness.\n",
    "    Given the following member post delimitted by triple backticks, \n",
    "    \"\"\"\n",
    "    templates = {\n",
    "        'sentiment': 'determine the sentiment of the message as \"positive\", \"neutral\", or \"negative\".',\n",
    "        'emotions': 'determine the emotions expressed in the message.',\n",
    "        'respond': 'indicate whether you need to quickly respond to the message or not using \"yes\" or \"no\".',\n",
    "    }\n",
    "    chain_dict = {}\n",
    "    for template in templates:\n",
    "        chain_dict[template] = create_LLMChain(\n",
    "            template_root+templates[template]+' ```{text}```', \n",
    "            input_variables=['text'], output_key=template,\n",
    "            llm=llm)\n",
    "    overall_chain = SequentialChain(\n",
    "        chains = [chain for chain in chain_dict.values()], \n",
    "        input_variables = ['text' for chain in chain_dict.values()],\n",
    "        output_variables = list(chain_dict.keys()), verbose=True\n",
    "    )\n",
    "    return overall_chain(text)\n",
    "\n",
    "iteration_id = 1.21\n",
    "message = 'I am so happy to be here!'\n",
    "response = {\n",
    "    iteration_id: analyze_text_sentiment(message),\n",
    "}\n",
    "response[iteration_id]"
   ]
  },
  {
   "cell_type": "code",
   "execution_count": 18,
   "metadata": {},
   "outputs": [
    {
     "name": "stdout",
     "output_type": "stream",
     "text": [
      "{'text': 'I am so happy to be here!', 'sentiment': '\\n\\nPositive', 'emotions': '\\n\\nThe emotion expressed in the message is happiness.', 'respond': '\\n\\nNo.'}\n"
     ]
    }
   ],
   "source": [
    "print(response[iteration_id])"
   ]
  },
  {
   "attachments": {},
   "cell_type": "markdown",
   "metadata": {},
   "source": [
    "## 1.122"
   ]
  },
  {
   "cell_type": "code",
   "execution_count": 19,
   "metadata": {},
   "outputs": [
    {
     "name": "stdout",
     "output_type": "stream",
     "text": [
      "\n",
      "\n",
      "\u001b[1m> Entering new  chain...\u001b[0m\n",
      "\n",
      "\u001b[1m> Finished chain.\u001b[0m\n"
     ]
    },
    {
     "data": {
      "text/plain": [
       "{'text': 'I wish I were batman',\n",
       " 'sentiment': '\\n\\nPositive',\n",
       " 'emotions': '\\n\\nThe emotions expressed in the message are: yearning, envy, and dissatisfaction.',\n",
       " 'respond': '\\n\\nNo.'}"
      ]
     },
     "execution_count": 19,
     "metadata": {},
     "output_type": "execute_result"
    }
   ],
   "source": [
    "from langchain.llms import OpenAI\n",
    "from langchain.chains import LLMChain\n",
    "from langchain.prompts import PromptTemplate\n",
    "from langchain.chains import SequentialChain\n",
    "# import openai\n",
    "\n",
    "def create_LLMChain(template, input_variables, output_key, llm=OpenAI(temperature=0.7, max_tokens=100)):\n",
    "    \"\"\"\n",
    "    Create an LLMChain object.\n",
    "    Parameters:\n",
    "        - template (str): The template for the prompt, i.e. the value of the `template` \n",
    "            parameter in the PromptTemplate class.\n",
    "        - input_variables (List[str]) \n",
    "        - output_key (str): The key of the output variable.\n",
    "        - llm (OpenAI object): Default is OpenAI()\n",
    "\n",
    "    Returns:\n",
    "        - LLMChain object\n",
    "    \"\"\"\n",
    "    prompt_template = PromptTemplate(\n",
    "        template=template, input_variables=input_variables)\n",
    "    chain = LLMChain(\n",
    "        llm=llm, prompt=prompt_template, output_key=output_key)\n",
    "    return chain, prompt_template\n",
    "\n",
    "def analyze_text_sentiment(text, llm=OpenAI(temperature=0.7, max_tokens=200)):\n",
    "    \"\"\"\n",
    "    Analyze the sentiment of a text.\n",
    "    Parameters:\n",
    "        - text (str): The text to analyze.\n",
    "        - llm (OpenAI object): Default is OpenAI()\n",
    "\n",
    "    Returns:\n",
    "        - sentiment (str): The sentiment of the text.\n",
    "    \"\"\"\n",
    "    \n",
    "    # openai.api_key = os.getenv('api_openai_p')\n",
    "    template_root = \"\"\"\n",
    "    You are the owner of a personal training business. You use a Facebook group to as a lead generation tool.\n",
    "    You aim to respond quickly to posts by group members if they request information, \\\n",
    "    express a desire to improve their fitness, or express dissatisfaction with their current fitness.\n",
    "    Given the following member post delimitted by triple backticks, \n",
    "    \"\"\"\n",
    "    templates = {\n",
    "        'sentiment': 'determine the sentiment of the message as \"positive\", \"neutral\", or \"negative\".',\n",
    "        'emotions': 'determine the emotions expressed in the message.',\n",
    "        'respond': 'indicate whether you need to quickly respond to the message or not using \"yes\" or \"no\".',\n",
    "    }\n",
    "    chain_dict = {}\n",
    "    prompt_dict = {}\n",
    "    for template in templates:\n",
    "        chain_dict[template], prompt_dict[template] = create_LLMChain(\n",
    "            template_root+templates[template]+' ```{text}```', \n",
    "            input_variables=['text'], output_key=template,\n",
    "            llm=llm)\n",
    "    overall_chain = SequentialChain(\n",
    "        chains = [chain for chain in chain_dict.values()], \n",
    "        input_variables = ['text' for chain in chain_dict.values()],\n",
    "        output_variables = list(chain_dict.keys()), verbose=True\n",
    "    )\n",
    "    return overall_chain(text), prompt_dict\n",
    "\n",
    "iteration_id = 1.22\n",
    "prompt_dict = dict()\n",
    "message = 'I wish I were batman'\n",
    "response[iteration_id], prompt_dict[iteration_id] = analyze_text_sentiment(message)\n",
    "response[iteration_id]"
   ]
  },
  {
   "cell_type": "code",
   "execution_count": 22,
   "metadata": {},
   "outputs": [
    {
     "data": {
      "text/plain": [
       "{'sentiment': PromptTemplate(input_variables=['text'], output_parser=None, partial_variables={}, template='\\n    You are the owner of a personal training business. You use a Facebook group to as a lead generation tool.\\n    You aim to respond quickly to posts by group members if they request information,     express a desire to improve their fitness, or express dissatisfaction with their current fitness.\\n    Given the following member post delimitted by triple backticks, \\n    determine the sentiment of the message as \"positive\", \"neutral\", or \"negative\". ```{text}```', template_format='f-string', validate_template=True),\n",
       " 'emotions': PromptTemplate(input_variables=['text'], output_parser=None, partial_variables={}, template='\\n    You are the owner of a personal training business. You use a Facebook group to as a lead generation tool.\\n    You aim to respond quickly to posts by group members if they request information,     express a desire to improve their fitness, or express dissatisfaction with their current fitness.\\n    Given the following member post delimitted by triple backticks, \\n    determine the emotions expressed in the message. ```{text}```', template_format='f-string', validate_template=True),\n",
       " 'respond': PromptTemplate(input_variables=['text'], output_parser=None, partial_variables={}, template='\\n    You are the owner of a personal training business. You use a Facebook group to as a lead generation tool.\\n    You aim to respond quickly to posts by group members if they request information,     express a desire to improve their fitness, or express dissatisfaction with their current fitness.\\n    Given the following member post delimitted by triple backticks, \\n    indicate whether you need to quickly respond to the message or not using \"yes\" or \"no\". ```{text}```', template_format='f-string', validate_template=True)}"
      ]
     },
     "execution_count": 22,
     "metadata": {},
     "output_type": "execute_result"
    }
   ],
   "source": [
    "prompt_dict[iteration_id]"
   ]
  },
  {
   "cell_type": "code",
   "execution_count": 33,
   "metadata": {},
   "outputs": [
    {
     "data": {
      "text/plain": [
       "PromptTemplate(input_variables=['text'], output_parser=None, partial_variables={}, template='\\n    You are the owner of a personal training business. You use a Facebook group to as a lead generation tool.\\n    You aim to respond quickly to posts by group members if they request information,     express a desire to improve their fitness, or express dissatisfaction with their current fitness.\\n    Given the following member post delimitted by triple backticks, \\n    determine the sentiment of the message as \"positive\", \"neutral\", or \"negative\". ```{text}```', template_format='f-string', validate_template=True)"
      ]
     },
     "execution_count": 33,
     "metadata": {},
     "output_type": "execute_result"
    }
   ],
   "source": [
    "prompt_dict[iteration_id]['sentiment']"
   ]
  },
  {
   "cell_type": "code",
   "execution_count": 36,
   "metadata": {},
   "outputs": [
    {
     "data": {
      "text/plain": [
       "'\\n    You are the owner of a personal training business. You use a Facebook group to as a lead generation tool.\\n    You aim to respond quickly to posts by group members if they request information,     express a desire to improve their fitness, or express dissatisfaction with their current fitness.\\n    Given the following member post delimitted by triple backticks, \\n    determine the sentiment of the message as \"positive\", \"neutral\", or \"negative\". ```{text}```'"
      ]
     },
     "execution_count": 36,
     "metadata": {},
     "output_type": "execute_result"
    }
   ],
   "source": [
    "prompt_dict[iteration_id]['sentiment'].template"
   ]
  },
  {
   "cell_type": "code",
   "execution_count": 32,
   "metadata": {},
   "outputs": [
    {
     "name": "stdout",
     "output_type": "stream",
     "text": [
      "<class 'langchain.prompts.prompt.PromptTemplate'>\n",
      "\n",
      "<class 'langchain.prompts.prompt.PromptTemplate'>\n",
      "\n",
      "<class 'langchain.prompts.prompt.PromptTemplate'>\n",
      "\n"
     ]
    }
   ],
   "source": [
    "for task, values in prompt_dict[iteration_id].items():\n",
    "    # print(task)\n",
    "    print(type(values))\n",
    "    print()\n",
    "    # print(values.messages[0].prompt.template)"
   ]
  },
  {
   "attachments": {},
   "cell_type": "markdown",
   "metadata": {},
   "source": [
    "## 1.3"
   ]
  },
  {
   "cell_type": "code",
   "execution_count": 37,
   "metadata": {},
   "outputs": [
    {
     "name": "stdout",
     "output_type": "stream",
     "text": [
      "\n",
      "\n",
      "\u001b[1m> Entering new  chain...\u001b[0m\n",
      "\n",
      "\u001b[1m> Finished chain.\u001b[0m\n"
     ]
    },
    {
     "data": {
      "text/plain": [
       "{'text': 'I wish I had more muscles',\n",
       " 'sentiment': '\\n\\nPositive',\n",
       " 'emotions': '\\n\\nThe emotions expressed in the message are desire and dissatisfaction.',\n",
       " 'respond': '\\n\\nYes'}"
      ]
     },
     "execution_count": 37,
     "metadata": {},
     "output_type": "execute_result"
    }
   ],
   "source": [
    "from langchain.llms import OpenAI\n",
    "from langchain.chains import LLMChain\n",
    "from langchain.prompts import PromptTemplate\n",
    "from langchain.chains import SequentialChain\n",
    "\n",
    "def create_LLMChain(template, input_variables, output_key, llm=OpenAI(temperature=0.7, max_tokens=100)):\n",
    "    \"\"\"\n",
    "    Create an LLMChain object.\n",
    "    Parameters:\n",
    "        - template (str): The template for the prompt, i.e. the value of the `template` \n",
    "            parameter in the PromptTemplate class.\n",
    "        - input_variables (List[str]) \n",
    "        - output_key (str): The key of the output variable.\n",
    "        - llm (OpenAI object): Default is OpenAI()\n",
    "\n",
    "    Returns:\n",
    "        - LLMChain object\n",
    "    \"\"\"\n",
    "    prompt_template = PromptTemplate(\n",
    "        template=template, input_variables=input_variables)\n",
    "    chain = LLMChain(\n",
    "        llm=llm, prompt=prompt_template, output_key=output_key)\n",
    "    return chain, prompt_template.template\n",
    "\n",
    "def analyze_text_sentiment(text, llm=OpenAI(temperature=0.7, max_tokens=200)):\n",
    "    \"\"\"\n",
    "    Analyze the sentiment of a text.\n",
    "    Parameters:\n",
    "        - text (str): The text to analyze.\n",
    "        - llm (OpenAI object): Default is OpenAI()\n",
    "\n",
    "    Returns:\n",
    "        - sentiment (str): The sentiment of the text.\n",
    "    \"\"\"\n",
    "    \n",
    "    # openai.api_key = os.getenv('api_openai_p')\n",
    "    template_root = \"\"\"\n",
    "    You are the owner of a personal training business. You use a Facebook group to as a lead generation tool.\n",
    "    You aim to respond quickly to posts by group members if they request information, \\\n",
    "    express a desire to improve their fitness, or express dissatisfaction with their current fitness.\n",
    "    Given the following member post delimitted by triple backticks, \n",
    "    \"\"\"\n",
    "    templates = {\n",
    "        'sentiment': 'determine the sentiment of the message as \"positive\", \"neutral\", or \"negative\".',\n",
    "        'emotions': 'determine the emotions expressed in the message.',\n",
    "        'respond': 'indicate whether you need to quickly respond to the message or not using \"yes\" or \"no\".',\n",
    "    }\n",
    "    chain_dict = {}\n",
    "    prompt_dict = {}\n",
    "    for template in templates:\n",
    "        chain_dict[template], prompt_dict[template] = create_LLMChain(\n",
    "            template_root+templates[template]+' ```{text}```', \n",
    "            input_variables=['text'], output_key=template,\n",
    "            llm=llm)\n",
    "    overall_chain = SequentialChain(\n",
    "        chains = [chain for chain in chain_dict.values()], \n",
    "        input_variables = ['text' for chain in chain_dict.values()],\n",
    "        output_variables = list(chain_dict.keys()), verbose=True\n",
    "    )\n",
    "    return overall_chain(text), prompt_dict\n",
    "\n",
    "iteration_id = 1.3\n",
    "# prompt_dict = dict()\n",
    "message = 'I wish I had more muscles'\n",
    "response[iteration_id], prompt_dict[iteration_id] = analyze_text_sentiment(message)\n",
    "response[iteration_id]"
   ]
  },
  {
   "cell_type": "code",
   "execution_count": 38,
   "metadata": {},
   "outputs": [
    {
     "data": {
      "text/plain": [
       "{'sentiment': '\\n    You are the owner of a personal training business. You use a Facebook group to as a lead generation tool.\\n    You aim to respond quickly to posts by group members if they request information,     express a desire to improve their fitness, or express dissatisfaction with their current fitness.\\n    Given the following member post delimitted by triple backticks, \\n    determine the sentiment of the message as \"positive\", \"neutral\", or \"negative\". ```{text}```',\n",
       " 'emotions': '\\n    You are the owner of a personal training business. You use a Facebook group to as a lead generation tool.\\n    You aim to respond quickly to posts by group members if they request information,     express a desire to improve their fitness, or express dissatisfaction with their current fitness.\\n    Given the following member post delimitted by triple backticks, \\n    determine the emotions expressed in the message. ```{text}```',\n",
       " 'respond': '\\n    You are the owner of a personal training business. You use a Facebook group to as a lead generation tool.\\n    You aim to respond quickly to posts by group members if they request information,     express a desire to improve their fitness, or express dissatisfaction with their current fitness.\\n    Given the following member post delimitted by triple backticks, \\n    indicate whether you need to quickly respond to the message or not using \"yes\" or \"no\". ```{text}```'}"
      ]
     },
     "execution_count": 38,
     "metadata": {},
     "output_type": "execute_result"
    }
   ],
   "source": [
    "prompt_dict[iteration_id]"
   ]
  },
  {
   "cell_type": "code",
   "execution_count": 42,
   "metadata": {},
   "outputs": [
    {
     "ename": "AttributeError",
     "evalue": "'dict' object has no attribute 'content'",
     "output_type": "error",
     "traceback": [
      "\u001b[1;31m---------------------------------------------------------------------------\u001b[0m",
      "\u001b[1;31mAttributeError\u001b[0m                            Traceback (most recent call last)",
      "Cell \u001b[1;32mIn[42], line 1\u001b[0m\n\u001b[1;32m----> 1\u001b[0m response[iteration_id]\u001b[39m.\u001b[39;49mcontent\n",
      "\u001b[1;31mAttributeError\u001b[0m: 'dict' object has no attribute 'content'"
     ]
    }
   ],
   "source": [
    "response[iteration_id].content"
   ]
  },
  {
   "attachments": {},
   "cell_type": "markdown",
   "metadata": {},
   "source": [
    "## 1.31"
   ]
  },
  {
   "cell_type": "code",
   "execution_count": 46,
   "metadata": {},
   "outputs": [
    {
     "name": "stdout",
     "output_type": "stream",
     "text": [
      "\n",
      "\n",
      "\u001b[1m> Entering new  chain...\u001b[0m\n",
      "\n",
      "\u001b[1m> Finished chain.\u001b[0m\n"
     ]
    },
    {
     "data": {
      "text/plain": [
       "{'text': 'I struggle to pick up my toddler',\n",
       " 'sentiment': '\\n\\nThe sentiment of the message is neutral.',\n",
       " 'emotions': '\\n\\nThe emotions expressed in the message are frustration and difficulty.',\n",
       " 'respond': '\\n\\nYes'}"
      ]
     },
     "execution_count": 46,
     "metadata": {},
     "output_type": "execute_result"
    }
   ],
   "source": [
    "from langchain.llms import OpenAI\n",
    "from langchain.chains import LLMChain\n",
    "from langchain.prompts import PromptTemplate\n",
    "from langchain.chains import SequentialChain\n",
    "\n",
    "def create_LLMChain(template, input_variables, output_key, llm=OpenAI(temperature=1, max_tokens=100)):\n",
    "    \"\"\"\n",
    "    Create an LLMChain object.\n",
    "    Parameters:\n",
    "        - template (str): The template for the prompt, i.e. the value of the `template` \n",
    "            parameter in the PromptTemplate class.\n",
    "        - input_variables (List[str]) \n",
    "        - output_key (str): The key of the output variable.\n",
    "        - llm (OpenAI object): Default is OpenAI()\n",
    "\n",
    "    Returns:\n",
    "        - LLMChain object\n",
    "    \"\"\"\n",
    "    prompt_template = PromptTemplate(\n",
    "        template=template, input_variables=input_variables)\n",
    "    chain = LLMChain(\n",
    "        llm=llm, prompt=prompt_template, output_key=output_key)\n",
    "    return chain, prompt_template.template\n",
    "\n",
    "def analyze_text_sentiment(text, llm=OpenAI(temperature=0.7, max_tokens=200)):\n",
    "    \"\"\"\n",
    "    Analyze the sentiment of a text.\n",
    "    Parameters:\n",
    "        - text (str): The text to analyze.\n",
    "        - llm (OpenAI object): Default is OpenAI()\n",
    "\n",
    "    Returns:\n",
    "        - sentiment (str): The sentiment of the text.\n",
    "    \"\"\"\n",
    "    \n",
    "    # openai.api_key = os.getenv('api_openai_p')\n",
    "    template_root = \"\"\"\n",
    "    You are the owner of a personal training business. You use a Facebook group to as a lead generation tool.\n",
    "    You aim to respond quickly to posts by group members if they request information, \\\n",
    "    express a desire to improve their fitness, or express dissatisfaction with their current fitness.\n",
    "    Given the following member post delimitted by triple backticks, \n",
    "    \"\"\"\n",
    "    templates = {\n",
    "        'sentiment': 'determine the sentiment of the message as \"positive\", \"neutral\", or \"negative\".',\n",
    "        'emotions': 'determine the emotions expressed in the message.',\n",
    "        'respond': 'indicate whether you need to quickly respond to the message or not using \"yes\" or \"no\".',\n",
    "    }\n",
    "    chain_dict = {}\n",
    "    prompt_dict = {}\n",
    "    for template in templates:\n",
    "        chain_dict[template], prompt_dict[template] = create_LLMChain(\n",
    "            template_root+templates[template]+' ```{text}```', \n",
    "            input_variables=['text'], output_key=template,\n",
    "            llm=llm)\n",
    "    overall_chain = SequentialChain(\n",
    "        chains = [chain for chain in chain_dict.values()], \n",
    "        input_variables = ['text' for chain in chain_dict.values()],\n",
    "        output_variables = list(chain_dict.keys()), verbose=True\n",
    "    )\n",
    "    response_dict = overall_chain(text)\n",
    "    return response_dict, prompt_dict\n",
    "\n",
    "iteration_id = 1.31\n",
    "# prompt_dict = dict()\n",
    "message_dict = dict()\n",
    "message_dict[iteration_id] = 'I struggle to pick up my toddler'\n",
    "response[iteration_id], prompt_dict[iteration_id] = analyze_text_sentiment(message_dict[iteration_id])\n",
    "response[iteration_id]"
   ]
  },
  {
   "attachments": {},
   "cell_type": "markdown",
   "metadata": {},
   "source": [
    "# Iteration 2: Repeat for many messages"
   ]
  },
  {
   "cell_type": "code",
   "execution_count": 47,
   "metadata": {},
   "outputs": [
    {
     "name": "stdout",
     "output_type": "stream",
     "text": [
      "\n",
      "\n",
      "\u001b[1m> Entering new  chain...\u001b[0m\n",
      "\n",
      "\u001b[1m> Finished chain.\u001b[0m\n",
      "\n",
      "\n",
      "\u001b[1m> Entering new  chain...\u001b[0m\n",
      "\n",
      "\u001b[1m> Finished chain.\u001b[0m\n",
      "\n",
      "\n",
      "\u001b[1m> Entering new  chain...\u001b[0m\n",
      "\n",
      "\u001b[1m> Finished chain.\u001b[0m\n"
     ]
    },
    {
     "data": {
      "text/plain": [
       "{0: {'text': 'I am preparing to run a marathon.',\n",
       "  'sentiment': '\\n\\nPositive',\n",
       "  'emotions': '\\n\\nThe emotions expressed in the message are excitement and determination.',\n",
       "  'respond': '\\n\\nYes'},\n",
       " 1: {'text': 'I am preparing to run a marathon!',\n",
       "  'sentiment': '\\n\\nPositive',\n",
       "  'emotions': '\\n\\nThe emotions expressed in the message are excitement and enthusiasm.',\n",
       "  'respond': '\\n\\nYes'},\n",
       " 2: {'text': \"My doctor warned me about my cholesterol but I think he's stupid.\",\n",
       "  'sentiment': '\\n    \\n    Negative',\n",
       "  'emotions': '\\n\\nThe emotions expressed in this message are frustration and anger.',\n",
       "  'respond': '\\n\\nYes'}}"
      ]
     },
     "execution_count": 47,
     "metadata": {},
     "output_type": "execute_result"
    }
   ],
   "source": [
    "from langchain.llms import OpenAI\n",
    "from langchain.chains import LLMChain\n",
    "from langchain.prompts import PromptTemplate\n",
    "from langchain.chains import SequentialChain\n",
    "\n",
    "def create_LLMChain(template, input_variables, output_key, llm=OpenAI(temperature=1, max_tokens=100)):\n",
    "    \"\"\"\n",
    "    Create an LLMChain object.\n",
    "    Parameters:\n",
    "        - template (str): The template for the prompt, i.e. the value of the `template` \n",
    "            parameter in the PromptTemplate class.\n",
    "        - input_variables (List[str]) \n",
    "        - output_key (str): The key of the output variable.\n",
    "        - llm (OpenAI object): Default is OpenAI()\n",
    "\n",
    "    Returns:\n",
    "        - LLMChain object\n",
    "    \"\"\"\n",
    "    prompt_template = PromptTemplate(\n",
    "        template=template, input_variables=input_variables)\n",
    "    chain = LLMChain(\n",
    "        llm=llm, prompt=prompt_template, output_key=output_key)\n",
    "    return chain, prompt_template.template\n",
    "\n",
    "def analyze_text_sentiment(text, llm=OpenAI(temperature=0.7, max_tokens=200)):\n",
    "    \"\"\"\n",
    "    Analyze the sentiment of a text.\n",
    "    Parameters:\n",
    "        - text (str): The text to analyze.\n",
    "        - llm (OpenAI object): Default is OpenAI()\n",
    "\n",
    "    Returns:\n",
    "        - sentiment (str): The sentiment of the text.\n",
    "    \"\"\"\n",
    "    \n",
    "    # openai.api_key = os.getenv('api_openai_p')\n",
    "    template_root = \"\"\"\n",
    "    You are the owner of a personal training business. You use a Facebook group to as a lead generation tool.\n",
    "    You aim to respond quickly to posts by group members if they request information, \\\n",
    "    express a desire to improve their fitness, or express dissatisfaction with their current fitness.\n",
    "    Given the following member post delimitted by triple backticks, \n",
    "    \"\"\"\n",
    "    templates = {\n",
    "        'sentiment': 'determine the sentiment of the message as \"positive\", \"neutral\", or \"negative\".',\n",
    "        'emotions': 'determine the emotions expressed in the message.',\n",
    "        'respond': 'indicate whether you need to quickly respond to the message or not using \"yes\" or \"no\".',\n",
    "    }\n",
    "    chain_dict = {}\n",
    "    prompt_dict = {}\n",
    "    for template in templates:\n",
    "        chain_dict[template], prompt_dict[template] = create_LLMChain(\n",
    "            template_root+templates[template]+' ```{text}```', \n",
    "            input_variables=['text'], output_key=template,\n",
    "            llm=llm)\n",
    "    overall_chain = SequentialChain(\n",
    "        chains = [chain for chain in chain_dict.values()], \n",
    "        input_variables = ['text' for chain in chain_dict.values()],\n",
    "        output_variables = list(chain_dict.keys()), verbose=True\n",
    "    )\n",
    "    response_dict = overall_chain(text)\n",
    "    return response_dict, prompt_dict\n",
    "\n",
    "def batch_analyze_text_sentiment(messages_list):\n",
    "    response_dict = dict()\n",
    "    prompt_dict = dict()\n",
    "    for iteration_id, message in enumerate(messages_list):\n",
    "        response_dict[iteration_id], prompt_dict[iteration_id] = analyze_text_sentiment(message)\n",
    "    return response_dict, prompt_dict\n",
    "\n",
    "iteration_id = 2\n",
    "# prompt_dict = dict()\n",
    "# message_dict = dict()\n",
    "\n",
    "messages_list = [\n",
    "    # 'I struggle to pick up my toddler',\n",
    "    # \"I want my arms to look like Michelle Obama\\'s\",\n",
    "    # \"What's the best way to get fit?\",\n",
    "    # \"My knees are always achy\",\n",
    "    # \"My personal trainer doesn't understand me\",\n",
    "    # \"I love your ball gown\",\n",
    "    # \"Nancy looks great in that photo\",\n",
    "    # \"Happy Mother's Day!\",\n",
    "    \"I am preparing to run a marathon.\",\n",
    "    \"I am preparing to run a marathon!\",\n",
    "    \"My doctor warned me about my cholesterol but I think he's stupid.\"\n",
    "]\n",
    "\n",
    "\n",
    "\n",
    "response[iteration_id], prompt_dict[iteration_id] = batch_analyze_text_sentiment(messages_list)\n",
    "response[iteration_id]"
   ]
  },
  {
   "attachments": {},
   "cell_type": "markdown",
   "metadata": {},
   "source": [
    "## 2.1"
   ]
  },
  {
   "cell_type": "code",
   "execution_count": 48,
   "metadata": {},
   "outputs": [
    {
     "name": "stdout",
     "output_type": "stream",
     "text": [
      "\n",
      "\n",
      "\u001b[1m> Entering new  chain...\u001b[0m\n",
      "\n",
      "\u001b[1m> Finished chain.\u001b[0m\n",
      "\n",
      "\n",
      "\u001b[1m> Entering new  chain...\u001b[0m\n",
      "\n",
      "\u001b[1m> Finished chain.\u001b[0m\n",
      "\n",
      "\n",
      "\u001b[1m> Entering new  chain...\u001b[0m\n",
      "\n",
      "\u001b[1m> Finished chain.\u001b[0m\n",
      "\n",
      "\n",
      "\u001b[1m> Entering new  chain...\u001b[0m\n",
      "\n",
      "\u001b[1m> Finished chain.\u001b[0m\n",
      "\n",
      "\n",
      "\u001b[1m> Entering new  chain...\u001b[0m\n",
      "\n",
      "\u001b[1m> Finished chain.\u001b[0m\n",
      "\n",
      "\n",
      "\u001b[1m> Entering new  chain...\u001b[0m\n",
      "\n",
      "\u001b[1m> Finished chain.\u001b[0m\n",
      "\n",
      "\n",
      "\u001b[1m> Entering new  chain...\u001b[0m\n",
      "\n",
      "\u001b[1m> Finished chain.\u001b[0m\n",
      "\n",
      "\n",
      "\u001b[1m> Entering new  chain...\u001b[0m\n",
      "\n",
      "\u001b[1m> Finished chain.\u001b[0m\n"
     ]
    },
    {
     "data": {
      "text/plain": [
       "{0: {'text': 'I struggle to pick up my toddler',\n",
       "  'sentiment': '\\n\\nNeutral',\n",
       "  'emotions': '\\n\\nThe emotions expressed in the message are frustration and difficulty.',\n",
       "  'respond': '\\n\\nYes'},\n",
       " 1: {'text': \"I want my arms to look like Michelle Obama's\",\n",
       "  'sentiment': '\\n\\nPositive',\n",
       "  'emotions': '\\n\\nThe emotions expressed in the message are desire and admiration.',\n",
       "  'respond': '\\n\\nYes'},\n",
       " 2: {'text': \"What's the best way to get fit?\",\n",
       "  'sentiment': '\\n\\nPositive',\n",
       "  'emotions': '\\n\\nAnswer: Curiosity, Desire for Improvement',\n",
       "  'respond': '\\n\\nYes.'},\n",
       " 3: {'text': 'My knees are always achy',\n",
       "  'sentiment': '\\n\\nNegative',\n",
       "  'emotions': '\\n\\nThe emotions expressed in the message are pain and discomfort.',\n",
       "  'respond': '\\n\\nYes'},\n",
       " 4: {'text': \"My personal trainer doesn't understand me\",\n",
       "  'sentiment': '\\n\\nNegative',\n",
       "  'emotions': '\\n\\nThe emotions expressed in this message are frustration and dissatisfaction.',\n",
       "  'respond': '\\n\\nYes'},\n",
       " 5: {'text': 'I love your ball gown',\n",
       "  'sentiment': '\\n\\nPositive',\n",
       "  'emotions': '\\n    \\n    The emotion expressed in the message is \"love\".',\n",
       "  'respond': '\\n\\nNo.'},\n",
       " 6: {'text': 'Nancy looks great in that photo',\n",
       "  'sentiment': '\\n\\nPositive',\n",
       "  'emotions': '\\n\\nThe emotions expressed in the message are admiration, admiration, and appreciation.',\n",
       "  'respond': '\\n\\nNo.'},\n",
       " 7: {'text': \"Happy Mother's Day!\",\n",
       "  'sentiment': '\\n\\nPositive',\n",
       "  'emotions': '\\n\\nThe emotion expressed in this message is happiness.',\n",
       "  'respond': '\\n\\nNo.'}}"
      ]
     },
     "execution_count": 48,
     "metadata": {},
     "output_type": "execute_result"
    }
   ],
   "source": [
    "from langchain.llms import OpenAI\n",
    "from langchain.chains import LLMChain\n",
    "from langchain.prompts import PromptTemplate\n",
    "from langchain.chains import SequentialChain\n",
    "\n",
    "def create_LLMChain(template, input_variables, output_key, llm=OpenAI(temperature=1, max_tokens=100)):\n",
    "    \"\"\"\n",
    "    Create an LLMChain object.\n",
    "    Parameters:\n",
    "        - template (str): The template for the prompt, i.e. the value of the `template` \n",
    "            parameter in the PromptTemplate class.\n",
    "        - input_variables (List[str]) \n",
    "        - output_key (str): The key of the output variable.\n",
    "        - llm (OpenAI object): Default is OpenAI()\n",
    "\n",
    "    Returns:\n",
    "        - LLMChain object\n",
    "    \"\"\"\n",
    "    prompt_template = PromptTemplate(\n",
    "        template=template, input_variables=input_variables)\n",
    "    chain = LLMChain(\n",
    "        llm=llm, prompt=prompt_template, output_key=output_key)\n",
    "    return chain, prompt_template.template\n",
    "\n",
    "def analyze_text_sentiment(text, llm=OpenAI(temperature=0.7, max_tokens=200)):\n",
    "    \"\"\"\n",
    "    Analyze the sentiment of a text.\n",
    "    Parameters:\n",
    "        - text (str): The text to analyze.\n",
    "        - llm (OpenAI object): Default is OpenAI()\n",
    "\n",
    "    Returns:\n",
    "        - sentiment (str): The sentiment of the text.\n",
    "    \"\"\"\n",
    "    \n",
    "    # openai.api_key = os.getenv('api_openai_p')\n",
    "    template_root = \"\"\"\n",
    "    You are the owner of a personal training business. You use a Facebook group to as a lead generation tool.\n",
    "    You aim to respond quickly to posts by group members if they request information, \\\n",
    "    express a desire to improve their fitness, or express dissatisfaction with their current fitness.\n",
    "    Given the following member post delimitted by triple backticks, \n",
    "    \"\"\"\n",
    "    templates = {\n",
    "        'sentiment': 'determine the sentiment of the message as \"positive\", \"neutral\", or \"negative\".',\n",
    "        'emotions': 'determine the emotions expressed in the message.',\n",
    "        'respond': 'indicate whether you need to quickly respond to the message or not using \"yes\" or \"no\".',\n",
    "    }\n",
    "    chain_dict = {}\n",
    "    prompt_dict = {}\n",
    "    for template in templates:\n",
    "        chain_dict[template], prompt_dict[template] = create_LLMChain(\n",
    "            template_root+templates[template]+' ```{text}```', \n",
    "            input_variables=['text'], output_key=template,\n",
    "            llm=llm)\n",
    "    overall_chain = SequentialChain(\n",
    "        chains = [chain for chain in chain_dict.values()], \n",
    "        input_variables = ['text' for chain in chain_dict.values()],\n",
    "        output_variables = list(chain_dict.keys()), verbose=True\n",
    "    )\n",
    "    response_dict = overall_chain(text)\n",
    "    return response_dict, prompt_dict\n",
    "\n",
    "def batch_analyze_text_sentiment(messages_list):\n",
    "    response_dict = dict()\n",
    "    prompt_dict = dict()\n",
    "    failures = 0\n",
    "    for iteration_id, message in enumerate(messages_list):\n",
    "        try:\n",
    "            response_dict[iteration_id], prompt_dict[iteration_id] = analyze_text_sentiment(message)\n",
    "        except Exception as error:\n",
    "            exc_type, exc_obj, tb = sys.exc_info()\n",
    "            f = tb.tb_frame\n",
    "            lineno = tb.tb_lineno\n",
    "            file = f.f_code.co_filename\n",
    "            print(\"An error occurred on line\", lineno, \"in\", file, \":\", error)\n",
    "            print('\\t...Error making chatbot request')\n",
    "            failures += 1\n",
    "            if failures > 2:\n",
    "                print('\\t...Too many failures, stopping')\n",
    "                break\n",
    "    return response_dict, prompt_dict\n",
    "\n",
    "iteration_id = 2\n",
    "# prompt_dict = dict()\n",
    "# message_dict = dict()\n",
    "\n",
    "messages_list = [\n",
    "    'I struggle to pick up my toddler',\n",
    "    \"I want my arms to look like Michelle Obama\\'s\",\n",
    "    \"What's the best way to get fit?\",\n",
    "    \"My knees are always achy\",\n",
    "    \"My personal trainer doesn't understand me\",\n",
    "    \"I love your ball gown\",\n",
    "    \"Nancy looks great in that photo\",\n",
    "    \"Happy Mother's Day!\",\n",
    "    # \"I am preparing to run a marathon.\",\n",
    "    # \"I am preparing to run a marathon!\",\n",
    "    # \"My doctor warned me about my cholesterol but I think he's stupid.\"\n",
    "]\n",
    "\n",
    "\n",
    "\n",
    "response[iteration_id], prompt_dict[iteration_id] = batch_analyze_text_sentiment(messages_list)\n",
    "response[iteration_id]"
   ]
  },
  {
   "cell_type": "code",
   "execution_count": 52,
   "metadata": {},
   "outputs": [
    {
     "name": "stdout",
     "output_type": "stream",
     "text": [
      "{0: {'emotions': '\\n'\n",
      "                 '\\n'\n",
      "                 'The emotions expressed in the message are frustration and '\n",
      "                 'difficulty.',\n",
      "     'respond': '\\n\\nYes',\n",
      "     'sentiment': '\\n\\nNeutral',\n",
      "     'text': 'I struggle to pick up my toddler'},\n",
      " 1: {'emotions': '\\n'\n",
      "                 '\\n'\n",
      "                 'The emotions expressed in the message are desire and '\n",
      "                 'admiration.',\n",
      "     'respond': '\\n\\nYes',\n",
      "     'sentiment': '\\n\\nPositive',\n",
      "     'text': \"I want my arms to look like Michelle Obama's\"},\n",
      " 2: {'emotions': '\\n\\nAnswer: Curiosity, Desire for Improvement',\n",
      "     'respond': '\\n\\nYes.',\n",
      "     'sentiment': '\\n\\nPositive',\n",
      "     'text': \"What's the best way to get fit?\"},\n",
      " 3: {'emotions': '\\n'\n",
      "                 '\\n'\n",
      "                 'The emotions expressed in the message are pain and '\n",
      "                 'discomfort.',\n",
      "     'respond': '\\n\\nYes',\n",
      "     'sentiment': '\\n\\nNegative',\n",
      "     'text': 'My knees are always achy'},\n",
      " 4: {'emotions': '\\n'\n",
      "                 '\\n'\n",
      "                 'The emotions expressed in this message are frustration and '\n",
      "                 'dissatisfaction.',\n",
      "     'respond': '\\n\\nYes',\n",
      "     'sentiment': '\\n\\nNegative',\n",
      "     'text': \"My personal trainer doesn't understand me\"},\n",
      " 5: {'emotions': '\\n    \\n    The emotion expressed in the message is \"love\".',\n",
      "     'respond': '\\n\\nNo.',\n",
      "     'sentiment': '\\n\\nPositive',\n",
      "     'text': 'I love your ball gown'},\n",
      " 6: {'emotions': '\\n'\n",
      "                 '\\n'\n",
      "                 'The emotions expressed in the message are admiration, '\n",
      "                 'admiration, and appreciation.',\n",
      "     'respond': '\\n\\nNo.',\n",
      "     'sentiment': '\\n\\nPositive',\n",
      "     'text': 'Nancy looks great in that photo'},\n",
      " 7: {'emotions': '\\n\\nThe emotion expressed in this message is happiness.',\n",
      "     'respond': '\\n\\nNo.',\n",
      "     'sentiment': '\\n\\nPositive',\n",
      "     'text': \"Happy Mother's Day!\"}}\n"
     ]
    }
   ],
   "source": [
    "from pprint import pprint\n",
    "pprint(response[iteration_id])"
   ]
  },
  {
   "cell_type": "code",
   "execution_count": 70,
   "metadata": {},
   "outputs": [
    {
     "data": {
      "text/html": [
       "<div>\n",
       "<style scoped>\n",
       "    .dataframe tbody tr th:only-of-type {\n",
       "        vertical-align: middle;\n",
       "    }\n",
       "\n",
       "    .dataframe tbody tr th {\n",
       "        vertical-align: top;\n",
       "    }\n",
       "\n",
       "    .dataframe thead th {\n",
       "        text-align: right;\n",
       "    }\n",
       "</style>\n",
       "<table border=\"1\" class=\"dataframe\">\n",
       "  <thead>\n",
       "    <tr style=\"text-align: right;\">\n",
       "      <th></th>\n",
       "      <th>text</th>\n",
       "      <th>sentiment</th>\n",
       "      <th>emotions</th>\n",
       "      <th>respond</th>\n",
       "    </tr>\n",
       "  </thead>\n",
       "  <tbody>\n",
       "    <tr>\n",
       "      <th>0</th>\n",
       "      <td>I struggle to pick up my toddler</td>\n",
       "      <td>Neutral</td>\n",
       "      <td>The emotions expressed in the message are frustration and difficulty.</td>\n",
       "      <td>Yes</td>\n",
       "    </tr>\n",
       "    <tr>\n",
       "      <th>1</th>\n",
       "      <td>I want my arms to look like Michelle Obama's</td>\n",
       "      <td>Positive</td>\n",
       "      <td>The emotions expressed in the message are desire and admiration.</td>\n",
       "      <td>Yes</td>\n",
       "    </tr>\n",
       "    <tr>\n",
       "      <th>2</th>\n",
       "      <td>What's the best way to get fit?</td>\n",
       "      <td>Positive</td>\n",
       "      <td>Answer: Curiosity, Desire for Improvement</td>\n",
       "      <td>Yes.</td>\n",
       "    </tr>\n",
       "    <tr>\n",
       "      <th>3</th>\n",
       "      <td>My knees are always achy</td>\n",
       "      <td>Negative</td>\n",
       "      <td>The emotions expressed in the message are pain and discomfort.</td>\n",
       "      <td>Yes</td>\n",
       "    </tr>\n",
       "    <tr>\n",
       "      <th>4</th>\n",
       "      <td>My personal trainer doesn't understand me</td>\n",
       "      <td>Negative</td>\n",
       "      <td>The emotions expressed in this message are frustration and dissatisfaction.</td>\n",
       "      <td>Yes</td>\n",
       "    </tr>\n",
       "    <tr>\n",
       "      <th>5</th>\n",
       "      <td>I love your ball gown</td>\n",
       "      <td>Positive</td>\n",
       "      <td>The emotion expressed in the message is \"love\".</td>\n",
       "      <td>No.</td>\n",
       "    </tr>\n",
       "    <tr>\n",
       "      <th>6</th>\n",
       "      <td>Nancy looks great in that photo</td>\n",
       "      <td>Positive</td>\n",
       "      <td>The emotions expressed in the message are admiration, admiration, and appreciation.</td>\n",
       "      <td>No.</td>\n",
       "    </tr>\n",
       "    <tr>\n",
       "      <th>7</th>\n",
       "      <td>Happy Mother's Day!</td>\n",
       "      <td>Positive</td>\n",
       "      <td>The emotion expressed in this message is happiness.</td>\n",
       "      <td>No.</td>\n",
       "    </tr>\n",
       "  </tbody>\n",
       "</table>\n",
       "</div>"
      ],
      "text/plain": [
       "                                           text sentiment  \\\n",
       "0              I struggle to pick up my toddler   Neutral   \n",
       "1  I want my arms to look like Michelle Obama's  Positive   \n",
       "2               What's the best way to get fit?  Positive   \n",
       "3                      My knees are always achy  Negative   \n",
       "4     My personal trainer doesn't understand me  Negative   \n",
       "5                         I love your ball gown  Positive   \n",
       "6               Nancy looks great in that photo  Positive   \n",
       "7                           Happy Mother's Day!  Positive   \n",
       "\n",
       "                                                                              emotions  \\\n",
       "0                The emotions expressed in the message are frustration and difficulty.   \n",
       "1                     The emotions expressed in the message are desire and admiration.   \n",
       "2                                            Answer: Curiosity, Desire for Improvement   \n",
       "3                       The emotions expressed in the message are pain and discomfort.   \n",
       "4          The emotions expressed in this message are frustration and dissatisfaction.   \n",
       "5                                      The emotion expressed in the message is \"love\".   \n",
       "6  The emotions expressed in the message are admiration, admiration, and appreciation.   \n",
       "7                                  The emotion expressed in this message is happiness.   \n",
       "\n",
       "  respond  \n",
       "0     Yes  \n",
       "1     Yes  \n",
       "2    Yes.  \n",
       "3     Yes  \n",
       "4     Yes  \n",
       "5     No.  \n",
       "6     No.  \n",
       "7     No.  "
      ]
     },
     "execution_count": 70,
     "metadata": {},
     "output_type": "execute_result"
    }
   ],
   "source": [
    "def create_df_from_response(response):\n",
    "    \"\"\"\n",
    "    Convert the response into a dataframe and strip white spaces at the start and end of text.\n",
    "    \"\"\"\n",
    "    df = pd.DataFrame(response).transpose()\n",
    "    for column in df.columns:\n",
    "        df[column] = df[column].str.strip().str.replace('\\n', ' ')\n",
    "    return df\n",
    "\n",
    "\n",
    "df = create_df_from_response(response[2])\n",
    "df"
   ]
  },
  {
   "cell_type": "code",
   "execution_count": 76,
   "metadata": {},
   "outputs": [
    {
     "data": {
      "text/html": [
       "<div>\n",
       "<style scoped>\n",
       "    .dataframe tbody tr th:only-of-type {\n",
       "        vertical-align: middle;\n",
       "    }\n",
       "\n",
       "    .dataframe tbody tr th {\n",
       "        vertical-align: top;\n",
       "    }\n",
       "\n",
       "    .dataframe thead th {\n",
       "        text-align: right;\n",
       "    }\n",
       "</style>\n",
       "<table border=\"1\" class=\"dataframe\">\n",
       "  <thead>\n",
       "    <tr style=\"text-align: right;\">\n",
       "      <th></th>\n",
       "      <th>sentiment</th>\n",
       "      <th>emotions</th>\n",
       "      <th>respond</th>\n",
       "    </tr>\n",
       "  </thead>\n",
       "  <tbody>\n",
       "    <tr>\n",
       "      <th>0</th>\n",
       "      <td>You are the owner of a personal training business. You use a Facebook group to as a lead generation tool.     You aim to respond quickly to posts by group members if they request information,     express a desire to improve their fitness, or express dissatisfaction with their current fitness.     Given the following member post delimitted by triple backticks,      determine the sentiment of the message as \"positive\", \"neutral\", or \"negative\". ```{text}```</td>\n",
       "      <td>You are the owner of a personal training business. You use a Facebook group to as a lead generation tool.     You aim to respond quickly to posts by group members if they request information,     express a desire to improve their fitness, or express dissatisfaction with their current fitness.     Given the following member post delimitted by triple backticks,      determine the emotions expressed in the message. ```{text}```</td>\n",
       "      <td>You are the owner of a personal training business. You use a Facebook group to as a lead generation tool.     You aim to respond quickly to posts by group members if they request information,     express a desire to improve their fitness, or express dissatisfaction with their current fitness.     Given the following member post delimitted by triple backticks,      indicate whether you need to quickly respond to the message or not using \"yes\" or \"no\". ```{text}```</td>\n",
       "    </tr>\n",
       "    <tr>\n",
       "      <th>1</th>\n",
       "      <td>You are the owner of a personal training business. You use a Facebook group to as a lead generation tool.     You aim to respond quickly to posts by group members if they request information,     express a desire to improve their fitness, or express dissatisfaction with their current fitness.     Given the following member post delimitted by triple backticks,      determine the sentiment of the message as \"positive\", \"neutral\", or \"negative\". ```{text}```</td>\n",
       "      <td>You are the owner of a personal training business. You use a Facebook group to as a lead generation tool.     You aim to respond quickly to posts by group members if they request information,     express a desire to improve their fitness, or express dissatisfaction with their current fitness.     Given the following member post delimitted by triple backticks,      determine the emotions expressed in the message. ```{text}```</td>\n",
       "      <td>You are the owner of a personal training business. You use a Facebook group to as a lead generation tool.     You aim to respond quickly to posts by group members if they request information,     express a desire to improve their fitness, or express dissatisfaction with their current fitness.     Given the following member post delimitted by triple backticks,      indicate whether you need to quickly respond to the message or not using \"yes\" or \"no\". ```{text}```</td>\n",
       "    </tr>\n",
       "    <tr>\n",
       "      <th>2</th>\n",
       "      <td>You are the owner of a personal training business. You use a Facebook group to as a lead generation tool.     You aim to respond quickly to posts by group members if they request information,     express a desire to improve their fitness, or express dissatisfaction with their current fitness.     Given the following member post delimitted by triple backticks,      determine the sentiment of the message as \"positive\", \"neutral\", or \"negative\". ```{text}```</td>\n",
       "      <td>You are the owner of a personal training business. You use a Facebook group to as a lead generation tool.     You aim to respond quickly to posts by group members if they request information,     express a desire to improve their fitness, or express dissatisfaction with their current fitness.     Given the following member post delimitted by triple backticks,      determine the emotions expressed in the message. ```{text}```</td>\n",
       "      <td>You are the owner of a personal training business. You use a Facebook group to as a lead generation tool.     You aim to respond quickly to posts by group members if they request information,     express a desire to improve their fitness, or express dissatisfaction with their current fitness.     Given the following member post delimitted by triple backticks,      indicate whether you need to quickly respond to the message or not using \"yes\" or \"no\". ```{text}```</td>\n",
       "    </tr>\n",
       "  </tbody>\n",
       "</table>\n",
       "</div>"
      ],
      "text/plain": [
       "                                                                                                                                                                                                                                                                                                                                                                                                                                                                     sentiment  \\\n",
       "0  You are the owner of a personal training business. You use a Facebook group to as a lead generation tool.     You aim to respond quickly to posts by group members if they request information,     express a desire to improve their fitness, or express dissatisfaction with their current fitness.     Given the following member post delimitted by triple backticks,      determine the sentiment of the message as \"positive\", \"neutral\", or \"negative\". ```{text}```   \n",
       "1  You are the owner of a personal training business. You use a Facebook group to as a lead generation tool.     You aim to respond quickly to posts by group members if they request information,     express a desire to improve their fitness, or express dissatisfaction with their current fitness.     Given the following member post delimitted by triple backticks,      determine the sentiment of the message as \"positive\", \"neutral\", or \"negative\". ```{text}```   \n",
       "2  You are the owner of a personal training business. You use a Facebook group to as a lead generation tool.     You aim to respond quickly to posts by group members if they request information,     express a desire to improve their fitness, or express dissatisfaction with their current fitness.     Given the following member post delimitted by triple backticks,      determine the sentiment of the message as \"positive\", \"neutral\", or \"negative\". ```{text}```   \n",
       "\n",
       "                                                                                                                                                                                                                                                                                                                                                                                                                                       emotions  \\\n",
       "0  You are the owner of a personal training business. You use a Facebook group to as a lead generation tool.     You aim to respond quickly to posts by group members if they request information,     express a desire to improve their fitness, or express dissatisfaction with their current fitness.     Given the following member post delimitted by triple backticks,      determine the emotions expressed in the message. ```{text}```   \n",
       "1  You are the owner of a personal training business. You use a Facebook group to as a lead generation tool.     You aim to respond quickly to posts by group members if they request information,     express a desire to improve their fitness, or express dissatisfaction with their current fitness.     Given the following member post delimitted by triple backticks,      determine the emotions expressed in the message. ```{text}```   \n",
       "2  You are the owner of a personal training business. You use a Facebook group to as a lead generation tool.     You aim to respond quickly to posts by group members if they request information,     express a desire to improve their fitness, or express dissatisfaction with their current fitness.     Given the following member post delimitted by triple backticks,      determine the emotions expressed in the message. ```{text}```   \n",
       "\n",
       "                                                                                                                                                                                                                                                                                                                                                                                                                                                                               respond  \n",
       "0  You are the owner of a personal training business. You use a Facebook group to as a lead generation tool.     You aim to respond quickly to posts by group members if they request information,     express a desire to improve their fitness, or express dissatisfaction with their current fitness.     Given the following member post delimitted by triple backticks,      indicate whether you need to quickly respond to the message or not using \"yes\" or \"no\". ```{text}```  \n",
       "1  You are the owner of a personal training business. You use a Facebook group to as a lead generation tool.     You aim to respond quickly to posts by group members if they request information,     express a desire to improve their fitness, or express dissatisfaction with their current fitness.     Given the following member post delimitted by triple backticks,      indicate whether you need to quickly respond to the message or not using \"yes\" or \"no\". ```{text}```  \n",
       "2  You are the owner of a personal training business. You use a Facebook group to as a lead generation tool.     You aim to respond quickly to posts by group members if they request information,     express a desire to improve their fitness, or express dissatisfaction with their current fitness.     Given the following member post delimitted by triple backticks,      indicate whether you need to quickly respond to the message or not using \"yes\" or \"no\". ```{text}```  "
      ]
     },
     "execution_count": 76,
     "metadata": {},
     "output_type": "execute_result"
    }
   ],
   "source": [
    "create_df_from_response(prompt_dict[iteration_id])"
   ]
  },
  {
   "attachments": {},
   "cell_type": "markdown",
   "metadata": {},
   "source": [
    "### 2.11 additional messages"
   ]
  },
  {
   "cell_type": "code",
   "execution_count": 67,
   "metadata": {},
   "outputs": [
    {
     "name": "stdout",
     "output_type": "stream",
     "text": [
      "\n",
      "\n",
      "\u001b[1m> Entering new  chain...\u001b[0m\n",
      "\n",
      "\u001b[1m> Finished chain.\u001b[0m\n",
      "\n",
      "\n",
      "\u001b[1m> Entering new  chain...\u001b[0m\n",
      "\n",
      "\u001b[1m> Finished chain.\u001b[0m\n",
      "\n",
      "\n",
      "\u001b[1m> Entering new  chain...\u001b[0m\n",
      "\n",
      "\u001b[1m> Finished chain.\u001b[0m\n"
     ]
    },
    {
     "data": {
      "text/plain": [
       "{0: {'text': 'I am preparing to run a marathon.', 'sentiment': '\\n\\nPositive', 'emotions': '\\n\\nThe emotions expressed in the message are determination and enthusiasm.', 'respond': '\\n\\nYes'}, 1: {'text': 'I am preparing to run a marathon!', 'sentiment': '\\n\\nPositive', 'emotions': '\\n\\nThe emotions expressed in this message are enthusiasm, excitement, and determination.', 'respond': '\\n\\nYes'}, 2: {'text': \"My doctor warned me about my cholesterol but I think he's stupid.\", 'sentiment': '\\n\\nNegative.', 'emotions': '\\n\\nThe emotions expressed in this message are frustration and anger.', 'respond': '\\n\\nYes'}}"
      ]
     },
     "execution_count": 67,
     "metadata": {},
     "output_type": "execute_result"
    }
   ],
   "source": [
    "iteration_id = 2.11\n",
    "# prompt_dict = dict()\n",
    "# message_dict = dict()\n",
    "\n",
    "messages_list = [\n",
    "    # 'I struggle to pick up my toddler',\n",
    "    # \"I want my arms to look like Michelle Obama\\'s\",\n",
    "    # \"What's the best way to get fit?\",\n",
    "    # \"My knees are always achy\",\n",
    "    # \"My personal trainer doesn't understand me\",\n",
    "    # \"I love your ball gown\",\n",
    "    # \"Nancy looks great in that photo\",\n",
    "    # \"Happy Mother's Day!\",\n",
    "    \"I am preparing to run a marathon.\",\n",
    "    \"I am preparing to run a marathon!\",\n",
    "    \"My doctor warned me about my cholesterol but I think he's stupid.\"\n",
    "]\n",
    "\n",
    "\n",
    "\n",
    "response[iteration_id], prompt_dict[iteration_id] = batch_analyze_text_sentiment(messages_list)\n",
    "response[iteration_id]"
   ]
  },
  {
   "cell_type": "code",
   "execution_count": 72,
   "metadata": {},
   "outputs": [
    {
     "data": {
      "text/html": [
       "<div>\n",
       "<style scoped>\n",
       "    .dataframe tbody tr th:only-of-type {\n",
       "        vertical-align: middle;\n",
       "    }\n",
       "\n",
       "    .dataframe tbody tr th {\n",
       "        vertical-align: top;\n",
       "    }\n",
       "\n",
       "    .dataframe thead th {\n",
       "        text-align: right;\n",
       "    }\n",
       "</style>\n",
       "<table border=\"1\" class=\"dataframe\">\n",
       "  <thead>\n",
       "    <tr style=\"text-align: right;\">\n",
       "      <th></th>\n",
       "      <th>text</th>\n",
       "      <th>sentiment</th>\n",
       "      <th>emotions</th>\n",
       "      <th>respond</th>\n",
       "    </tr>\n",
       "  </thead>\n",
       "  <tbody>\n",
       "    <tr>\n",
       "      <th>0</th>\n",
       "      <td>I am preparing to run a marathon.</td>\n",
       "      <td>Positive</td>\n",
       "      <td>The emotions expressed in the message are determination and enthusiasm.</td>\n",
       "      <td>Yes</td>\n",
       "    </tr>\n",
       "    <tr>\n",
       "      <th>1</th>\n",
       "      <td>I am preparing to run a marathon!</td>\n",
       "      <td>Positive</td>\n",
       "      <td>The emotions expressed in this message are enthusiasm, excitement, and determination.</td>\n",
       "      <td>Yes</td>\n",
       "    </tr>\n",
       "    <tr>\n",
       "      <th>2</th>\n",
       "      <td>My doctor warned me about my cholesterol but I think he's stupid.</td>\n",
       "      <td>Negative.</td>\n",
       "      <td>The emotions expressed in this message are frustration and anger.</td>\n",
       "      <td>Yes</td>\n",
       "    </tr>\n",
       "  </tbody>\n",
       "</table>\n",
       "</div>"
      ],
      "text/plain": [
       "                                                                text  \\\n",
       "0                                  I am preparing to run a marathon.   \n",
       "1                                  I am preparing to run a marathon!   \n",
       "2  My doctor warned me about my cholesterol but I think he's stupid.   \n",
       "\n",
       "   sentiment  \\\n",
       "0   Positive   \n",
       "1   Positive   \n",
       "2  Negative.   \n",
       "\n",
       "                                                                                emotions  \\\n",
       "0                The emotions expressed in the message are determination and enthusiasm.   \n",
       "1  The emotions expressed in this message are enthusiasm, excitement, and determination.   \n",
       "2                      The emotions expressed in this message are frustration and anger.   \n",
       "\n",
       "  respond  \n",
       "0     Yes  \n",
       "1     Yes  \n",
       "2     Yes  "
      ]
     },
     "execution_count": 72,
     "metadata": {},
     "output_type": "execute_result"
    }
   ],
   "source": [
    "create_df_from_response(response[2.11])"
   ]
  },
  {
   "cell_type": "code",
   "execution_count": 75,
   "metadata": {},
   "outputs": [
    {
     "data": {
      "text/html": [
       "<div>\n",
       "<style scoped>\n",
       "    .dataframe tbody tr th:only-of-type {\n",
       "        vertical-align: middle;\n",
       "    }\n",
       "\n",
       "    .dataframe tbody tr th {\n",
       "        vertical-align: top;\n",
       "    }\n",
       "\n",
       "    .dataframe thead th {\n",
       "        text-align: right;\n",
       "    }\n",
       "</style>\n",
       "<table border=\"1\" class=\"dataframe\">\n",
       "  <thead>\n",
       "    <tr style=\"text-align: right;\">\n",
       "      <th></th>\n",
       "      <th>text</th>\n",
       "      <th>sentiment</th>\n",
       "      <th>emotions</th>\n",
       "      <th>respond</th>\n",
       "    </tr>\n",
       "  </thead>\n",
       "  <tbody>\n",
       "    <tr>\n",
       "      <th>0</th>\n",
       "      <td>I struggle to pick up my toddler</td>\n",
       "      <td>Neutral</td>\n",
       "      <td>The emotions expressed in the message are frustration and difficulty.</td>\n",
       "      <td>Yes</td>\n",
       "    </tr>\n",
       "    <tr>\n",
       "      <th>1</th>\n",
       "      <td>I want my arms to look like Michelle Obama's</td>\n",
       "      <td>Positive</td>\n",
       "      <td>The emotions expressed in the message are desire and admiration.</td>\n",
       "      <td>Yes</td>\n",
       "    </tr>\n",
       "    <tr>\n",
       "      <th>2</th>\n",
       "      <td>What's the best way to get fit?</td>\n",
       "      <td>Positive</td>\n",
       "      <td>Answer: Curiosity, Desire for Improvement</td>\n",
       "      <td>Yes.</td>\n",
       "    </tr>\n",
       "    <tr>\n",
       "      <th>3</th>\n",
       "      <td>My knees are always achy</td>\n",
       "      <td>Negative</td>\n",
       "      <td>The emotions expressed in the message are pain and discomfort.</td>\n",
       "      <td>Yes</td>\n",
       "    </tr>\n",
       "    <tr>\n",
       "      <th>4</th>\n",
       "      <td>My personal trainer doesn't understand me</td>\n",
       "      <td>Negative</td>\n",
       "      <td>The emotions expressed in this message are frustration and dissatisfaction.</td>\n",
       "      <td>Yes</td>\n",
       "    </tr>\n",
       "    <tr>\n",
       "      <th>5</th>\n",
       "      <td>I love your ball gown</td>\n",
       "      <td>Positive</td>\n",
       "      <td>The emotion expressed in the message is \"love\".</td>\n",
       "      <td>No.</td>\n",
       "    </tr>\n",
       "    <tr>\n",
       "      <th>6</th>\n",
       "      <td>Nancy looks great in that photo</td>\n",
       "      <td>Positive</td>\n",
       "      <td>The emotions expressed in the message are admiration, admiration, and appreciation.</td>\n",
       "      <td>No.</td>\n",
       "    </tr>\n",
       "    <tr>\n",
       "      <th>7</th>\n",
       "      <td>Happy Mother's Day!</td>\n",
       "      <td>Positive</td>\n",
       "      <td>The emotion expressed in this message is happiness.</td>\n",
       "      <td>No.</td>\n",
       "    </tr>\n",
       "    <tr>\n",
       "      <th>0</th>\n",
       "      <td>I am preparing to run a marathon.</td>\n",
       "      <td>Positive</td>\n",
       "      <td>The emotions expressed in the message are determination and enthusiasm.</td>\n",
       "      <td>Yes</td>\n",
       "    </tr>\n",
       "    <tr>\n",
       "      <th>1</th>\n",
       "      <td>I am preparing to run a marathon!</td>\n",
       "      <td>Positive</td>\n",
       "      <td>The emotions expressed in this message are enthusiasm, excitement, and determination.</td>\n",
       "      <td>Yes</td>\n",
       "    </tr>\n",
       "    <tr>\n",
       "      <th>2</th>\n",
       "      <td>My doctor warned me about my cholesterol but I think he's stupid.</td>\n",
       "      <td>Negative.</td>\n",
       "      <td>The emotions expressed in this message are frustration and anger.</td>\n",
       "      <td>Yes</td>\n",
       "    </tr>\n",
       "  </tbody>\n",
       "</table>\n",
       "</div>"
      ],
      "text/plain": [
       "                                                                text  \\\n",
       "0                                   I struggle to pick up my toddler   \n",
       "1                       I want my arms to look like Michelle Obama's   \n",
       "2                                    What's the best way to get fit?   \n",
       "3                                           My knees are always achy   \n",
       "4                          My personal trainer doesn't understand me   \n",
       "5                                              I love your ball gown   \n",
       "6                                    Nancy looks great in that photo   \n",
       "7                                                Happy Mother's Day!   \n",
       "0                                  I am preparing to run a marathon.   \n",
       "1                                  I am preparing to run a marathon!   \n",
       "2  My doctor warned me about my cholesterol but I think he's stupid.   \n",
       "\n",
       "   sentiment  \\\n",
       "0    Neutral   \n",
       "1   Positive   \n",
       "2   Positive   \n",
       "3   Negative   \n",
       "4   Negative   \n",
       "5   Positive   \n",
       "6   Positive   \n",
       "7   Positive   \n",
       "0   Positive   \n",
       "1   Positive   \n",
       "2  Negative.   \n",
       "\n",
       "                                                                                emotions  \\\n",
       "0                  The emotions expressed in the message are frustration and difficulty.   \n",
       "1                       The emotions expressed in the message are desire and admiration.   \n",
       "2                                              Answer: Curiosity, Desire for Improvement   \n",
       "3                         The emotions expressed in the message are pain and discomfort.   \n",
       "4            The emotions expressed in this message are frustration and dissatisfaction.   \n",
       "5                                        The emotion expressed in the message is \"love\".   \n",
       "6    The emotions expressed in the message are admiration, admiration, and appreciation.   \n",
       "7                                    The emotion expressed in this message is happiness.   \n",
       "0                The emotions expressed in the message are determination and enthusiasm.   \n",
       "1  The emotions expressed in this message are enthusiasm, excitement, and determination.   \n",
       "2                      The emotions expressed in this message are frustration and anger.   \n",
       "\n",
       "  respond  \n",
       "0     Yes  \n",
       "1     Yes  \n",
       "2    Yes.  \n",
       "3     Yes  \n",
       "4     Yes  \n",
       "5     No.  \n",
       "6     No.  \n",
       "7     No.  \n",
       "0     Yes  \n",
       "1     Yes  \n",
       "2     Yes  "
      ]
     },
     "execution_count": 75,
     "metadata": {},
     "output_type": "execute_result"
    }
   ],
   "source": [
    "df_dict = {\n",
    "    iteration_id: pd.concat([df, create_df_from_response(response[2.11])], axis=0)\n",
    "}\n",
    "df_dict[iteration_id]"
   ]
  },
  {
   "cell_type": "code",
   "execution_count": 79,
   "metadata": {},
   "outputs": [
    {
     "name": "stdout",
     "output_type": "stream",
     "text": [
      "File saved:  ../outputs/ChatGPT_responses_2023-06-30_1300.sav\n",
      "\tTime completed: 2023-06-30 13:00:51.106280\n",
      "File saved:  ../outputs/ChatGPT_prompts_2023-06-30_1300.sav\n",
      "\tTime completed: 2023-06-30 13:00:51.119918\n"
     ]
    }
   ],
   "source": [
    "path = '../outputs'\n",
    "savepickle(\n",
    "    df_dict[iteration_id], filename = 'ChatGPT_responses_', path=path,\n",
    "    append_version=True\n",
    ")\n",
    "\n",
    "savepickle(\n",
    "    create_df_from_response(prompt_dict[iteration_id]),\n",
    "    filename = 'ChatGPT_prompts_', path=path,\n",
    "    append_version=True\n",
    ")\n"
   ]
  },
  {
   "attachments": {},
   "cell_type": "markdown",
   "metadata": {},
   "source": []
  },
  {
   "cell_type": "code",
   "execution_count": null,
   "metadata": {},
   "outputs": [],
   "source": []
  },
  {
   "cell_type": "code",
   "execution_count": null,
   "metadata": {},
   "outputs": [],
   "source": []
  },
  {
   "cell_type": "code",
   "execution_count": null,
   "metadata": {},
   "outputs": [],
   "source": []
  },
  {
   "cell_type": "code",
   "execution_count": null,
   "metadata": {},
   "outputs": [],
   "source": []
  },
  {
   "cell_type": "code",
   "execution_count": null,
   "metadata": {},
   "outputs": [],
   "source": []
  },
  {
   "cell_type": "code",
   "execution_count": null,
   "metadata": {},
   "outputs": [],
   "source": []
  },
  {
   "cell_type": "code",
   "execution_count": null,
   "metadata": {},
   "outputs": [],
   "source": []
  },
  {
   "cell_type": "code",
   "execution_count": null,
   "metadata": {},
   "outputs": [],
   "source": []
  },
  {
   "cell_type": "code",
   "execution_count": null,
   "metadata": {},
   "outputs": [],
   "source": []
  },
  {
   "cell_type": "code",
   "execution_count": null,
   "metadata": {},
   "outputs": [],
   "source": []
  },
  {
   "cell_type": "code",
   "execution_count": null,
   "metadata": {},
   "outputs": [],
   "source": []
  },
  {
   "cell_type": "code",
   "execution_count": null,
   "metadata": {},
   "outputs": [],
   "source": []
  },
  {
   "cell_type": "code",
   "execution_count": null,
   "metadata": {},
   "outputs": [],
   "source": []
  },
  {
   "cell_type": "code",
   "execution_count": null,
   "metadata": {},
   "outputs": [],
   "source": []
  },
  {
   "cell_type": "code",
   "execution_count": null,
   "metadata": {},
   "outputs": [],
   "source": []
  },
  {
   "cell_type": "code",
   "execution_count": null,
   "metadata": {},
   "outputs": [],
   "source": []
  },
  {
   "cell_type": "code",
   "execution_count": null,
   "metadata": {},
   "outputs": [],
   "source": []
  },
  {
   "cell_type": "code",
   "execution_count": null,
   "metadata": {},
   "outputs": [],
   "source": []
  },
  {
   "cell_type": "code",
   "execution_count": null,
   "metadata": {},
   "outputs": [],
   "source": []
  },
  {
   "cell_type": "code",
   "execution_count": null,
   "metadata": {},
   "outputs": [],
   "source": []
  },
  {
   "attachments": {},
   "cell_type": "markdown",
   "metadata": {},
   "source": [
    "# *End of Page*"
   ]
  }
 ],
 "metadata": {
  "kernelspec": {
   "display_name": "Python 3.9.13 64-bit",
   "language": "python",
   "name": "python3"
  },
  "language_info": {
   "codemirror_mode": {
    "name": "ipython",
    "version": 3
   },
   "file_extension": ".py",
   "mimetype": "text/x-python",
   "name": "python",
   "nbconvert_exporter": "python",
   "pygments_lexer": "ipython3",
   "version": "3.10.11"
  },
  "orig_nbformat": 4,
  "vscode": {
   "interpreter": {
    "hash": "11938c6bc6919ae2720b4d5011047913343b08a43b18698fd82dedb0d4417594"
   }
  }
 },
 "nbformat": 4,
 "nbformat_minor": 2
}
